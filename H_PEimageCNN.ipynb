{
  "nbformat": 4,
  "nbformat_minor": 0,
  "metadata": {
    "colab": {
      "provenance": [],
      "machine_shape": "hm",
      "gpuType": "V100",
      "toc_visible": true,
      "authorship_tag": "ABX9TyOVotic8PKzC+hRCISYW12j"
    },
    "kernelspec": {
      "name": "python3",
      "display_name": "Python 3"
    },
    "accelerator": "GPU"
  },
  "cells": [
    {
      "cell_type": "markdown",
      "source": [
        "# Homework PE image by CNN\n"
      ],
      "metadata": {
        "id": "yPtC45SLiNxw"
      }
    },
    {
      "cell_type": "markdown",
      "source": [
        "Your name?\n",
        "\n",
        "Student ID?\n",
        "\n",
        "Department?"
      ],
      "metadata": {
        "id": "y_jhE7_NidwY"
      }
    },
    {
      "cell_type": "markdown",
      "metadata": {
        "id": "njbVq0jShEBz"
      },
      "source": [
        "# Using CNN to classifiy malicious PE files into malware family\n",
        "\n",
        "Please take a careful look at the following tutorial.\n",
        "\n",
        "https://www.tensorflow.org/tutorials/keras/classification\n",
        "\n",
        "It is an example of using tensorflow/keras to build a simple neural network to classify images of clothing. The images are 28x28 NumPy arrays, with pixel values ranging from 0 to 255. The labels are an array of integers, ranging from 0 to 9.\n",
        "\n",
        "Please write your homework by modifying this tutorial. We will provide you the first 748 bytes of several PE files and their corresponding class labels (just like the example in the tutorial). Please desgin a more complicated neural network (e.g., using convolution, pooling, dense, dropout, dense, softmax, ...) to increase the classification accuracy."
      ]
    },
    {
      "cell_type": "code",
      "metadata": {
        "id": "LYDFyLIgkYRZ",
        "colab": {
          "base_uri": "https://localhost:8080/"
        },
        "outputId": "f1283194-fbb1-4495-969a-31855604c7b2"
      },
      "source": [
        "# TensorFlow and tf.keras\n",
        "import tensorflow as tf\n",
        "from tensorflow import keras\n",
        "\n",
        "# Helper libraries\n",
        "import numpy as np\n",
        "import pandas as pd\n",
        "import matplotlib.pyplot as plt\n",
        "\n",
        "print(tf.__version__)"
      ],
      "execution_count": null,
      "outputs": [
        {
          "output_type": "stream",
          "name": "stdout",
          "text": [
            "2.15.0\n"
          ]
        }
      ]
    },
    {
      "cell_type": "markdown",
      "metadata": {
        "id": "PDNaCNOSjDgH"
      },
      "source": [
        "### Get pefiles\n",
        "\n"
      ]
    },
    {
      "cell_type": "code",
      "metadata": {
        "id": "fVDAjk_Hg_Yu"
      },
      "source": [
        "# get data from github\n",
        "\n",
        "import requests\n",
        "\n",
        "def download_request(url, out_name):\n",
        "    response = requests.get(url)\n",
        "    if response.status_code == 200:\n",
        "        with open(out_name, 'wb') as f:\n",
        "            f.write(response.content)\n",
        "    else:\n",
        "        print('Error: Failed to download the file')\n",
        "\n",
        "#\n",
        "url = 'https://github.com/hsiaom26/DS4CS-24/raw/main/data/pefiles.pickle'\n",
        "out_name = 'pefiles.pickle'\n",
        "download_request(url, out_name)"
      ],
      "execution_count": null,
      "outputs": []
    },
    {
      "cell_type": "code",
      "metadata": {
        "id": "xZHA0VTPjKY1",
        "colab": {
          "base_uri": "https://localhost:8080/"
        },
        "outputId": "b5376c5f-df70-4d38-cf50-204921cc0d52"
      },
      "source": [
        "!ls -al"
      ],
      "execution_count": null,
      "outputs": [
        {
          "output_type": "stream",
          "name": "stdout",
          "text": [
            "total 288\n",
            "drwxr-xr-x 1 root root   4096 Apr  9 05:22 .\n",
            "drwxr-xr-x 1 root root   4096 Apr  9 05:19 ..\n",
            "drwxr-xr-x 4 root root   4096 Apr  5 13:20 .config\n",
            "-rw-r--r-- 1 root root 275871 Apr  9 05:27 pefiles.pickle\n",
            "drwxr-xr-x 1 root root   4096 Apr  5 13:21 sample_data\n"
          ]
        }
      ]
    },
    {
      "cell_type": "markdown",
      "metadata": {
        "id": "-hUYU--mjpHD"
      },
      "source": [
        "### load training data"
      ]
    },
    {
      "cell_type": "code",
      "metadata": {
        "id": "ZxzLOj1vjw0H"
      },
      "source": [
        "import pickle\n",
        "\n",
        "def my_load_data(p):\n",
        "  with open(p, 'rb') as fd:\n",
        "    tu = pickle.load(fd)\n",
        "  return (tu[0], tu[1])"
      ],
      "execution_count": null,
      "outputs": []
    },
    {
      "cell_type": "code",
      "metadata": {
        "id": "iRRI5NE-jMmh"
      },
      "source": [
        "(train_images, train_labels) = my_load_data(\"/content/pefiles.pickle\")"
      ],
      "execution_count": null,
      "outputs": []
    },
    {
      "cell_type": "code",
      "metadata": {
        "id": "bgqyrpLOkqZx"
      },
      "source": [
        "# now go https://www.tensorflow.org/tutorials/keras/classification\n",
        "# and try to understand the tutorial\n",
        "# and write your code below.\n",
        "# My codes is very similar to the tutorial."
      ],
      "execution_count": null,
      "outputs": []
    },
    {
      "cell_type": "code",
      "metadata": {
        "id": "qxZ4y3Pdk7Ig",
        "colab": {
          "base_uri": "https://localhost:8080/"
        },
        "outputId": "337684f4-6b12-4f64-f661-b99fdbf26ff7"
      },
      "source": [
        "# our data includes 11 different malware families\n",
        "class_names = ['Urausy.C', 'Elkern.B', 'Fareit', 'Hotbar', 'Gepys.A', 'Bulta!rfn', 'Zbot',\n",
        "               'GameVance', 'Zegost.B', 'Bifrose.AE', 'Zbot!GO']\n",
        "len_classes = len(class_names)\n",
        "\n",
        "print(len_classes)"
      ],
      "execution_count": null,
      "outputs": [
        {
          "output_type": "stream",
          "name": "stdout",
          "text": [
            "11\n"
          ]
        }
      ]
    },
    {
      "cell_type": "markdown",
      "metadata": {
        "id": "V9Ncbl6IlUh1"
      },
      "source": [
        "### Explore the data"
      ]
    },
    {
      "cell_type": "code",
      "metadata": {
        "id": "ZnphVAxKlVJH",
        "colab": {
          "base_uri": "https://localhost:8080/"
        },
        "outputId": "ef3188b6-b4b1-4795-bde9-347699249347"
      },
      "source": [
        "# We have 3xx malware pefiles, and each of them is represented as a 28x28 byte array.\n",
        "train_images.shape"
      ],
      "execution_count": null,
      "outputs": [
        {
          "output_type": "execute_result",
          "data": {
            "text/plain": [
              "(348, 28, 28)"
            ]
          },
          "metadata": {},
          "execution_count": 12
        }
      ]
    },
    {
      "cell_type": "code",
      "metadata": {
        "id": "kFVRbQCFlZdd",
        "colab": {
          "base_uri": "https://localhost:8080/"
        },
        "outputId": "c69b6220-17f8-4200-f0cd-6b5bb892c9ff"
      },
      "source": [
        "# The lenght of the label is 356 as well.\n",
        "len(train_labels)"
      ],
      "execution_count": null,
      "outputs": [
        {
          "output_type": "execute_result",
          "data": {
            "text/plain": [
              "348"
            ]
          },
          "metadata": {},
          "execution_count": 13
        }
      ]
    },
    {
      "cell_type": "code",
      "metadata": {
        "id": "qiaQHLfKlmrP",
        "colab": {
          "base_uri": "https://localhost:8080/"
        },
        "outputId": "0d11955e-9a2e-419f-c28f-170832c6983e"
      },
      "source": [
        "# Each label is an integer (ranging from 0 to 10).\n",
        "# The 1st malware's label is 4.\n",
        "# See class_names. Its index starts from 0.\n",
        "train_labels"
      ],
      "execution_count": null,
      "outputs": [
        {
          "output_type": "execute_result",
          "data": {
            "text/plain": [
              "array([4, 3, 4, 3, 1, 8, 8, 1, 3, 5, 1, 4, 8, 0, 3, 3, 8, 5, 4, 8, 1, 6,\n",
              "       4, 8, 4, 1, 2, 0, 8, 3, 1, 1, 2, 4, 1, 4, 4, 1, 8, 5, 6, 1, 4, 3,\n",
              "       3, 4, 3, 5, 3, 3, 3, 5, 5, 4, 4, 3, 5, 4, 4, 0, 8, 3, 3, 4, 2, 4,\n",
              "       3, 6, 3, 5, 8, 1, 5, 8, 3, 3, 1, 5, 2, 4, 6, 0, 8, 5, 3, 3, 3, 2,\n",
              "       5, 3, 4, 6, 6, 1, 5, 8, 3, 4, 4, 3, 3, 8, 1, 3, 3, 3, 3, 5, 4, 2,\n",
              "       6, 3, 4, 3, 4, 8, 1, 3, 1, 1, 0, 0, 4, 4, 5, 5, 8, 3, 2, 3, 3, 3,\n",
              "       4, 0, 5, 0, 1, 8, 4, 2, 1, 3, 5, 1, 1, 4, 2, 8, 4, 4, 3, 1, 4, 8,\n",
              "       4, 4, 3, 4, 0, 5, 4, 3, 3, 8, 6, 4, 4, 0, 8, 3, 4, 5, 3, 4, 5, 1,\n",
              "       2, 3, 1, 3, 3, 3, 4, 5, 3, 8, 5, 3, 6, 4, 4, 3, 4, 2, 4, 3, 8, 1,\n",
              "       4, 5, 4, 3, 6, 1, 3, 3, 4, 8, 4, 8, 5, 5, 6, 0, 4, 3, 4, 5, 4, 3,\n",
              "       3, 3, 4, 3, 4, 5, 3, 4, 8, 3, 5, 1, 5, 1, 3, 1, 2, 4, 0, 3, 1, 1,\n",
              "       0, 3, 8, 3, 3, 5, 5, 0, 5, 4, 3, 8, 4, 6, 3, 0, 5, 5, 1, 6, 1, 3,\n",
              "       5, 6, 8, 1, 1, 5, 4, 6, 4, 5, 5, 3, 1, 1, 4, 6, 5, 4, 4, 4, 1, 3,\n",
              "       6, 4, 8, 8, 4, 8, 3, 1, 1, 2, 1, 6, 3, 4, 3, 0, 8, 8, 8, 4, 1, 3,\n",
              "       3, 3, 8, 3, 1, 4, 3, 6, 6, 3, 4, 5, 8, 4, 1, 8, 4, 5, 8, 3, 5, 5,\n",
              "       1, 0, 8, 0, 6, 3, 8, 6, 0, 4, 2, 3, 1, 4, 1, 8, 6, 8])"
            ]
          },
          "metadata": {},
          "execution_count": 14
        }
      ]
    },
    {
      "cell_type": "code",
      "metadata": {
        "id": "Wbcbt1D0lvjQ",
        "colab": {
          "base_uri": "https://localhost:8080/",
          "height": 68
        },
        "outputId": "6e25b476-016d-4e92-bc49-1ca12dc4a794"
      },
      "source": [
        "# An example of first (indexed by 0) PE files.\n",
        "# It is a 28x28 integer matrix.\n",
        "train_images[0]"
      ],
      "execution_count": null,
      "outputs": [
        {
          "output_type": "execute_result",
          "data": {
            "text/plain": [
              "array([[ 77,  90, 144,   0,   3,   0,   0,   0,   4,   0,   0,   0, 255,\n",
              "        255,   0,   0, 184,   0,   0,   0,   0,   0,   0,   0,  64,   0,\n",
              "          0,   0],\n",
              "       [  0,   0,   0,   0,   0,   0,   0,   0,   0,   0,   0,   0,   0,\n",
              "          0,   0,   0,   0,   0,   0,   0,   0,   0,   0,   0,   0,   0,\n",
              "          0,   0],\n",
              "       [  0,   0,   0,   0, 248,   0,   0,   0,  14,  31, 186,  14,   0,\n",
              "        180,   9, 205,  33, 184,   1,  76, 205,  33,  84, 104, 105, 115,\n",
              "         32, 112],\n",
              "       [114, 111, 103, 114,  97, 109,  32,  99,  97, 110, 110, 111, 116,\n",
              "         32,  98, 101,  32, 114, 117, 110,  32, 105, 110,  32,  68,  79,\n",
              "         83,  32],\n",
              "       [109, 111, 100, 101,  46,  13,  13,  10,  36,   0,   0,   0,   0,\n",
              "          0,   0,   0, 165,  63,  53,  94, 225,  94,  91,  13, 225,  94,\n",
              "         91,  13],\n",
              "       [225,  94,  91,  13, 142,  40, 240,  13, 228,  94,  91,  13, 250,\n",
              "        195, 197,  13, 251,  94,  91,  13, 250, 195, 241,  13,  68,  94,\n",
              "         91,  13],\n",
              "       [250, 195, 240,  13, 171,  94,  91,  13, 232,  38, 216,  13, 235,\n",
              "         94,  91,  13, 232,  38, 200,  13, 242,  94,  91,  13, 225,  94,\n",
              "         90,  13],\n",
              "       [141,  95,  91,  13, 250, 195, 244,  13, 200,  94,  91,  13, 250,\n",
              "        195, 193,  13, 224,  94,  91,  13, 250, 195, 198,  13, 224,  94,\n",
              "         91,  13],\n",
              "       [ 82, 105,  99, 104, 225,  94,  91,  13,   0,   0,   0,   0,   0,\n",
              "          0,   0,   0,   0,   0,   0,   0,   0,   0,   0,   0,  80,  69,\n",
              "          0,   0],\n",
              "       [ 76,   1,   3,   0,  12, 169,  39,  81,   0,   0,   0,   0,   0,\n",
              "          0,   0,   0, 224,   0,   3,   1,  11,   1,  10,   0,   0,  48,\n",
              "          5,   0],\n",
              "       [  0,  32,   0,   0,   0, 144,   6,   0, 176, 195,  11,   0,   0,\n",
              "        160,   6,   0,   0, 208,  11,   0,   0,   0,  64,   0,   0,  16,\n",
              "          0,   0],\n",
              "       [  0,   2,   0,   0,   5,   0,   1,   0,   0,   0,   0,   0,   5,\n",
              "          0,   1,   0,   0,   0,   0,   0,   0, 240,  11,   0,   0,  16,\n",
              "          0,   0],\n",
              "       [ 47,  83,   6,   0,   2,   0,  64, 129,   0,   0,  16,   0,   0,\n",
              "         16,   0,   0,   0,   0,  16,   0,   0,  16,   0,   0,   0,   0,\n",
              "          0,   0],\n",
              "       [ 16,   0,   0,   0,   0,   0,   0,   0,   0,   0,   0,   0,  92,\n",
              "        235,  11,   0,  48,   2,   0,   0,   0, 208,  11,   0,  92,  27,\n",
              "          0,   0],\n",
              "       [  0,   0,   0,   0,   0,   0,   0,   0,   0,  72,   5,   0, 176,\n",
              "         14,   0,   0,   0,   0,   0,   0,   0,   0,   0,   0,   0,   0,\n",
              "          0,   0],\n",
              "       [  0,   0,   0,   0,   0,   0,   0,   0,   0,   0,   0,   0,   0,\n",
              "          0,   0,   0,   0,   0,   0,   0,   0,   0,   0,   0,   0,   0,\n",
              "          0,   0],\n",
              "       [100, 197,  11,   0,  72,   0,   0,   0,   0,   0,   0,   0,   0,\n",
              "          0,   0,   0,   0,   0,   0,   0,   0,   0,   0,   0,   0,   0,\n",
              "          0,   0],\n",
              "       [  0,   0,   0,   0,   0,   0,   0,   0,   0,   0,   0,   0,   0,\n",
              "          0,   0,   0,   0,   0,   0,   0,  85,  80,  88,  48,   0,   0,\n",
              "          0,   0],\n",
              "       [  0, 144,   6,   0,   0,  16,   0,   0,   0,   0,   0,   0,   0,\n",
              "          4,   0,   0,   0,   0,   0,   0,   0,   0,   0,   0,   0,   0,\n",
              "          0,   0],\n",
              "       [128,   0,   0, 224,  85,  80,  88,  49,   0,   0,   0,   0,   0,\n",
              "         48,   5,   0,   0, 160,   6,   0,   0,  38,   5,   0,   0,   4,\n",
              "          0,   0],\n",
              "       [  0,   0,   0,   0,   0,   0,   0,   0,   0,   0,   0,   0,  64,\n",
              "          0,   0, 224,  46, 114, 115, 114,  99,   0,   0,   0,   0,  32,\n",
              "          0,   0],\n",
              "       [  0, 208,  11,   0,   0,  30,   0,   0,   0,  42,   5,   0,   0,\n",
              "          0,   0,   0,   0,   0,   0,   0,   0,   0,   0,   0,  64,   0,\n",
              "          0, 192],\n",
              "       [  0,   0,   0,   0,   0,   0,   0,   0,   0,   0,   0,   0,   0,\n",
              "          0,   0,   0,   0,   0,   0,   0,   0,   0,   0,   0,   0,   0,\n",
              "          0,   0],\n",
              "       [  0,   0,   0,   0,   0,   0,   0,   0,   0,   0,   0,   0,   0,\n",
              "          0,   0,   0,   0,   0,   0,   0,   0,   0,   0,   0,   0,   0,\n",
              "          0,   0],\n",
              "       [  0,   0,   0,   0,   0,   0,   0,   0,   0,   0,   0,   0,   0,\n",
              "          0,   0,   0,   0,   0,   0,   0,   0,   0,   0,   0,   0,   0,\n",
              "          0,   0],\n",
              "       [  0,   0,   0,   0,   0,   0,   0,   0,   0,   0,   0,   0,   0,\n",
              "          0,   0,   0,   0,   0,   0,   0,   0,   0,   0,   0,   0,   0,\n",
              "          0,   0],\n",
              "       [  0,   0,   0,   0,   0,   0,   0,   0,   0,   0,   0,   0,   0,\n",
              "          0,   0,   0,   0,   0,   0,   0,   0,   0,   0,   0,   0,   0,\n",
              "          0,   0],\n",
              "       [  0,   0,   0,   0,   0,   0,   0,   0,   0,   0,   0,   0,   0,\n",
              "          0,   0,   0,   0,   0,   0,   0,   0,   0,   0,   0,   0,   0,\n",
              "          0,   0]], dtype=uint8)"
            ],
            "text/html": [
              "<style>\n",
              "      .ndarray_repr .ndarray_raw_data {\n",
              "        display: none;\n",
              "      }\n",
              "      .ndarray_repr.show_array .ndarray_raw_data {\n",
              "        display: block;\n",
              "      }\n",
              "      .ndarray_repr.show_array .ndarray_image_preview {\n",
              "        display: none;\n",
              "      }\n",
              "      </style>\n",
              "      <div id=\"id-dd615b10-b942-4383-869a-770ae631f3d4\" class=\"ndarray_repr\"><pre>ndarray (28, 28) <button style=\"padding: 0 2px;\">show data</button></pre><img src=\"data:image/png;base64,iVBORw0KGgoAAAANSUhEUgAAABwAAAAcCAAAAABXZoBIAAABjElEQVR4nM2RTyikcRzGP795/4Sf33DbbRWjNP5ccJvjhANll12UvHpPFDdxVuSuKbfdVi7att2DXg7iQtOUy9S0J4ctr1KUZBCNGa9xeEeDqDl6Lk99n6dv3+f58nkkhgboQD4Pm/iIUgoyQLBuK8hGebJ+U/Qm6wcnJmdCU2Lay8jzyvXOe4Uw/nZo29+0W6fHcBqkntRzAe8qecCvT/8Blln9ftO8O+ud7c56ZxzallpsSqsj21LZeELlbEtl4xeqy7YU2Xha/bEtdRLeV6e2pU7Ce+rSttShPaL0pX939H1sd9zIAlXj904mskTZuObkEeiJD1nr+IdHBDCBUIGnrrehV2hU/m78+hjLRRNSVECbUbDGTNbiElZMSEm/n2qAABgIoMikpS+2DpgEiM5DdcH9yBQZYPRU0hYAUpLRmqcFdxusBUt6RQFjCUn3G5p4bTiUK9tPARAzi1fpL1xz4A71D7cDfisrJoQN0F+sje7gfukS+YufQMjFr6sWaDGebYzCTkmJ3g0eAF11cXFMqR4+AAAAAElFTkSuQmCC\" class=\"ndarray_image_preview\" /><pre class=\"ndarray_raw_data\">array([[ 77,  90, 144,   0,   3,   0,   0,   0,   4,   0,   0,   0, 255,\n",
              "        255,   0,   0, 184,   0,   0,   0,   0,   0,   0,   0,  64,   0,\n",
              "          0,   0],\n",
              "       [  0,   0,   0,   0,   0,   0,   0,   0,   0,   0,   0,   0,   0,\n",
              "          0,   0,   0,   0,   0,   0,   0,   0,   0,   0,   0,   0,   0,\n",
              "          0,   0],\n",
              "       [  0,   0,   0,   0, 248,   0,   0,   0,  14,  31, 186,  14,   0,\n",
              "        180,   9, 205,  33, 184,   1,  76, 205,  33,  84, 104, 105, 115,\n",
              "         32, 112],\n",
              "       [114, 111, 103, 114,  97, 109,  32,  99,  97, 110, 110, 111, 116,\n",
              "         32,  98, 101,  32, 114, 117, 110,  32, 105, 110,  32,  68,  79,\n",
              "         83,  32],\n",
              "       [109, 111, 100, 101,  46,  13,  13,  10,  36,   0,   0,   0,   0,\n",
              "          0,   0,   0, 165,  63,  53,  94, 225,  94,  91,  13, 225,  94,\n",
              "         91,  13],\n",
              "       [225,  94,  91,  13, 142,  40, 240,  13, 228,  94,  91,  13, 250,\n",
              "        195, 197,  13, 251,  94,  91,  13, 250, 195, 241,  13,  68,  94,\n",
              "         91,  13],\n",
              "       [250, 195, 240,  13, 171,  94,  91,  13, 232,  38, 216,  13, 235,\n",
              "         94,  91,  13, 232,  38, 200,  13, 242,  94,  91,  13, 225,  94,\n",
              "         90,  13],\n",
              "       [141,  95,  91,  13, 250, 195, 244,  13, 200,  94,  91,  13, 250,\n",
              "        195, 193,  13, 224,  94,  91,  13, 250, 195, 198,  13, 224,  94,\n",
              "         91,  13],\n",
              "       [ 82, 105,  99, 104, 225,  94,  91,  13,   0,   0,   0,   0,   0,\n",
              "          0,   0,   0,   0,   0,   0,   0,   0,   0,   0,   0,  80,  69,\n",
              "          0,   0],\n",
              "       [ 76,   1,   3,   0,  12, 169,  39,  81,   0,   0,   0,   0,   0,\n",
              "          0,   0,   0, 224,   0,   3,   1,  11,   1,  10,   0,   0,  48,\n",
              "          5,   0],\n",
              "       [  0,  32,   0,   0,   0, 144,   6,   0, 176, 195,  11,   0,   0,\n",
              "        160,   6,   0,   0, 208,  11,   0,   0,   0,  64,   0,   0,  16,\n",
              "          0,   0],\n",
              "       [  0,   2,   0,   0,   5,   0,   1,   0,   0,   0,   0,   0,   5,\n",
              "          0,   1,   0,   0,   0,   0,   0,   0, 240,  11,   0,   0,  16,\n",
              "          0,   0],\n",
              "       [ 47,  83,   6,   0,   2,   0,  64, 129,   0,   0,  16,   0,   0,\n",
              "         16,   0,   0,   0,   0,  16,   0,   0,  16,   0,   0,   0,   0,\n",
              "          0,   0],\n",
              "       [ 16,   0,   0,   0,   0,   0,   0,   0,   0,   0,   0,   0,  92,\n",
              "        235,  11,   0,  48,   2,   0,   0,   0, 208,  11,   0,  92,  27,\n",
              "          0,   0],\n",
              "       [  0,   0,   0,   0,   0,   0,   0,   0,   0,  72,   5,   0, 176,\n",
              "         14,   0,   0,   0,   0,   0,   0,   0,   0,   0,   0,   0,   0,\n",
              "          0,   0],\n",
              "       [  0,   0,   0,   0,   0,   0,   0,   0,   0,   0,   0,   0,   0,\n",
              "          0,   0,   0,   0,   0,   0,   0,   0,   0,   0,   0,   0,   0,\n",
              "          0,   0],\n",
              "       [100, 197,  11,   0,  72,   0,   0,   0,   0,   0,   0,   0,   0,\n",
              "          0,   0,   0,   0,   0,   0,   0,   0,   0,   0,   0,   0,   0,\n",
              "          0,   0],\n",
              "       [  0,   0,   0,   0,   0,   0,   0,   0,   0,   0,   0,   0,   0,\n",
              "          0,   0,   0,   0,   0,   0,   0,  85,  80,  88,  48,   0,   0,\n",
              "          0,   0],\n",
              "       [  0, 144,   6,   0,   0,  16,   0,   0,   0,   0,   0,   0,   0,\n",
              "          4,   0,   0,   0,   0,   0,   0,   0,   0,   0,   0,   0,   0,\n",
              "          0,   0],\n",
              "       [128,   0,   0, 224,  85,  80,  88,  49,   0,   0,   0,   0,   0,\n",
              "         48,   5,   0,   0, 160,   6,   0,   0,  38,   5,   0,   0,   4,\n",
              "          0,   0],\n",
              "       [  0,   0,   0,   0,   0,   0,   0,   0,   0,   0,   0,   0,  64,\n",
              "          0,   0, 224,  46, 114, 115, 114,  99,   0,   0,   0,   0,  32,\n",
              "          0,   0],\n",
              "       [  0, 208,  11,   0,   0,  30,   0,   0,   0,  42,   5,   0,   0,\n",
              "          0,   0,   0,   0,   0,   0,   0,   0,   0,   0,   0,  64,   0,\n",
              "          0, 192],\n",
              "       [  0,   0,   0,   0,   0,   0,   0,   0,   0,   0,   0,   0,   0,\n",
              "          0,   0,   0,   0,   0,   0,   0,   0,   0,   0,   0,   0,   0,\n",
              "          0,   0],\n",
              "       [  0,   0,   0,   0,   0,   0,   0,   0,   0,   0,   0,   0,   0,\n",
              "          0,   0,   0,   0,   0,   0,   0,   0,   0,   0,   0,   0,   0,\n",
              "          0,   0],\n",
              "       [  0,   0,   0,   0,   0,   0,   0,   0,   0,   0,   0,   0,   0,\n",
              "          0,   0,   0,   0,   0,   0,   0,   0,   0,   0,   0,   0,   0,\n",
              "          0,   0],\n",
              "       [  0,   0,   0,   0,   0,   0,   0,   0,   0,   0,   0,   0,   0,\n",
              "          0,   0,   0,   0,   0,   0,   0,   0,   0,   0,   0,   0,   0,\n",
              "          0,   0],\n",
              "       [  0,   0,   0,   0,   0,   0,   0,   0,   0,   0,   0,   0,   0,\n",
              "          0,   0,   0,   0,   0,   0,   0,   0,   0,   0,   0,   0,   0,\n",
              "          0,   0],\n",
              "       [  0,   0,   0,   0,   0,   0,   0,   0,   0,   0,   0,   0,   0,\n",
              "          0,   0,   0,   0,   0,   0,   0,   0,   0,   0,   0,   0,   0,\n",
              "          0,   0]], dtype=uint8)</pre></div><script>\n",
              "      (() => {\n",
              "      const titles = ['show data', 'hide data'];\n",
              "      let index = 0\n",
              "      document.querySelector('#id-dd615b10-b942-4383-869a-770ae631f3d4 button').onclick = (e) => {\n",
              "        document.querySelector('#id-dd615b10-b942-4383-869a-770ae631f3d4').classList.toggle('show_array');\n",
              "        index = (++index) % 2;\n",
              "        document.querySelector('#id-dd615b10-b942-4383-869a-770ae631f3d4 button').textContent = titles[index];\n",
              "        e.preventDefault();\n",
              "        e.stopPropagation();\n",
              "      }\n",
              "      })();\n",
              "    </script>"
            ]
          },
          "metadata": {},
          "execution_count": 15
        }
      ]
    },
    {
      "cell_type": "markdown",
      "metadata": {
        "id": "EdwrMKuhnRPV"
      },
      "source": [
        "### Preprocess the data"
      ]
    },
    {
      "cell_type": "code",
      "metadata": {
        "id": "mM8aua7tmOT7",
        "colab": {
          "base_uri": "https://localhost:8080/",
          "height": 430
        },
        "outputId": "430d7dfd-d7c7-4935-802f-63904c6db1ab"
      },
      "source": [
        "plt.figure()\n",
        "plt.imshow(train_images[0])\n",
        "plt.colorbar()\n",
        "plt.grid(False)\n",
        "plt.show()\n",
        "\n",
        "\n",
        "# Note that we can view the first 28x28 bytes of a PE file as an image.\n",
        "# A byte with value 0 (or '0x00') has darkest color,\n",
        "# while a byte with value 255 (or '0xFF') has brightest color.\n",
        "# Below is the visualization of the first PE file."
      ],
      "execution_count": null,
      "outputs": [
        {
          "output_type": "display_data",
          "data": {
            "text/plain": [
              "<Figure size 640x480 with 2 Axes>"
            ],
            "image/png": "[encoded data removed]"
          },
          "metadata": {}
        }
      ]
    },
    {
      "cell_type": "code",
      "metadata": {
        "id": "pldW7dpcnfkh",
        "colab": {
          "base_uri": "https://localhost:8080/",
          "height": 826
        },
        "outputId": "be26629c-0013-47f8-9f1e-46686ecddf0a"
      },
      "source": [
        "# Here are the examples of 36 PE files,\n",
        "# presented as 28x28 images.\n",
        "# However, I use 'plt.cm.binary' to show only grey-scale color.\n",
        "# You may try the following page to change to other colors.\n",
        "# https://matplotlib.org/stable/tutorials/colors/colormaps.html\n",
        "\n",
        "plt.figure(figsize=(10,10))\n",
        "for i in range(36):\n",
        "    plt.subplot(6,6,i+1)\n",
        "    plt.xticks([])\n",
        "    plt.yticks([])\n",
        "    plt.grid(False)\n",
        "    plt.imshow(train_images[i], cmap=plt.cm.binary)\n",
        "    plt.xlabel(class_names[train_labels[i]])\n",
        "plt.show()"
      ],
      "execution_count": null,
      "outputs": [
        {
          "output_type": "display_data",
          "data": {
            "text/plain": [
              "<Figure size 1000x1000 with 36 Axes>"
            ],
            "image/png": "[encoded data removed]"
          },
          "metadata": {}
        }
      ]
    },
    {
      "cell_type": "markdown",
      "metadata": {
        "id": "Snw_N4mtoSkv"
      },
      "source": [
        "The above images are samples of different PE files. Could you visually distinguish them? Their labels are shown under each of the image.\n",
        "\n",
        "Q1: Before building the model, if there is anything you can do to the data, do it right here.\n"
      ]
    },
    {
      "cell_type": "code",
      "metadata": {
        "id": "JISk0HUfoH6U"
      },
      "source": [
        "# Any preprocessing?"
      ],
      "execution_count": null,
      "outputs": []
    },
    {
      "cell_type": "markdown",
      "metadata": {
        "id": "m5pwDPLApAyy"
      },
      "source": [
        "### Build the model"
      ]
    },
    {
      "cell_type": "code",
      "metadata": {
        "id": "NLB0CukEpDoz"
      },
      "source": [
        "# This is the model from tensorflow's example.\n",
        "# Please try to modify it.\n",
        "\n",
        "model = keras.Sequential([\n",
        "    keras.layers.Flatten(input_shape=(28, 28)),\n",
        "    keras.layers.Dense(128, activation='relu'),\n",
        "    keras.layers.Dense(len_classes)\n",
        "])"
      ],
      "execution_count": null,
      "outputs": []
    },
    {
      "cell_type": "code",
      "metadata": {
        "id": "OlamJI6vpbaC"
      },
      "source": [
        "# This is the training sonfig from tensorflow's example.\n",
        "# Please try to modify it.\n",
        "\n",
        "model.compile(optimizer='SGD',\n",
        "              loss=tf.keras.losses.SparseCategoricalCrossentropy(from_logits=True),\n",
        "              metrics=['accuracy'])"
      ],
      "execution_count": null,
      "outputs": []
    },
    {
      "cell_type": "markdown",
      "metadata": {
        "id": "4fTbI6yupoM-"
      },
      "source": [
        "Q2: Why the example use 'SparseCategoricalCrossentropy' and what is 'from_logits'? Is \"SGD\" good enough? (what if not?)\n",
        "\n",
        "A2:"
      ]
    },
    {
      "cell_type": "markdown",
      "metadata": {
        "id": "dh_KofJ8p27y"
      },
      "source": [
        "### Train the model"
      ]
    },
    {
      "cell_type": "code",
      "metadata": {
        "id": "Kk5jNTIvp2Hc",
        "colab": {
          "base_uri": "https://localhost:8080/"
        },
        "outputId": "55736695-6032-46fb-a745-e8764416666f"
      },
      "source": [
        "# This is the fitting function from tensorflow's example.\n",
        "# Please try to modify it.\n",
        "\n",
        "model.fit(train_images, train_labels, epochs=5)"
      ],
      "execution_count": null,
      "outputs": [
        {
          "output_type": "stream",
          "name": "stdout",
          "text": [
            "Epoch 1/5\n",
            "11/11 [==============================] - 1s 3ms/step - loss: 2844.8857 - accuracy: 0.1236\n",
            "Epoch 2/5\n",
            "11/11 [==============================] - 0s 2ms/step - loss: 2.4692 - accuracy: 0.2385\n",
            "Epoch 3/5\n",
            "11/11 [==============================] - 0s 2ms/step - loss: 2.5198 - accuracy: 0.2385\n",
            "Epoch 4/5\n",
            "11/11 [==============================] - 0s 2ms/step - loss: 2.3824 - accuracy: 0.2414\n",
            "Epoch 5/5\n",
            "11/11 [==============================] - 0s 2ms/step - loss: 2.3612 - accuracy: 0.2443\n"
          ]
        },
        {
          "output_type": "execute_result",
          "data": {
            "text/plain": [
              "<keras.src.callbacks.History at 0x7c8e96a8aa40>"
            ]
          },
          "metadata": {},
          "execution_count": 21
        }
      ]
    },
    {
      "cell_type": "markdown",
      "metadata": {
        "id": "7pObjsXup7lN"
      },
      "source": [
        "Q3: What is 'epochs'? How does it affect the result?\n",
        "\n",
        "A3:"
      ]
    },
    {
      "cell_type": "markdown",
      "metadata": {
        "id": "PQmHXomhqGqd"
      },
      "source": [
        "Q4: What is 'split_validation' in model.fit()? Check it out in tensorflow's web page. Use it in your code.\n",
        "\n",
        "A4:"
      ]
    },
    {
      "cell_type": "markdown",
      "metadata": {
        "id": "lleu3shDqWFr"
      },
      "source": [
        "Q5: Could you exaplin the output of model.fit()? And what is your accuracy?\n",
        "\n",
        "A5:"
      ]
    },
    {
      "cell_type": "markdown",
      "metadata": {
        "id": "imcd1Dwzqre3"
      },
      "source": [
        "Q6: How do you know your model is not overfitted?\n",
        "\n",
        "A6:"
      ]
    },
    {
      "cell_type": "markdown",
      "metadata": {
        "id": "pLdPN7gBqw0c"
      },
      "source": [
        "Q7: Could you introduce 'early stop mechanism' in your code? Then, train the model again. \"Early stop\" means you can stop the epoch (without finishing all of them). You can prepare a validation data set and calculate your val_loss and val_accuracy at the end of each epoch. If you believe the val_loss will not improve for the next epoch, then you can stop the traning, to save time and to prevent overfitting. Does it works?\n",
        "\n",
        "A7:"
      ]
    },
    {
      "cell_type": "markdown",
      "metadata": {
        "id": "jJUoK10hrPkj"
      },
      "source": [
        "Q8: Any idea of improving the classification accuracy?\n",
        "\n",
        "A8:"
      ]
    },
    {
      "cell_type": "markdown",
      "source": [
        "Q9: Try to understand the reshape() function from the following link. https://www.tensorflow.org/api_docs/python/tf/reshape  We haved modified the original Fashion MNIST/MNIST dataset and applied similar structure to our malware PE file dataset. But for a PE file, its header and content are not designed according to a 2d shape 28x28, why convolution still work? According to the PE file structure, a row should be 64 bits (or 8 bytes, see https://en.wikipedia.org/wiki/Portable_Executable) and rows has no relation (but image does). So, theoratically we do not need to use a 2d convolution to describe the relation between rows. Why 2d conv still looks good?\n",
        "\n",
        "\n",
        "A9: Your answer."
      ],
      "metadata": {
        "id": "STLSWbzviMS5"
      }
    },
    {
      "cell_type": "markdown",
      "source": [
        "Q10: use reshape() to transform the original 2d 28x28 inputs to a 1d 784 inputs, and try to use Conv1D() https://www.tensorflow.org/api_docs/python/tf/keras/layers/Conv1D to analyze our PE files. Does your accuracy of 1d model increase?\n",
        "\n",
        "A10: your code and result.\n",
        "\n",
        "\n"
      ],
      "metadata": {
        "id": "9CkJCm4mkidh"
      }
    }
  ]
}