{
  "cells": [
    {
      "cell_type": "markdown",
      "metadata": {
        "id": "RXsndU1CdAPQ"
      },
      "source": [
        "## Python Built-in Functions\n",
        "https://docs.python.org/3/library/functions.html"
      ]
    },
    {
      "cell_type": "code",
      "source": [
        "# @title\n",
        "import datetime\n",
        "print(datetime.datetime.now())"
      ],
      "metadata": {
        "cellView": "form",
        "colab": {
          "base_uri": "https://localhost:8080/"
        },
        "id": "-11Xw-UWACNQ",
        "outputId": "14edfbe0-be88-488a-cf1d-b4cdf06ac6d8"
      },
      "execution_count": 1,
      "outputs": [
        {
          "output_type": "stream",
          "name": "stdout",
          "text": [
            "2024-02-19 06:14:27.030376\n"
          ]
        }
      ]
    },
    {
      "cell_type": "markdown",
      "metadata": {
        "id": "t70UAZ6edAPU"
      },
      "source": [
        "### Class"
      ]
    },
    {
      "cell_type": "code",
      "execution_count": 2,
      "metadata": {
        "id": "JuqIlVoddAPU"
      },
      "outputs": [],
      "source": [
        "# lets skip built-types.\n",
        "\n",
        "# bool, bytearray, bytes, complex, dict\n",
        "# float, frozenset, int, list"
      ]
    },
    {
      "cell_type": "code",
      "execution_count": 3,
      "metadata": {
        "id": "mwceBA1XdAPV"
      },
      "outputs": [],
      "source": [
        "# object is a base for all classes.\n",
        "# It has the methods that are common\n",
        "# to all instances of Python classes."
      ]
    },
    {
      "cell_type": "code",
      "execution_count": 4,
      "metadata": {
        "colab": {
          "base_uri": "https://localhost:8080/"
        },
        "id": "JDoMAyXTdAPW",
        "outputId": "34fcfef1-10b8-459e-b90a-2e668f3bc77c"
      },
      "outputs": [
        {
          "output_type": "stream",
          "name": "stdout",
          "text": [
            "[0, 1, 2, 3, 4, 5, 6, 7, 8, 9]\n",
            "1\n",
            "[3, 4, 5, 6]\n"
          ]
        }
      ],
      "source": [
        "# class slice(stop)\n",
        "# class slice(start, stop[, step])\n",
        "# Return a slice object representing the set of indices specified by range(start, stop, step).\n",
        "li = [0, 1, 2, 3, 4, 5, 6, 7, 8, 9]\n",
        "print(list(li))\n",
        "print(li[1])\n",
        "print(list(li[3:7]))"
      ]
    },
    {
      "cell_type": "code",
      "execution_count": 5,
      "metadata": {
        "colab": {
          "base_uri": "https://localhost:8080/"
        },
        "id": "mqHBBKqHdAPX",
        "outputId": "18645ffb-196e-44a0-9cf1-61bb55e2f835"
      },
      "outputs": [
        {
          "output_type": "stream",
          "name": "stdout",
          "text": [
            "<class 'list'>\n",
            "<class 'str'>\n",
            "<class 'int'>\n"
          ]
        }
      ],
      "source": [
        "# class type(object)\n",
        "# With one argument, return the type of an object.\n",
        "print(type(li))\n",
        "print(type(\"abc\"))\n",
        "print(type(123))"
      ]
    },
    {
      "cell_type": "markdown",
      "metadata": {
        "id": "RYS09sBqdAPY"
      },
      "source": [
        "### Math and conversion"
      ]
    },
    {
      "cell_type": "code",
      "execution_count": 6,
      "metadata": {
        "id": "NGF8AgXCdAPY"
      },
      "outputs": [],
      "source": [
        "i = 3\n",
        "f = -4.5\n",
        "li = [1, 2, 3, 4, 5]"
      ]
    },
    {
      "cell_type": "code",
      "execution_count": 7,
      "metadata": {
        "colab": {
          "base_uri": "https://localhost:8080/"
        },
        "id": "NwWeth2jdAPZ",
        "outputId": "18211045-b425-4895-9f2c-a023c0f0f6c5"
      },
      "outputs": [
        {
          "output_type": "stream",
          "name": "stdout",
          "text": [
            "abc: 4.5\n",
            "divmod: (-2.0, 1.5)\n",
            "max: 5\n",
            "min: 1\n",
            "pow: -91.125\n",
            "round: -4\n",
            "sum: 15\n"
          ]
        }
      ],
      "source": [
        "print(\"abc:\", abs(f))\n",
        "print(\"divmod:\", divmod(f, i))\n",
        "print(\"max:\", max(li))\n",
        "print(\"min:\", min(li))\n",
        "print(\"pow:\", pow(f, i))\n",
        "print(\"round:\", round(f))\n",
        "print(\"sum:\", sum(li))"
      ]
    },
    {
      "cell_type": "code",
      "execution_count": 8,
      "metadata": {
        "id": "rKzSpHw2dAPZ"
      },
      "outputs": [],
      "source": [
        "x = 123"
      ]
    },
    {
      "cell_type": "code",
      "execution_count": 9,
      "metadata": {
        "colab": {
          "base_uri": "https://localhost:8080/"
        },
        "id": "g_0WCakTdAPa",
        "outputId": "b2528227-d65a-4fe4-f825-d87bb223f9b7"
      },
      "outputs": [
        {
          "output_type": "stream",
          "name": "stdout",
          "text": [
            "bin: 0b1111011\n",
            "oct: 0o173\n",
            "hex: 0x7b\n",
            "chr: {\n",
            "ord: 123\n"
          ]
        }
      ],
      "source": [
        "print(\"bin:\", bin(x))\n",
        "print(\"oct:\", oct(x))\n",
        "print(\"hex:\", hex(x))\n",
        "\n",
        "print(\"chr:\", chr(x))\n",
        "print(\"ord:\", ord('{'))"
      ]
    },
    {
      "cell_type": "markdown",
      "metadata": {
        "id": "Xa-i93h8dAPa"
      },
      "source": [
        "### Iterable"
      ]
    },
    {
      "cell_type": "code",
      "execution_count": 10,
      "metadata": {
        "id": "eG_gjLIzdAPb"
      },
      "outputs": [],
      "source": [
        "foo = [2, 18, 9, 22, 17, 24, 8, 12, 27]\n",
        "boo = [True, True, False, True]\n",
        "soo = ['Spring', 'Summer', 'Fall', 'Winter']"
      ]
    },
    {
      "cell_type": "code",
      "execution_count": 11,
      "metadata": {
        "colab": {
          "base_uri": "https://localhost:8080/"
        },
        "id": "gKaPgM6LdAPb",
        "outputId": "88cf7ce7-13e0-4f20-b4b7-f7b3aff8e426"
      },
      "outputs": [
        {
          "output_type": "stream",
          "name": "stdout",
          "text": [
            "2\n",
            "18\n",
            "9\n",
            "22\n",
            "17\n",
            "24\n",
            "8\n",
            "12\n",
            "27\n"
          ]
        }
      ],
      "source": [
        "# iter(o[, sentinel])\n",
        "# Return an iterator object.\n",
        "# o must be a collection object which supports the iteration protocol (the __iter__() method),\n",
        "# or it must support the sequence protocol (the __getitem__() method with integer arguments starting at 0).\n",
        "it = iter(foo)\n",
        "for item in it:\n",
        "    print(item)"
      ]
    },
    {
      "cell_type": "code",
      "execution_count": 12,
      "metadata": {
        "colab": {
          "base_uri": "https://localhost:8080/"
        },
        "id": "tkCXrUKsdAPb",
        "outputId": "3f2cbdcd-0cd7-4b73-ef34-f207eff0bdd4"
      },
      "outputs": [
        {
          "output_type": "stream",
          "name": "stdout",
          "text": [
            "2\n"
          ]
        }
      ],
      "source": [
        "it = iter(foo)\n",
        "print(next(it))"
      ]
    },
    {
      "cell_type": "code",
      "execution_count": 13,
      "metadata": {
        "colab": {
          "base_uri": "https://localhost:8080/"
        },
        "id": "LkVVWx-BdAPc",
        "outputId": "52da4ea6-d4d2-48f3-9e9d-360a0d2be48e"
      },
      "outputs": [
        {
          "output_type": "stream",
          "name": "stdout",
          "text": [
            "18\n"
          ]
        }
      ],
      "source": [
        "print(next(it))"
      ]
    },
    {
      "cell_type": "code",
      "execution_count": 14,
      "metadata": {
        "colab": {
          "base_uri": "https://localhost:8080/"
        },
        "id": "ofZ8io7JdAPc",
        "outputId": "15fcdf0e-9547-4641-f676-ee736a46b959"
      },
      "outputs": [
        {
          "output_type": "stream",
          "name": "stdout",
          "text": [
            "[0, 1, 2, 3, 4, 5, 6, 7, 8, 9]\n",
            "[1, 2, 3, 4, 5, 6, 7, 8, 9, 10]\n",
            "[0, 5, 10, 15, 20, 25]\n",
            "[0, -1, -2, -3, -4, -5, -6, -7, -8, -9]\n",
            "[]\n"
          ]
        }
      ],
      "source": [
        "# range(stop)\n",
        "# range(start, stop[, step])\n",
        "# This is a versatile function to create lists containing arithmetic progressions.\n",
        "\n",
        "print(list(range(10)))\n",
        "print(list(range(1, 11)))\n",
        "print(list(range(0, 30, 5)))\n",
        "print(list(range(0, -10, -1)))\n",
        "print(list(range(0)))"
      ]
    },
    {
      "cell_type": "code",
      "execution_count": 15,
      "metadata": {
        "colab": {
          "base_uri": "https://localhost:8080/"
        },
        "id": "KP9ZPmnwdAPc",
        "outputId": "87977f52-9e6d-4eec-8dc9-9a51450b402f"
      },
      "outputs": [
        {
          "output_type": "stream",
          "name": "stdout",
          "text": [
            "0\n",
            "1\n",
            "2\n",
            "3\n",
            "4\n"
          ]
        }
      ],
      "source": [
        "for i in range(5):\n",
        "    print(i)"
      ]
    },
    {
      "cell_type": "code",
      "execution_count": 16,
      "metadata": {
        "colab": {
          "base_uri": "https://localhost:8080/"
        },
        "id": "9stRVkWMdAPd",
        "outputId": "ef32e5d1-5c99-4ba8-fbb3-59dd97f3cd86"
      },
      "outputs": [
        {
          "output_type": "stream",
          "name": "stdout",
          "text": [
            "[0, 1, 2, 3, 4]\n",
            "[0, 0, 0, 0, 0, 0, 1, 2, 3, 4, 0, 2, 4, 6, 8, 0, 3, 6, 9, 12, 0, 4, 8, 12, 16]\n"
          ]
        }
      ],
      "source": [
        "print([x for x in range(5)])\n",
        "print([x*y for x in range(5) for y in range(5)])"
      ]
    },
    {
      "cell_type": "code",
      "execution_count": 17,
      "metadata": {
        "colab": {
          "base_uri": "https://localhost:8080/"
        },
        "id": "JAPCWMuNdAPd",
        "outputId": "25c98c43-0d0d-4c48-e808-8fc87a55b1bd"
      },
      "outputs": [
        {
          "output_type": "stream",
          "name": "stdout",
          "text": [
            "True\n",
            "False\n"
          ]
        }
      ],
      "source": [
        "boo = [True, True, False, True]\n",
        "\n",
        "# all(iterable)\n",
        "# Return True if all elements of the iterable are true.\n",
        "print(any(boo))\n",
        "\n",
        "# any(iterable)\n",
        "# Return True if any element of the iterable is true.\n",
        "print(all(boo))"
      ]
    },
    {
      "cell_type": "code",
      "execution_count": 18,
      "metadata": {
        "colab": {
          "base_uri": "https://localhost:8080/"
        },
        "id": "UeLD64kNdAPd",
        "outputId": "4d43073f-0258-4d78-dec3-f446ab8ee0e6"
      },
      "outputs": [
        {
          "output_type": "stream",
          "name": "stdout",
          "text": [
            "[18, 9, 24, 12, 27]\n",
            "[6, 7]\n"
          ]
        }
      ],
      "source": [
        "foo = [2, 18, 9, 22, 17, 24, 8, 12, 27]\n",
        "\n",
        "# filter(function, iterable)\n",
        "# Construct a list from those elements of iterable for which function returns true.\n",
        "# Equivalent to [item for item in iterable if function(item)]\n",
        "print(list(filter(lambda x: x % 3 == 0, foo)))\n",
        "print(list(filter(lambda x: x > 5 and x < 8, range(10))))"
      ]
    },
    {
      "cell_type": "code",
      "execution_count": 19,
      "metadata": {
        "colab": {
          "base_uri": "https://localhost:8080/"
        },
        "id": "obc1abK6dAPe",
        "outputId": "222a3a9b-d084-47e4-c4a5-d4e24787c48a"
      },
      "outputs": [
        {
          "output_type": "stream",
          "name": "stdout",
          "text": [
            "[14, 46, 28, 54, 44, 58, 26, 34, 64]\n"
          ]
        }
      ],
      "source": [
        "foo = [2, 18, 9, 22, 17, 24, 8, 12, 27]\n",
        "# map(function, iterable, ...)\n",
        "# Apply function to every item of iterable and return a list of the results.\n",
        "b = map(lambda x: x * 2 + 10, foo)\n",
        "print(list(b))\n",
        "\n",
        "# note: in Python 2.x map() returns a lsit; but in 3.x map() is an operation waited for executed so b=list(b) is needed."
      ]
    },
    {
      "cell_type": "code",
      "execution_count": 20,
      "metadata": {
        "colab": {
          "base_uri": "https://localhost:8080/"
        },
        "id": "L_xo9iN6dAPe",
        "outputId": "be296f7a-a5c4-4c3b-9f4a-ac75b5f7e535"
      },
      "outputs": [
        {
          "output_type": "stream",
          "name": "stdout",
          "text": [
            "15\n",
            "139\n",
            "24\n"
          ]
        }
      ],
      "source": [
        "# reduce(function, iterable[, initializer])\n",
        "# Apply function of two arguments cumulatively to the items of iterable, from left to right,\n",
        "# so as to reduce the iterable to a single value.\n",
        "\n",
        "import sys\n",
        "if sys.version_info[0] >= 3:\n",
        "    from functools import reduce\n",
        "\n",
        "print(reduce(lambda x, y: x+y, [1, 2, 3, 4, 5]))\n",
        "print(reduce(lambda x, y: x + y, foo))\n",
        "print(reduce(lambda x, y: x*y, range(1, 5)))"
      ]
    },
    {
      "cell_type": "code",
      "execution_count": 21,
      "metadata": {
        "id": "uRfwLeoBdAPf"
      },
      "outputs": [],
      "source": [
        "def my_reduce(function, iterable, initializer=None):\n",
        "    it = iter(iterable)\n",
        "    if initializer is None:\n",
        "        try:\n",
        "            initializer = next(it)\n",
        "        except StopIteration:\n",
        "            raise TypeError('reduce() of empty sequence with no initial value')\n",
        "    accum_value = initializer\n",
        "    for x in it:\n",
        "        accum_value = function(accum_value, x)\n",
        "    return accum_value"
      ]
    },
    {
      "cell_type": "code",
      "execution_count": 22,
      "metadata": {
        "colab": {
          "base_uri": "https://localhost:8080/"
        },
        "id": "t-SeSu1edAPf",
        "outputId": "5837eeb7-2960-4cd7-a5f9-88998c7e8c15"
      },
      "outputs": [
        {
          "output_type": "stream",
          "name": "stdout",
          "text": [
            "[(0, 'Spring'), (1, 'Summer'), (2, 'Fall'), (3, 'Winter')]\n",
            "[(1, 'Spring'), (2, 'Summer'), (3, 'Fall'), (4, 'Winter')]\n",
            "0 tic\n",
            "1 tac\n",
            "2 toe\n"
          ]
        }
      ],
      "source": [
        "# enumerate(sequence, start=0)\n",
        "# Return an enumerate object\n",
        "print(list(enumerate(soo)))\n",
        "print(list(enumerate(soo, 1)))\n",
        "\n",
        "for i, v in enumerate(['tic', 'tac', 'toe']):\n",
        "    print(i, v)"
      ]
    },
    {
      "cell_type": "code",
      "execution_count": 23,
      "metadata": {
        "id": "8d41lZesdAPf"
      },
      "outputs": [],
      "source": [
        "# do same thing as enumerate\n",
        "def my_enumerate(sequence, start=0):\n",
        "    n = start\n",
        "    for elem in sequence:\n",
        "        yield n, elem\n",
        "        n += 1"
      ]
    },
    {
      "cell_type": "code",
      "execution_count": 24,
      "metadata": {
        "colab": {
          "base_uri": "https://localhost:8080/"
        },
        "id": "GV6eWE9edAPf",
        "outputId": "0c3dcf6c-8002-4534-d1c0-dc7eb1e0022b"
      },
      "outputs": [
        {
          "output_type": "stream",
          "name": "stdout",
          "text": [
            "9\n"
          ]
        }
      ],
      "source": [
        "#reversed(seq)\n",
        "#Return a reverse iterator.\n",
        "li = range(10)\n",
        "rit = reversed(li)\n",
        "print(next(rit))"
      ]
    },
    {
      "cell_type": "code",
      "execution_count": 25,
      "metadata": {
        "colab": {
          "base_uri": "https://localhost:8080/"
        },
        "id": "BQ44q2wDdAPf",
        "outputId": "4434a31a-05d0-492a-beb5-cb82d2938527"
      },
      "outputs": [
        {
          "output_type": "stream",
          "name": "stdout",
          "text": [
            "[2, 18, 9, 22, 17, 24, 8, 12, 27]\n",
            "[2, 8, 9, 12, 17, 18, 22, 24, 27]\n",
            "[27, 24, 22, 18, 17, 12, 9, 8, 2]\n"
          ]
        }
      ],
      "source": [
        "# sorted(iterable, key=None, reverse=False)\n",
        "foo = [2, 18, 9, 22, 17, 24, 8, 12, 27]\n",
        "print(foo)\n",
        "print(sorted(foo))\n",
        "print(sorted(foo, reverse = True))"
      ]
    },
    {
      "cell_type": "code",
      "execution_count": 26,
      "metadata": {
        "colab": {
          "base_uri": "https://localhost:8080/"
        },
        "id": "vX5fHSu3dAPg",
        "outputId": "b5162721-6ffa-4adf-ba26-715c093fd4a0"
      },
      "outputs": [
        {
          "output_type": "stream",
          "name": "stdout",
          "text": [
            "[True, True, False, True]\n",
            "['Spring', 'Summer', 'Fall', 'Winter']\n",
            "[(True, 'Spring'), (True, 'Summer'), (False, 'Fall'), (True, 'Winter')]\n",
            "True Spring\n",
            "zip(*zipped) = [(True, True, False, True), ('Spring', 'Summer', 'Fall', 'Winter')]\n",
            "b2 = (True, True, False, True)\n",
            "s2 = ('Spring', 'Summer', 'Fall', 'Winter')\n",
            "True\n"
          ]
        }
      ],
      "source": [
        "# zip([iterable, ...])\n",
        "# This function returns a list of tuples,\n",
        "# where the i-th tuple contains the i-th element from each of the argument sequences or iterables.\n",
        "boo = [True, True, False, True]\n",
        "soo = ['Spring', 'Summer', 'Fall', 'Winter']\n",
        "print(boo)\n",
        "print(soo)\n",
        "zipped = zip(boo, soo)\n",
        "zipped = list(zipped)  # In Python 2, zip returned a list. In Python 3, zip returns an iterable object.\n",
        "print(zipped)\n",
        "\n",
        "\n",
        "b, s = zipped[0]\n",
        "print(b, s)\n",
        "\n",
        "b2, s2 = zip(*zipped)\n",
        "print(\"zip(*zipped) =\", list(zip(*zipped)))\n",
        "print(\"b2 =\", b2)\n",
        "print(\"s2 =\", s2)\n",
        "\n",
        "print(True if list(b2) == boo else False)"
      ]
    },
    {
      "cell_type": "code",
      "execution_count": 27,
      "metadata": {
        "colab": {
          "base_uri": "https://localhost:8080/"
        },
        "id": "oyy7Zr3XdAPg",
        "outputId": "2403b719-9d1d-4e8f-cce0-af5485bdbf6c"
      },
      "outputs": [
        {
          "output_type": "stream",
          "name": "stdout",
          "text": [
            "What is your name? It is lancelot.\n",
            "What is your quest? It is the holy grail.\n",
            "What is your favorite color? It is blue.\n"
          ]
        }
      ],
      "source": [
        "questions = ['name', 'quest', 'favorite color']\n",
        "answers = ['lancelot', 'the holy grail', 'blue']\n",
        "for q, a in zip(questions, answers):\n",
        "    print('What is your {0}? It is {1}.'.format(q, a)) # python3"
      ]
    },
    {
      "cell_type": "markdown",
      "metadata": {
        "id": "Xq5QLK4XdAPg"
      },
      "source": [
        "### Object"
      ]
    },
    {
      "cell_type": "code",
      "execution_count": 28,
      "metadata": {
        "scrolled": true,
        "id": "LbZg_SK5dAPg"
      },
      "outputs": [],
      "source": [
        "# dir([object])\n",
        "# Without arguments, return the list of names in the current local scope.\n",
        "# With an argument, attempt to return a list of valid attributes for that object.\n",
        "\n",
        "#dir()"
      ]
    },
    {
      "cell_type": "code",
      "execution_count": 29,
      "metadata": {
        "id": "eiZyeXdOdAPg"
      },
      "outputs": [],
      "source": [
        "#locals()"
      ]
    },
    {
      "cell_type": "code",
      "execution_count": 30,
      "metadata": {
        "scrolled": true,
        "id": "0ssybDgYdAPh"
      },
      "outputs": [],
      "source": [
        "#globals()"
      ]
    },
    {
      "cell_type": "code",
      "execution_count": 31,
      "metadata": {
        "scrolled": true,
        "id": "5MpLrD0wdAPh"
      },
      "outputs": [],
      "source": [
        "#vars()"
      ]
    },
    {
      "cell_type": "code",
      "execution_count": 32,
      "metadata": {
        "scrolled": true,
        "colab": {
          "base_uri": "https://localhost:8080/"
        },
        "id": "cXq9L7TgdAPh",
        "outputId": "7361a323-8ce1-4465-d56e-428d1a8563aa"
      },
      "outputs": [
        {
          "output_type": "execute_result",
          "data": {
            "text/plain": [
              "['__add__',\n",
              " '__class__',\n",
              " '__contains__',\n",
              " '__delattr__',\n",
              " '__dir__',\n",
              " '__doc__',\n",
              " '__eq__',\n",
              " '__format__',\n",
              " '__ge__',\n",
              " '__getattribute__',\n",
              " '__getitem__',\n",
              " '__getnewargs__',\n",
              " '__gt__',\n",
              " '__hash__',\n",
              " '__init__',\n",
              " '__init_subclass__',\n",
              " '__iter__',\n",
              " '__le__',\n",
              " '__len__',\n",
              " '__lt__',\n",
              " '__mod__',\n",
              " '__mul__',\n",
              " '__ne__',\n",
              " '__new__',\n",
              " '__reduce__',\n",
              " '__reduce_ex__',\n",
              " '__repr__',\n",
              " '__rmod__',\n",
              " '__rmul__',\n",
              " '__setattr__',\n",
              " '__sizeof__',\n",
              " '__str__',\n",
              " '__subclasshook__',\n",
              " 'capitalize',\n",
              " 'casefold',\n",
              " 'center',\n",
              " 'count',\n",
              " 'encode',\n",
              " 'endswith',\n",
              " 'expandtabs',\n",
              " 'find',\n",
              " 'format',\n",
              " 'format_map',\n",
              " 'index',\n",
              " 'isalnum',\n",
              " 'isalpha',\n",
              " 'isascii',\n",
              " 'isdecimal',\n",
              " 'isdigit',\n",
              " 'isidentifier',\n",
              " 'islower',\n",
              " 'isnumeric',\n",
              " 'isprintable',\n",
              " 'isspace',\n",
              " 'istitle',\n",
              " 'isupper',\n",
              " 'join',\n",
              " 'ljust',\n",
              " 'lower',\n",
              " 'lstrip',\n",
              " 'maketrans',\n",
              " 'partition',\n",
              " 'removeprefix',\n",
              " 'removesuffix',\n",
              " 'replace',\n",
              " 'rfind',\n",
              " 'rindex',\n",
              " 'rjust',\n",
              " 'rpartition',\n",
              " 'rsplit',\n",
              " 'rstrip',\n",
              " 'split',\n",
              " 'splitlines',\n",
              " 'startswith',\n",
              " 'strip',\n",
              " 'swapcase',\n",
              " 'title',\n",
              " 'translate',\n",
              " 'upper',\n",
              " 'zfill']"
            ]
          },
          "metadata": {},
          "execution_count": 32
        }
      ],
      "source": [
        "s = str(\"abc\")\n",
        "dir(s)"
      ]
    },
    {
      "cell_type": "code",
      "execution_count": 33,
      "metadata": {
        "colab": {
          "base_uri": "https://localhost:8080/"
        },
        "id": "FQTbaNZUdAPh",
        "outputId": "664c03ca-5d33-4cb6-9a4a-049f9a8de533"
      },
      "outputs": [
        {
          "output_type": "stream",
          "name": "stdout",
          "text": [
            "Help on built-in function zfill:\n",
            "\n",
            "zfill(width, /) method of builtins.str instance\n",
            "    Pad a numeric string with zeros on the left, to fill a field of the given width.\n",
            "    \n",
            "    The string is never truncated.\n",
            "\n"
          ]
        }
      ],
      "source": [
        "#help(s)\n",
        "help(s.zfill)"
      ]
    },
    {
      "cell_type": "code",
      "execution_count": 34,
      "metadata": {
        "colab": {
          "base_uri": "https://localhost:8080/"
        },
        "id": "VwT8pWGwdAPh",
        "outputId": "67e5d429-85ce-4023-bb1e-474d38869eca"
      },
      "outputs": [
        {
          "output_type": "stream",
          "name": "stdout",
          "text": [
            "True\n"
          ]
        }
      ],
      "source": [
        "print(isinstance(s, str))"
      ]
    },
    {
      "cell_type": "code",
      "execution_count": 35,
      "metadata": {
        "colab": {
          "base_uri": "https://localhost:8080/"
        },
        "id": "7I4rE7mOdAPh",
        "outputId": "115d65b5-a7a8-4be1-db27-da4c62b72f05"
      },
      "outputs": [
        {
          "output_type": "stream",
          "name": "stdout",
          "text": [
            "True\n",
            "<built-in method encode of str object at 0x7b57ea7e50f0>\n"
          ]
        }
      ],
      "source": [
        "# hasattr(object, name), delattr(object, name), setattr(object, name)\n",
        "o = str(\"abc\")\n",
        "print(hasattr(o, \"encode\"))\n",
        "print(o.encode)"
      ]
    },
    {
      "cell_type": "code",
      "execution_count": 36,
      "metadata": {
        "colab": {
          "base_uri": "https://localhost:8080/"
        },
        "id": "30Sni-tGdAPi",
        "outputId": "7535d9d0-62ce-4eee-d171-9b3bbf1403c5"
      },
      "outputs": [
        {
          "output_type": "stream",
          "name": "stdout",
          "text": [
            "False\n",
            "True\n"
          ]
        }
      ],
      "source": [
        "# callable(object)\n",
        "# Return True if the object argument appears callable\n",
        "print(callable(o))\n",
        "print(callable(o.split))"
      ]
    },
    {
      "cell_type": "code",
      "execution_count": 37,
      "metadata": {
        "colab": {
          "base_uri": "https://localhost:8080/"
        },
        "id": "dr9iTltcdAPi",
        "outputId": "05d8e9fa-e413-4aba-9c01-b960b1f65b1a"
      },
      "outputs": [
        {
          "output_type": "stream",
          "name": "stdout",
          "text": [
            "135617232400640\n"
          ]
        }
      ],
      "source": [
        "# id(object)\n",
        "# Return the “identity” of an object.\n",
        "# CPython implementation detail: This is the address of the object in memory.\n",
        "print(id(soo))"
      ]
    },
    {
      "cell_type": "code",
      "execution_count": 38,
      "metadata": {
        "colab": {
          "base_uri": "https://localhost:8080/"
        },
        "id": "iwvaH07hdAPi",
        "outputId": "f672c483-3d4a-49bf-cc89-e50d51f8a89e"
      },
      "outputs": [
        {
          "output_type": "stream",
          "name": "stdout",
          "text": [
            "0x7b57d8f67100\n"
          ]
        }
      ],
      "source": [
        "# hash(object)\n",
        "# Return the hash value of the object (if it has one).\n",
        "\n",
        "print(hex(id(soo)))"
      ]
    },
    {
      "cell_type": "code",
      "execution_count": 39,
      "metadata": {
        "colab": {
          "base_uri": "https://localhost:8080/"
        },
        "id": "MOT_HOCQdAPi",
        "outputId": "011210a0-e348-42a2-d724-483384f0af14"
      },
      "outputs": [
        {
          "output_type": "stream",
          "name": "stdout",
          "text": [
            "135617232400640\n",
            "11110110101011111011000111101100111000100000000\n",
            "7b57d8f67100\n",
            "0x7b57d8f67100\n"
          ]
        }
      ],
      "source": [
        "# format(value[, format_spec])\n",
        "# Convert a value to a “formatted” representation.\n",
        "\n",
        "# format_spec\n",
        "# https://docs.python.org/3/library/string.html#formatspec\n",
        "\n",
        "print(format(id(soo)))\n",
        "print(format(id(soo), \"b\"))\n",
        "print(format(id(soo), \"x\"))\n",
        "\n",
        "print(\"0x{0:x}\".format(id(soo)))"
      ]
    },
    {
      "cell_type": "code",
      "execution_count": 40,
      "metadata": {
        "colab": {
          "base_uri": "https://localhost:8080/"
        },
        "id": "xk17FoCkdAPi",
        "outputId": "77799770-f842-452b-9764-5f9ab09c690a"
      },
      "outputs": [
        {
          "output_type": "stream",
          "name": "stdout",
          "text": [
            "'\\u4e2d\\u6587ABC'\n",
            "'中文ABC'\n"
          ]
        }
      ],
      "source": [
        "# ascii(object)\n",
        "# Return a string containing a printable representation of an object,\n",
        "# but escape the non-ASCII characters in the string\n",
        "\n",
        "print(ascii('中文ABC'))\n",
        "\n",
        "\n",
        "# repr(object)\n",
        "# Return a string containing a printable representation of an object.\n",
        "\n",
        "print(repr('中文ABC'))"
      ]
    },
    {
      "cell_type": "code",
      "execution_count": 41,
      "metadata": {
        "colab": {
          "base_uri": "https://localhost:8080/"
        },
        "id": "0LJrUz-SdAPj",
        "outputId": "bab6942c-6969-46d3-9e9d-7df9d8a4161f"
      },
      "outputs": [
        {
          "output_type": "stream",
          "name": "stdout",
          "text": [
            "4\n"
          ]
        }
      ],
      "source": [
        "# len(s)\n",
        "# Return the length (the number of items) of an object.\n",
        "print(len(soo))"
      ]
    },
    {
      "cell_type": "markdown",
      "metadata": {
        "id": "v_s1wGiMdAPj"
      },
      "source": [
        "### Execution"
      ]
    },
    {
      "cell_type": "code",
      "execution_count": 42,
      "metadata": {
        "colab": {
          "base_uri": "https://localhost:8080/"
        },
        "id": "1OMHuYBWdAPj",
        "outputId": "39b59690-3e8a-45e4-a1e3-7a76423268f9"
      },
      "outputs": [
        {
          "name": "stdout",
          "output_type": "stream",
          "text": [
            "Enter: 5\n"
          ]
        }
      ],
      "source": [
        "# try to input 5\n",
        "s = input(\"Enter: \")"
      ]
    },
    {
      "cell_type": "code",
      "execution_count": 43,
      "metadata": {
        "colab": {
          "base_uri": "https://localhost:8080/"
        },
        "id": "4h1v8ELodAPj",
        "outputId": "2acd2972-21b5-49a9-c838-86dfc91690a4"
      },
      "outputs": [
        {
          "output_type": "stream",
          "name": "stdout",
          "text": [
            "<class 'str'>\n"
          ]
        }
      ],
      "source": [
        "print(type(s))"
      ]
    },
    {
      "cell_type": "code",
      "execution_count": 44,
      "metadata": {
        "colab": {
          "base_uri": "https://localhost:8080/"
        },
        "id": "5nlMB-nMdAPj",
        "outputId": "a70c898a-5416-45ec-8567-d87936cfa987"
      },
      "outputs": [
        {
          "output_type": "execute_result",
          "data": {
            "text/plain": [
              "6"
            ]
          },
          "metadata": {},
          "execution_count": 44
        }
      ],
      "source": [
        "eval('int(s)+1')"
      ]
    },
    {
      "cell_type": "code",
      "execution_count": 45,
      "metadata": {
        "colab": {
          "base_uri": "https://localhost:8080/"
        },
        "id": "Czdp8LUGdAPj",
        "outputId": "d2094c6c-febe-431d-96ad-4cd031c078ba"
      },
      "outputs": [
        {
          "output_type": "stream",
          "name": "stdout",
          "text": [
            "123\n",
            "123 abc\n",
            "123~abc\n",
            "123~abc!"
          ]
        }
      ],
      "source": [
        "# print(*objects, sep=' ', end='\\n', file=sys.stdout, flush=False)\n",
        "# Print objects to the text stream file, separated by sep and followed by end.\n",
        "\n",
        "obj1 = 123\n",
        "obj2 = 'abc'\n",
        "print(obj1)\n",
        "print(obj1, obj2)\n",
        "print(obj1, obj2, sep = '~')\n",
        "print(obj1, obj2, sep = '~', end = '!')"
      ]
    },
    {
      "cell_type": "code",
      "execution_count": 46,
      "metadata": {
        "colab": {
          "base_uri": "https://localhost:8080/"
        },
        "id": "TLUOBxundAPk",
        "outputId": "012df2ee-c9f2-4064-e5d5-77d36cd8fbe8"
      },
      "outputs": [
        {
          "output_type": "stream",
          "name": "stdout",
          "text": [
            "123 456 789 "
          ]
        }
      ],
      "source": [
        "li = [123, 456, 789]\n",
        "for i in li:\n",
        "    print(i, end = ' ')"
      ]
    },
    {
      "cell_type": "code",
      "execution_count": 47,
      "metadata": {
        "id": "BNxii5cWdAPk"
      },
      "outputs": [],
      "source": [
        "# open(file, mode='r', buffering=-1, encoding=None, errors=None, newline=None, closefd=True, opener=None)\n",
        "# https://docs.python.org/3/library/functions.html#open"
      ]
    },
    {
      "cell_type": "markdown",
      "metadata": {
        "id": "47PuJifvdAPk"
      },
      "source": [
        "|Character|Meaning|\n",
        "|---|---|\n",
        "|'r'|open for reading (default)|\n",
        "|'w'|open for writing, truncating the file first|\n",
        "|'x'|open for exclusive creation, failing if the file already exists|\n",
        "|'a'|open for writing, appending to the end of the file if it exists|\n",
        "|'b'|binary mode|\n",
        "|'t'|text mode (default)|\n",
        "|'+'|open a disk file for updating (reading and writing)|\n",
        "|'U'|universal newlines mode (deprecated)|"
      ]
    },
    {
      "cell_type": "code",
      "execution_count": 48,
      "metadata": {
        "id": "XN9QPKa1dAPk"
      },
      "outputs": [],
      "source": [
        "# f = open(\"iris.data\")\n",
        "#f.close() # close() is not built-in function, it is file object's function"
      ]
    },
    {
      "cell_type": "markdown",
      "metadata": {
        "id": "rreRz3JcdAPk"
      },
      "source": [
        "## Built-in time related module\n",
        "### time"
      ]
    },
    {
      "cell_type": "code",
      "execution_count": 49,
      "metadata": {
        "colab": {
          "base_uri": "https://localhost:8080/"
        },
        "id": "OhYnL_6xdAPk",
        "outputId": "fea7a1e8-be2d-4cf5-cc4a-7206f7fcf43b"
      },
      "outputs": [
        {
          "output_type": "stream",
          "name": "stdout",
          "text": [
            "Help on built-in module time:\n",
            "\n",
            "NAME\n",
            "    time - This module provides various functions to manipulate time values.\n",
            "\n",
            "DESCRIPTION\n",
            "    There are two standard representations of time.  One is the number\n",
            "    of seconds since the Epoch, in UTC (a.k.a. GMT).  It may be an integer\n",
            "    or a floating point number (to represent fractions of seconds).\n",
            "    The Epoch is system-defined; on Unix, it is generally January 1st, 1970.\n",
            "    The actual value can be retrieved by calling gmtime(0).\n",
            "    \n",
            "    The other representation is a tuple of 9 integers giving local time.\n",
            "    The tuple items are:\n",
            "      year (including century, e.g. 1998)\n",
            "      month (1-12)\n",
            "      day (1-31)\n",
            "      hours (0-23)\n",
            "      minutes (0-59)\n",
            "      seconds (0-59)\n",
            "      weekday (0-6, Monday is 0)\n",
            "      Julian day (day in the year, 1-366)\n",
            "      DST (Daylight Savings Time) flag (-1, 0 or 1)\n",
            "    If the DST flag is 0, the time is given in the regular time zone;\n",
            "    if it is 1, the time is given in the DST time zone;\n",
            "    if it is -1, mktime() should guess based on the date and time.\n",
            "\n",
            "CLASSES\n",
            "    builtins.tuple(builtins.object)\n",
            "        struct_time\n",
            "    \n",
            "    class struct_time(builtins.tuple)\n",
            "     |  struct_time(iterable=(), /)\n",
            "     |  \n",
            "     |  The time value as returned by gmtime(), localtime(), and strptime(), and\n",
            "     |  accepted by asctime(), mktime() and strftime().  May be considered as a\n",
            "     |  sequence of 9 integers.\n",
            "     |  \n",
            "     |  Note that several fields' values are not the same as those defined by\n",
            "     |  the C language standard for struct tm.  For example, the value of the\n",
            "     |  field tm_year is the actual year, not year - 1900.  See individual\n",
            "     |  fields' descriptions for details.\n",
            "     |  \n",
            "     |  Method resolution order:\n",
            "     |      struct_time\n",
            "     |      builtins.tuple\n",
            "     |      builtins.object\n",
            "     |  \n",
            "     |  Methods defined here:\n",
            "     |  \n",
            "     |  __reduce__(...)\n",
            "     |      Helper for pickle.\n",
            "     |  \n",
            "     |  __repr__(self, /)\n",
            "     |      Return repr(self).\n",
            "     |  \n",
            "     |  ----------------------------------------------------------------------\n",
            "     |  Static methods defined here:\n",
            "     |  \n",
            "     |  __new__(*args, **kwargs) from builtins.type\n",
            "     |      Create and return a new object.  See help(type) for accurate signature.\n",
            "     |  \n",
            "     |  ----------------------------------------------------------------------\n",
            "     |  Data descriptors defined here:\n",
            "     |  \n",
            "     |  tm_gmtoff\n",
            "     |      offset from UTC in seconds\n",
            "     |  \n",
            "     |  tm_hour\n",
            "     |      hours, range [0, 23]\n",
            "     |  \n",
            "     |  tm_isdst\n",
            "     |      1 if summer time is in effect, 0 if not, and -1 if unknown\n",
            "     |  \n",
            "     |  tm_mday\n",
            "     |      day of month, range [1, 31]\n",
            "     |  \n",
            "     |  tm_min\n",
            "     |      minutes, range [0, 59]\n",
            "     |  \n",
            "     |  tm_mon\n",
            "     |      month of year, range [1, 12]\n",
            "     |  \n",
            "     |  tm_sec\n",
            "     |      seconds, range [0, 61])\n",
            "     |  \n",
            "     |  tm_wday\n",
            "     |      day of week, range [0, 6], Monday is 0\n",
            "     |  \n",
            "     |  tm_yday\n",
            "     |      day of year, range [1, 366]\n",
            "     |  \n",
            "     |  tm_year\n",
            "     |      year, for example, 1993\n",
            "     |  \n",
            "     |  tm_zone\n",
            "     |      abbreviation of timezone name\n",
            "     |  \n",
            "     |  ----------------------------------------------------------------------\n",
            "     |  Data and other attributes defined here:\n",
            "     |  \n",
            "     |  __match_args__ = ('tm_year', 'tm_mon', 'tm_mday', 'tm_hour', 'tm_min',...\n",
            "     |  \n",
            "     |  n_fields = 11\n",
            "     |  \n",
            "     |  n_sequence_fields = 9\n",
            "     |  \n",
            "     |  n_unnamed_fields = 0\n",
            "     |  \n",
            "     |  ----------------------------------------------------------------------\n",
            "     |  Methods inherited from builtins.tuple:\n",
            "     |  \n",
            "     |  __add__(self, value, /)\n",
            "     |      Return self+value.\n",
            "     |  \n",
            "     |  __contains__(self, key, /)\n",
            "     |      Return key in self.\n",
            "     |  \n",
            "     |  __eq__(self, value, /)\n",
            "     |      Return self==value.\n",
            "     |  \n",
            "     |  __ge__(self, value, /)\n",
            "     |      Return self>=value.\n",
            "     |  \n",
            "     |  __getattribute__(self, name, /)\n",
            "     |      Return getattr(self, name).\n",
            "     |  \n",
            "     |  __getitem__(self, key, /)\n",
            "     |      Return self[key].\n",
            "     |  \n",
            "     |  __getnewargs__(self, /)\n",
            "     |  \n",
            "     |  __gt__(self, value, /)\n",
            "     |      Return self>value.\n",
            "     |  \n",
            "     |  __hash__(self, /)\n",
            "     |      Return hash(self).\n",
            "     |  \n",
            "     |  __iter__(self, /)\n",
            "     |      Implement iter(self).\n",
            "     |  \n",
            "     |  __le__(self, value, /)\n",
            "     |      Return self<=value.\n",
            "     |  \n",
            "     |  __len__(self, /)\n",
            "     |      Return len(self).\n",
            "     |  \n",
            "     |  __lt__(self, value, /)\n",
            "     |      Return self<value.\n",
            "     |  \n",
            "     |  __mul__(self, value, /)\n",
            "     |      Return self*value.\n",
            "     |  \n",
            "     |  __ne__(self, value, /)\n",
            "     |      Return self!=value.\n",
            "     |  \n",
            "     |  __rmul__(self, value, /)\n",
            "     |      Return value*self.\n",
            "     |  \n",
            "     |  count(self, value, /)\n",
            "     |      Return number of occurrences of value.\n",
            "     |  \n",
            "     |  index(self, value, start=0, stop=9223372036854775807, /)\n",
            "     |      Return first index of value.\n",
            "     |      \n",
            "     |      Raises ValueError if the value is not present.\n",
            "     |  \n",
            "     |  ----------------------------------------------------------------------\n",
            "     |  Class methods inherited from builtins.tuple:\n",
            "     |  \n",
            "     |  __class_getitem__(...) from builtins.type\n",
            "     |      See PEP 585\n",
            "\n",
            "FUNCTIONS\n",
            "    asctime(...)\n",
            "        asctime([tuple]) -> string\n",
            "        \n",
            "        Convert a time tuple to a string, e.g. 'Sat Jun 06 16:26:11 1998'.\n",
            "        When the time tuple is not present, current time as returned by localtime()\n",
            "        is used.\n",
            "    \n",
            "    clock_getres(...)\n",
            "        clock_getres(clk_id) -> floating point number\n",
            "        \n",
            "        Return the resolution (precision) of the specified clock clk_id.\n",
            "    \n",
            "    clock_gettime(...)\n",
            "        clock_gettime(clk_id) -> float\n",
            "        \n",
            "        Return the time of the specified clock clk_id.\n",
            "    \n",
            "    clock_gettime_ns(...)\n",
            "        clock_gettime_ns(clk_id) -> int\n",
            "        \n",
            "        Return the time of the specified clock clk_id as nanoseconds.\n",
            "    \n",
            "    clock_settime(...)\n",
            "        clock_settime(clk_id, time)\n",
            "        \n",
            "        Set the time of the specified clock clk_id.\n",
            "    \n",
            "    clock_settime_ns(...)\n",
            "        clock_settime_ns(clk_id, time)\n",
            "        \n",
            "        Set the time of the specified clock clk_id with nanoseconds.\n",
            "    \n",
            "    ctime(...)\n",
            "        ctime(seconds) -> string\n",
            "        \n",
            "        Convert a time in seconds since the Epoch to a string in local time.\n",
            "        This is equivalent to asctime(localtime(seconds)). When the time tuple is\n",
            "        not present, current time as returned by localtime() is used.\n",
            "    \n",
            "    get_clock_info(...)\n",
            "        get_clock_info(name: str) -> dict\n",
            "        \n",
            "        Get information of the specified clock.\n",
            "    \n",
            "    gmtime(...)\n",
            "        gmtime([seconds]) -> (tm_year, tm_mon, tm_mday, tm_hour, tm_min,\n",
            "                               tm_sec, tm_wday, tm_yday, tm_isdst)\n",
            "        \n",
            "        Convert seconds since the Epoch to a time tuple expressing UTC (a.k.a.\n",
            "        GMT).  When 'seconds' is not passed in, convert the current time instead.\n",
            "        \n",
            "        If the platform supports the tm_gmtoff and tm_zone, they are available as\n",
            "        attributes only.\n",
            "    \n",
            "    localtime(...)\n",
            "        localtime([seconds]) -> (tm_year,tm_mon,tm_mday,tm_hour,tm_min,\n",
            "                                  tm_sec,tm_wday,tm_yday,tm_isdst)\n",
            "        \n",
            "        Convert seconds since the Epoch to a time tuple expressing local time.\n",
            "        When 'seconds' is not passed in, convert the current time instead.\n",
            "    \n",
            "    mktime(...)\n",
            "        mktime(tuple) -> floating point number\n",
            "        \n",
            "        Convert a time tuple in local time to seconds since the Epoch.\n",
            "        Note that mktime(gmtime(0)) will not generally return zero for most\n",
            "        time zones; instead the returned value will either be equal to that\n",
            "        of the timezone or altzone attributes on the time module.\n",
            "    \n",
            "    monotonic(...)\n",
            "        monotonic() -> float\n",
            "        \n",
            "        Monotonic clock, cannot go backward.\n",
            "    \n",
            "    monotonic_ns(...)\n",
            "        monotonic_ns() -> int\n",
            "        \n",
            "        Monotonic clock, cannot go backward, as nanoseconds.\n",
            "    \n",
            "    perf_counter(...)\n",
            "        perf_counter() -> float\n",
            "        \n",
            "        Performance counter for benchmarking.\n",
            "    \n",
            "    perf_counter_ns(...)\n",
            "        perf_counter_ns() -> int\n",
            "        \n",
            "        Performance counter for benchmarking as nanoseconds.\n",
            "    \n",
            "    process_time(...)\n",
            "        process_time() -> float\n",
            "        \n",
            "        Process time for profiling: sum of the kernel and user-space CPU time.\n",
            "    \n",
            "    process_time_ns(...)\n",
            "        process_time() -> int\n",
            "        \n",
            "        Process time for profiling as nanoseconds:\n",
            "        sum of the kernel and user-space CPU time.\n",
            "    \n",
            "    pthread_getcpuclockid(...)\n",
            "        pthread_getcpuclockid(thread_id) -> int\n",
            "        \n",
            "        Return the clk_id of a thread's CPU time clock.\n",
            "    \n",
            "    sleep(...)\n",
            "        sleep(seconds)\n",
            "        \n",
            "        Delay execution for a given number of seconds.  The argument may be\n",
            "        a floating point number for subsecond precision.\n",
            "    \n",
            "    strftime(...)\n",
            "        strftime(format[, tuple]) -> string\n",
            "        \n",
            "        Convert a time tuple to a string according to a format specification.\n",
            "        See the library reference manual for formatting codes. When the time tuple\n",
            "        is not present, current time as returned by localtime() is used.\n",
            "        \n",
            "        Commonly used format codes:\n",
            "        \n",
            "        %Y  Year with century as a decimal number.\n",
            "        %m  Month as a decimal number [01,12].\n",
            "        %d  Day of the month as a decimal number [01,31].\n",
            "        %H  Hour (24-hour clock) as a decimal number [00,23].\n",
            "        %M  Minute as a decimal number [00,59].\n",
            "        %S  Second as a decimal number [00,61].\n",
            "        %z  Time zone offset from UTC.\n",
            "        %a  Locale's abbreviated weekday name.\n",
            "        %A  Locale's full weekday name.\n",
            "        %b  Locale's abbreviated month name.\n",
            "        %B  Locale's full month name.\n",
            "        %c  Locale's appropriate date and time representation.\n",
            "        %I  Hour (12-hour clock) as a decimal number [01,12].\n",
            "        %p  Locale's equivalent of either AM or PM.\n",
            "        \n",
            "        Other codes may be available on your platform.  See documentation for\n",
            "        the C library strftime function.\n",
            "    \n",
            "    strptime(...)\n",
            "        strptime(string, format) -> struct_time\n",
            "        \n",
            "        Parse a string to a time tuple according to a format specification.\n",
            "        See the library reference manual for formatting codes (same as\n",
            "        strftime()).\n",
            "        \n",
            "        Commonly used format codes:\n",
            "        \n",
            "        %Y  Year with century as a decimal number.\n",
            "        %m  Month as a decimal number [01,12].\n",
            "        %d  Day of the month as a decimal number [01,31].\n",
            "        %H  Hour (24-hour clock) as a decimal number [00,23].\n",
            "        %M  Minute as a decimal number [00,59].\n",
            "        %S  Second as a decimal number [00,61].\n",
            "        %z  Time zone offset from UTC.\n",
            "        %a  Locale's abbreviated weekday name.\n",
            "        %A  Locale's full weekday name.\n",
            "        %b  Locale's abbreviated month name.\n",
            "        %B  Locale's full month name.\n",
            "        %c  Locale's appropriate date and time representation.\n",
            "        %I  Hour (12-hour clock) as a decimal number [01,12].\n",
            "        %p  Locale's equivalent of either AM or PM.\n",
            "        \n",
            "        Other codes may be available on your platform.  See documentation for\n",
            "        the C library strftime function.\n",
            "    \n",
            "    thread_time(...)\n",
            "        thread_time() -> float\n",
            "        \n",
            "        Thread time for profiling: sum of the kernel and user-space CPU time.\n",
            "    \n",
            "    thread_time_ns(...)\n",
            "        thread_time() -> int\n",
            "        \n",
            "        Thread time for profiling as nanoseconds:\n",
            "        sum of the kernel and user-space CPU time.\n",
            "    \n",
            "    time(...)\n",
            "        time() -> floating point number\n",
            "        \n",
            "        Return the current time in seconds since the Epoch.\n",
            "        Fractions of a second may be present if the system clock provides them.\n",
            "    \n",
            "    time_ns(...)\n",
            "        time_ns() -> int\n",
            "        \n",
            "        Return the current time in nanoseconds since the Epoch.\n",
            "    \n",
            "    tzset(...)\n",
            "        tzset()\n",
            "        \n",
            "        Initialize, or reinitialize, the local timezone to the value stored in\n",
            "        os.environ['TZ']. The TZ environment variable should be specified in\n",
            "        standard Unix timezone format as documented in the tzset man page\n",
            "        (eg. 'US/Eastern', 'Europe/Amsterdam'). Unknown timezones will silently\n",
            "        fall back to UTC. If the TZ environment variable is not set, the local\n",
            "        timezone is set to the systems best guess of wallclock time.\n",
            "        Changing the TZ environment variable without calling tzset *may* change\n",
            "        the local timezone used by methods such as localtime, but this behaviour\n",
            "        should not be relied on.\n",
            "\n",
            "DATA\n",
            "    CLOCK_BOOTTIME = 7\n",
            "    CLOCK_MONOTONIC = 1\n",
            "    CLOCK_MONOTONIC_RAW = 4\n",
            "    CLOCK_PROCESS_CPUTIME_ID = 2\n",
            "    CLOCK_REALTIME = 0\n",
            "    CLOCK_TAI = 11\n",
            "    CLOCK_THREAD_CPUTIME_ID = 3\n",
            "    altzone = 0\n",
            "    daylight = 0\n",
            "    timezone = 0\n",
            "    tzname = ('UTC', 'UTC')\n",
            "\n",
            "FILE\n",
            "    (built-in)\n",
            "\n",
            "\n"
          ]
        }
      ],
      "source": [
        "help(\"time\")"
      ]
    },
    {
      "cell_type": "code",
      "execution_count": 50,
      "metadata": {
        "colab": {
          "base_uri": "https://localhost:8080/"
        },
        "id": "4yVuoHDddAPk",
        "outputId": "9ae74147-218d-4083-ede0-7bec824d222f"
      },
      "outputs": [
        {
          "output_type": "stream",
          "name": "stdout",
          "text": [
            "time.struct_time(tm_year=2024, tm_mon=2, tm_mday=19, tm_hour=6, tm_min=14, tm_sec=47, tm_wday=0, tm_yday=50, tm_isdst=0)\n",
            "Mon, 19 Feb 2024 06:14:47 +0000\n"
          ]
        }
      ],
      "source": [
        "from time import gmtime, strftime\n",
        "t = gmtime()\n",
        "print(t)\n",
        "print(strftime(\"%a, %d %b %Y %H:%M:%S +0000\", t))"
      ]
    },
    {
      "cell_type": "markdown",
      "metadata": {
        "id": "Ij_p9xAJdAPl"
      },
      "source": [
        "### timeit"
      ]
    },
    {
      "cell_type": "code",
      "execution_count": 51,
      "metadata": {
        "colab": {
          "base_uri": "https://localhost:8080/"
        },
        "id": "eQV4HDrtdAPl",
        "outputId": "2cc557c1-755a-45e4-9707-e4fb9357b8ed"
      },
      "outputs": [
        {
          "output_type": "execute_result",
          "data": {
            "text/plain": [
              "0.1974015820000119"
            ]
          },
          "metadata": {},
          "execution_count": 51
        }
      ],
      "source": [
        "# timeit.timeit(stmt='pass', setup='pass', timer=<default timer>, number=1000000)\n",
        "# Create a Timer instance with the given statement, setup code and timer function and run it with number executions.\n",
        "\n",
        "import timeit\n",
        "timeit.timeit('\"-\".join(str(n) for n in range(100))', number=10000)"
      ]
    },
    {
      "cell_type": "code",
      "execution_count": 52,
      "metadata": {
        "colab": {
          "base_uri": "https://localhost:8080/"
        },
        "id": "3ybfnWRxdAPl",
        "outputId": "f92fabfe-adfb-4390-d71d-165e87a12351"
      },
      "outputs": [
        {
          "output_type": "stream",
          "name": "stdout",
          "text": [
            "0.05712877599999899 [0.054049481999996374, 0.05396257400001048, 0.0524682229999911, 0.05220240600000636, 0.05524346200000707]\n"
          ]
        }
      ],
      "source": [
        "import timeit\n",
        "t = timeit.Timer('char in text', setup='text = \"sample string\"; char = \"g\"')\n",
        "a = t.timeit() # timeit(number=1000000)\n",
        "b = t.repeat() # repeat(repeat=3, number=1000000)\n",
        "print(a, b)"
      ]
    },
    {
      "cell_type": "code",
      "execution_count": 53,
      "metadata": {
        "colab": {
          "base_uri": "https://localhost:8080/"
        },
        "id": "EEc9kGNQdAPl",
        "outputId": "9399f9c7-b8a8-497f-830b-ceec9fb2172e"
      },
      "outputs": [
        {
          "output_type": "stream",
          "name": "stdout",
          "text": [
            "0.3506917850000093\n",
            "0.3332368720000005\n"
          ]
        }
      ],
      "source": [
        "def costly_func():\n",
        "    return map(lambda x: x^2, range(10))\n",
        "\n",
        "print(timeit.timeit(costly_func)) # number=1000000\n",
        "print(timeit.timeit('map(lambda x: x^2, range(10))'))"
      ]
    },
    {
      "cell_type": "code",
      "execution_count": 54,
      "metadata": {
        "colab": {
          "base_uri": "https://localhost:8080/"
        },
        "id": "QCOCw-qtdAPl",
        "outputId": "99093d6b-6b8e-45ff-f533-c25269d8ea9d"
      },
      "outputs": [
        {
          "output_type": "stream",
          "name": "stdout",
          "text": [
            "3.10.12 (main, Nov 20 2023, 15:14:05) [GCC 11.4.0]\n",
            "0.8315736949999888\n",
            "0.9653718400000031\n",
            "1.9945887509999949\n",
            "1.034450877999987\n",
            "0.5774123709999941\n"
          ]
        }
      ],
      "source": [
        "import sys\n",
        "print(sys.version)\n",
        "\n",
        "print(timeit.timeit('for m in M: L.append(m*2)', setup = 'L=[]; M=range(100)', number=100000))\n",
        "print(timeit.timeit('L=list(map(f,M))', setup = 'M=range(100); f=lambda x: x*2', number=100000))\n",
        "print(timeit.timeit('L=[f(m) for m in M]', setup = 'M=range(100); f=lambda x:x*2', number=100000))\n",
        "print(timeit.timeit('for m in M: A(m*2)', setup = 'L=[]; A=L.append; M=range(100)', number=100000))\n",
        "print(timeit.timeit('L=[m*2 for m in M]', setup = 'M=range(100)', number=100000))"
      ]
    },
    {
      "cell_type": "code",
      "execution_count": 55,
      "metadata": {
        "id": "SfbSRms4dAPl"
      },
      "outputs": [],
      "source": [
        "do = lambda i: i+1\n",
        "\n",
        "def _for():\n",
        "    for i in range(1000):\n",
        "        do(i)\n",
        "\n",
        "def _map():\n",
        "    list(map(do, range(1000)))\n",
        "\n",
        "def _list():\n",
        "    [do(i) for i in range(1000)]"
      ]
    },
    {
      "cell_type": "code",
      "execution_count": 56,
      "metadata": {
        "colab": {
          "base_uri": "https://localhost:8080/"
        },
        "id": "6KWchBvcdAPm",
        "outputId": "9d3f3b6d-09b8-4eb6-c47f-e24e0ed57d60"
      },
      "outputs": [
        {
          "output_type": "stream",
          "name": "stdout",
          "text": [
            "1.2631832189999983\n",
            "1.0379686189999973\n",
            "1.3688249789999958\n"
          ]
        }
      ],
      "source": [
        "print(timeit.timeit(_for, number=10000))\n",
        "print(timeit.timeit(_map, number=10000)) # in python 3, map() would be much more faster, since it returns iterators.\n",
        "print(timeit.timeit(_list, number=10000))"
      ]
    },
    {
      "cell_type": "code",
      "execution_count": 57,
      "metadata": {
        "id": "5DDLa_aMdAPm"
      },
      "outputs": [],
      "source": [
        "some_dict = dict(zip(range(1000), reversed(range(1000))))\n",
        "some_list = zip(range(1000), range(1000))"
      ]
    },
    {
      "cell_type": "code",
      "execution_count": 58,
      "metadata": {
        "colab": {
          "base_uri": "https://localhost:8080/"
        },
        "id": "_KPK9J3zdAPm",
        "outputId": "e8808c4f-edaa-473a-ed18-7a271517d9f5"
      },
      "outputs": [
        {
          "output_type": "stream",
          "name": "stdout",
          "text": [
            "54.8 ns ± 1.64 ns per loop (mean ± std. dev. of 7 runs, 10000000 loops each)\n"
          ]
        }
      ],
      "source": [
        "%timeit for t in some_list: t"
      ]
    },
    {
      "cell_type": "code",
      "execution_count": 59,
      "metadata": {
        "colab": {
          "base_uri": "https://localhost:8080/"
        },
        "id": "Z-jaLAFNdAPm",
        "outputId": "14ab2a40-747c-4cd9-ca56-7157b19f910b"
      },
      "outputs": [
        {
          "output_type": "stream",
          "name": "stdout",
          "text": [
            "47.9 µs ± 13.7 µs per loop (mean ± std. dev. of 7 runs, 10000 loops each)\n"
          ]
        }
      ],
      "source": [
        "%timeit for t in some_dict.items(): t"
      ]
    },
    {
      "cell_type": "code",
      "execution_count": 60,
      "metadata": {
        "colab": {
          "base_uri": "https://localhost:8080/"
        },
        "id": "B0sp4sbfdAPm",
        "outputId": "2e524723-702b-47b6-ca01-cb3bb3581acd"
      },
      "outputs": [
        {
          "output_type": "stream",
          "name": "stdout",
          "text": [
            "32.2 µs ± 914 ns per loop (mean ± std. dev. of 7 runs, 10000 loops each)\n"
          ]
        }
      ],
      "source": [
        "some_dict_list = some_dict.items()\n",
        "%timeit for t in some_dict_list: t"
      ]
    },
    {
      "cell_type": "code",
      "execution_count": 61,
      "metadata": {
        "colab": {
          "base_uri": "https://localhost:8080/"
        },
        "id": "cMlnWAmZdAPm",
        "outputId": "db7a41a9-6bb6-447a-f12a-8410a880713c"
      },
      "outputs": [
        {
          "output_type": "stream",
          "name": "stdout",
          "text": [
            "834 ns ± 6.61 ns per loop (mean ± std. dev. of 7 runs, 1000000 loops each)\n"
          ]
        }
      ],
      "source": [
        "%%timeit\n",
        "# cell mode profiling, note that %%timeit must be the first line in the cell.\n",
        "\n",
        "a = []\n",
        "for i in range(10):\n",
        "    a.append(i)"
      ]
    },
    {
      "cell_type": "code",
      "execution_count": 62,
      "metadata": {
        "colab": {
          "base_uri": "https://localhost:8080/"
        },
        "id": "_jeUrlWYdAPm",
        "outputId": "131f8b2b-94aa-4599-d3be-299528bc0a03"
      },
      "outputs": [
        {
          "output_type": "stream",
          "name": "stdout",
          "text": [
            "866 µs ± 135 µs per loop (mean ± std. dev. of 7 runs, 1000 loops each)\n",
            "1.77 ms ± 177 µs per loop (mean ± std. dev. of 7 runs, 1000 loops each)\n",
            "3.72 ms ± 67.7 µs per loop (mean ± std. dev. of 7 runs, 100 loops each)\n",
            "8.94 ms ± 1.25 ms per loop (mean ± std. dev. of 7 runs, 100 loops each)\n",
            "19.6 ms ± 2.02 ms per loop (mean ± std. dev. of 7 runs, 100 loops each)\n",
            "53.1 ms ± 8.99 ms per loop (mean ± std. dev. of 7 runs, 10 loops each)\n",
            "98.5 ms ± 884 µs per loop (mean ± std. dev. of 7 runs, 10 loops each)\n"
          ]
        }
      ],
      "source": [
        "# an example of %timeit and its return\n",
        "import numpy as np\n",
        "timeit_list = []\n",
        "for n in [5000, 10000, 20000, 40000, 80000, 160000, 320000]:\n",
        "    li = [np.random.randn() for i in range(n)]\n",
        "    result = %timeit -o sorted(li)\n",
        "    timeit_list.append((n, result.best))"
      ]
    },
    {
      "cell_type": "code",
      "execution_count": 63,
      "metadata": {
        "colab": {
          "base_uri": "https://localhost:8080/",
          "height": 448
        },
        "id": "Gm88D7RddAPn",
        "outputId": "f2dcc35d-3c7e-4f6c-f7be-d5adff4aaf9e"
      },
      "outputs": [
        {
          "output_type": "execute_result",
          "data": {
            "text/plain": [
              "[<matplotlib.lines.Line2D at 0x7b57d839add0>]"
            ]
          },
          "metadata": {},
          "execution_count": 63
        },
        {
          "output_type": "display_data",
          "data": {
            "text/plain": [
              "<Figure size 640x480 with 1 Axes>"
            ],
            "image/png": "[encoded data removed]"
          },
          "metadata": {}
        }
      ],
      "source": [
        "# an example of %timeit and its return\n",
        "%matplotlib inline\n",
        "import matplotlib.pyplot as plt\n",
        "np_list = np.array(timeit_list)\n",
        "plt.plot(np_list[:, 0], np_list[:, 1]*1000)"
      ]
    },
    {
      "cell_type": "markdown",
      "metadata": {
        "id": "EGHm_HRVdAPn"
      },
      "source": [
        "### cProfile"
      ]
    },
    {
      "cell_type": "code",
      "execution_count": 64,
      "metadata": {
        "id": "Xw9v-AlmdAPn"
      },
      "outputs": [],
      "source": [
        "def functionToProfile(a, b, c, d):\n",
        "    d -= 1\n",
        "    return functionToProfile(a, b, c, d)+d if d > 0 else 0"
      ]
    },
    {
      "cell_type": "code",
      "execution_count": 65,
      "metadata": {
        "colab": {
          "base_uri": "https://localhost:8080/"
        },
        "id": "jVvVl8xAdAPn",
        "outputId": "80a78034-b5b8-4692-8322-102293eff659"
      },
      "outputs": [
        {
          "output_type": "stream",
          "name": "stdout",
          "text": [
            "         303 function calls (4 primitive calls) in 0.001 seconds\n",
            "\n",
            "   Ordered by: standard name\n",
            "\n",
            "   ncalls  tottime  percall  cumtime  percall filename:lineno(function)\n",
            "    300/1    0.001    0.000    0.001    0.001 <ipython-input-64-fd402789fbd1>:1(functionToProfile)\n",
            "        1    0.000    0.000    0.001    0.001 <string>:1(<module>)\n",
            "        1    0.000    0.000    0.001    0.001 {built-in method builtins.exec}\n",
            "        1    0.000    0.000    0.000    0.000 {method 'disable' of '_lsprof.Profiler' objects}\n",
            "\n",
            "\n"
          ]
        }
      ],
      "source": [
        "import cProfile\n",
        "\n",
        "a, b, c, d = 10, 100, 200, 300\n",
        "\n",
        "cProfile.run('functionToProfile(a, b, c, d)')"
      ]
    },
    {
      "cell_type": "code",
      "execution_count": 66,
      "metadata": {
        "colab": {
          "base_uri": "https://localhost:8080/"
        },
        "id": "a6OoHcPPdAPn",
        "outputId": "951091a5-5f2d-40a7-b955-290b4077ab14"
      },
      "outputs": [
        {
          "output_type": "stream",
          "name": "stdout",
          "text": [
            " "
          ]
        }
      ],
      "source": [
        "%%prun\n",
        "# same as above, profile a block\n",
        "a, b, c, d = 10, 100, 200, 300\n",
        "functionToProfile(a, b, c, d)"
      ]
    }
  ],
  "metadata": {
    "kernelspec": {
      "display_name": "Python 3",
      "language": "python",
      "name": "python3"
    },
    "language_info": {
      "codemirror_mode": {
        "name": "ipython",
        "version": 3
      },
      "file_extension": ".py",
      "mimetype": "text/x-python",
      "name": "python",
      "nbconvert_exporter": "python",
      "pygments_lexer": "ipython3",
      "version": "3.6.7"
    },
    "colab": {
      "provenance": [],
      "toc_visible": true
    }
  },
  "nbformat": 4,
  "nbformat_minor": 0
}