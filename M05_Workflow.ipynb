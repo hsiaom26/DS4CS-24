{
  "nbformat": 4,
  "nbformat_minor": 0,
  "metadata": {
    "colab": {
      "provenance": [],
      "toc_visible": true,
      "authorship_tag": "ABX9TyN/ULeyDINyoNACrMj8WsDE"
    },
    "kernelspec": {
      "name": "python3",
      "display_name": "Python 3"
    },
    "language_info": {
      "name": "python"
    }
  },
  "cells": [
    {
      "cell_type": "markdown",
      "source": [
        "# Workflow\n",
        "\n",
        "\n",
        "https://orangedatamining.com/examples/"
      ],
      "metadata": {
        "id": "vCGiE0jgVtto"
      }
    },
    {
      "cell_type": "markdown",
      "source": [
        "### Class Notes\n",
        "\n",
        "* Data\n",
        "  * File (tab, URL), Data Table\n",
        "  * Select Columns (and target), Select Rows\n",
        "  * Outliers\n",
        "  * Continuize, Discretize\n",
        "  * Merge Data, Concatenate\n",
        "  * Transpose\n",
        "  * Save Data\n",
        "\n",
        "* Visualize\n",
        "  * Box Plot, Distribution\n",
        "  * Scatter Plot, Linear Projection\n",
        "  * SelectedData\n",
        "\n",
        "* Example 1: Hierarchical Clustering with Distance\n",
        "  * iris dataset\n",
        "  * Distances, Distance Matrix\n",
        "  * Hierarchical Clustering\n",
        "  * SelectedData on figure, Data Table\n",
        "\n",
        "* Example 2: Titanic Sieve Diagram\n",
        "  * titanic, Sieve Diagram (A sieve diagram is a graphical method for visualizing the frequencies in a two-way contingency table and comparing them to the expected frequencies under assumption of independence.)\n",
        "\n",
        "* Example 3: Classification with PCA, Decision Tree\n",
        "  * iris, PCA, Scatter Plot w/ density, show factors by Data Table\n",
        "  * iris, Classification Tree, Tree Viewer, Scatter Plot + Box Plot (select a node in Tree Viewer)\n",
        "  * iris, Rank (Gini, Gain, X^2), Box Plot, Distribution\n",
        "\n",
        "* Example 4: Painted k-means and Silhouette\n",
        "  * Paint Data, k-means, Silhouette Plot; On iris data\n",
        "\n",
        "* Example 5-1: Test & Score\n",
        "  * Test & Score: (titanic, Tree, kNN, SVM) -> (Test & Score) -> ROC Analysis\n",
        "* Example 5-2: Test & Score & misclassification data\n",
        "Test & Score: (iris, Tree, kNN, SVM) -> (Test & Score) -> Confusion Matrix*3 (select misclassified) -> Venn Diagram + Data Table (see selected misclassified data)\n",
        "\n",
        "* Example 5-3: Prediction with data\n",
        "  * Predictions\n",
        "\n",
        "* Example 6: PCA problem\n",
        "  * titanic, Preprocess w/ and w/o PCA on same Classifier Method (LR), ROC; MDS\n",
        "  * Explain why PCA does not perform better.\n",
        "\n",
        "* Example 7: Test on testing data\n",
        "  * Training and Testing, test on testing data\n",
        "\n",
        "* Example 8: Rules\n",
        "  * CN2 Rule and Association Rule"
      ],
      "metadata": {
        "id": "EY6LJbdTV8Zv"
      }
    },
    {
      "cell_type": "markdown",
      "source": [
        "* Orange built-in workflow tutorial\n",
        "in your Python’s \\Lib\\site-packages\\Orange\\canvas\\application\\workflows\n",
        "\n",
        "* Orange Youtube channel\n",
        "https://www.youtube.com/channel/UClKKWBe2SCAEyv7ZNGhIe4g\n",
        "\n",
        "* Orange workflow screenshot\n",
        "https://orange.biolab.si/screenshots/\n",
        "* Orange: Loading your Data\n",
        "http://orange-visual-programming.readthedocs.io/loading-your-data/index.html\n",
        "\n",
        "* Orange Visual Programming\n",
        "https://docs.orange.biolab.si/3/visual-programming/\n"
      ],
      "metadata": {
        "id": "TKUpyQFbV_OL"
      }
    }
  ]
}