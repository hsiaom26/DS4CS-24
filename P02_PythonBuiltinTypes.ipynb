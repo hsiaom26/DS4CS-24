{
  "cells": [
    {
      "cell_type": "markdown",
      "metadata": {
        "id": "73DklVLbcSkL"
      },
      "source": [
        "## Python Built-in Types\n",
        "https://docs.python.org/3/library/stdtypes.html"
      ]
    },
    {
      "cell_type": "code",
      "source": [
        "# @title\n",
        "import datetime\n",
        "print(datetime.datetime.now())"
      ],
      "metadata": {
        "cellView": "form",
        "colab": {
          "base_uri": "https://localhost:8080/"
        },
        "id": "-ERb9f5B-hbB",
        "outputId": "77795e46-5956-4551-ed3a-3e52d0069df3"
      },
      "execution_count": 2,
      "outputs": [
        {
          "output_type": "stream",
          "name": "stdout",
          "text": [
            "2024-02-19 06:07:48.907177\n"
          ]
        }
      ]
    },
    {
      "cell_type": "markdown",
      "metadata": {
        "id": "N9pMYIdNcSkO"
      },
      "source": [
        "### Boolean Operations and None"
      ]
    },
    {
      "cell_type": "code",
      "execution_count": 3,
      "metadata": {
        "colab": {
          "base_uri": "https://localhost:8080/"
        },
        "id": "WsCjtWezcSkP",
        "outputId": "d3e26ee9-d75b-479e-b422-b6f356865bec"
      },
      "outputs": [
        {
          "output_type": "stream",
          "name": "stdout",
          "text": [
            "True False None\n",
            "False\n",
            "True\n",
            "False\n",
            "True\n"
          ]
        }
      ],
      "source": [
        "t = True\n",
        "f = False\n",
        "n = None\n",
        "\n",
        "print(t, f, n)\n",
        "print(t and f)\n",
        "print(t or f)\n",
        "print(not t)\n",
        "print(not n)"
      ]
    },
    {
      "cell_type": "markdown",
      "metadata": {
        "id": "STObkfMYcSkR"
      },
      "source": [
        "### Comparisons"
      ]
    },
    {
      "cell_type": "code",
      "execution_count": 4,
      "metadata": {
        "colab": {
          "base_uri": "https://localhost:8080/"
        },
        "id": "NgbFwPzTcSkR",
        "outputId": "b443bf08-9dbe-40ce-9ecc-4c55ab1a6c11"
      },
      "outputs": [
        {
          "output_type": "stream",
          "name": "stdout",
          "text": [
            "True\n",
            "False\n",
            "True\n",
            "False\n"
          ]
        }
      ],
      "source": [
        "t = True\n",
        "f = False\n",
        "n = None\n",
        "\n",
        "print(1==1)\n",
        "print(2!=2)\n",
        "print(1<2)\n",
        "print(1>=2)"
      ]
    },
    {
      "cell_type": "code",
      "execution_count": 80,
      "metadata": {
        "colab": {
          "base_uri": "https://localhost:8080/"
        },
        "id": "-NyoNmk4cSkS",
        "outputId": "44eafd61-a646-4031-b00f-1613c12e384c"
      },
      "outputs": [
        {
          "output_type": "stream",
          "name": "stdout",
          "text": [
            "False\n",
            "False\n",
            "False\n",
            "False\n",
            "False\n",
            "False\n",
            "True\n",
            "None is not a None\n"
          ]
        }
      ],
      "source": [
        "import numpy as np\n",
        "\n",
        "print(None==False)\n",
        "print(None==0)\n",
        "print(np.nan==None)\n",
        "print(np.nan==0)\n",
        "print(np.isnan(False))\n",
        "print(np.isnan(0))\n",
        "print(np.isnan(np.nan))\n",
        "\n",
        "try:\n",
        "  print(np.isnan(None))\n",
        "except:\n",
        "  print(\"None is not a None. It causes an error.\")"
      ]
    },
    {
      "cell_type": "code",
      "execution_count": 6,
      "metadata": {
        "colab": {
          "base_uri": "https://localhost:8080/"
        },
        "id": "8utVRj0ScSkS",
        "outputId": "1d61a246-1369-4eba-dc94-29491f7c81da"
      },
      "outputs": [
        {
          "output_type": "stream",
          "name": "stdout",
          "text": [
            "10 133453664993808\n",
            "10 133453664993808\n",
            "True\n",
            "True\n"
          ]
        }
      ],
      "source": [
        "# is => object identity\n",
        "a = 10\n",
        "print(a, id(a))\n",
        "b = a\n",
        "print(b, id(b))\n",
        "\n",
        "print(a==b) # value\n",
        "print(a is b) # object"
      ]
    },
    {
      "cell_type": "code",
      "execution_count": 7,
      "metadata": {
        "colab": {
          "base_uri": "https://localhost:8080/"
        },
        "id": "7f37erBucSkT",
        "outputId": "7f2fa8b2-6194-4991-e38e-693e7f44228f"
      },
      "outputs": [
        {
          "output_type": "stream",
          "name": "stdout",
          "text": [
            "False\n",
            "True\n"
          ]
        }
      ],
      "source": [
        "a = 10\n",
        "b = 10.0\n",
        "print(a is b)\n",
        "print(a is not b)"
      ]
    },
    {
      "cell_type": "markdown",
      "metadata": {
        "id": "3KramLMmcSkU"
      },
      "source": [
        "### Numeric Types\n",
        "int, float, complex"
      ]
    },
    {
      "cell_type": "code",
      "execution_count": 8,
      "metadata": {
        "colab": {
          "base_uri": "https://localhost:8080/"
        },
        "id": "eS-TmS6BcSkU",
        "outputId": "0fb59b04-1519-401c-bde0-c3e33e9092fb"
      },
      "outputs": [
        {
          "output_type": "stream",
          "name": "stdout",
          "text": [
            "5 10.6 (1+1j)\n",
            "<class 'int'> <class 'float'> <class 'complex'>\n"
          ]
        }
      ],
      "source": [
        "i = int(5)\n",
        "f = float(10.6)\n",
        "c = complex(1,1)\n",
        "\n",
        "print(i, f, c)\n",
        "print(type(i), type(f), type(c))"
      ]
    },
    {
      "cell_type": "markdown",
      "metadata": {
        "id": "7la6UsNpcSkV"
      },
      "source": [
        "### Numeric Operations"
      ]
    },
    {
      "cell_type": "code",
      "execution_count": 9,
      "metadata": {
        "colab": {
          "base_uri": "https://localhost:8080/"
        },
        "id": "8kt7XTB5cSkV",
        "outputId": "46fdcde2-e13c-42d9-a974-42ecaba87288"
      },
      "outputs": [
        {
          "output_type": "stream",
          "name": "stdout",
          "text": [
            "15.6\n",
            "-5.6\n",
            "53.0\n",
            "0.4716981132075472\n"
          ]
        }
      ],
      "source": [
        "print(i+f)\n",
        "print(i-f)\n",
        "print(i*f)\n",
        "print(i/f)"
      ]
    },
    {
      "cell_type": "code",
      "execution_count": 10,
      "metadata": {
        "colab": {
          "base_uri": "https://localhost:8080/"
        },
        "id": "SJh1Sw8ScSkW",
        "outputId": "fce7ba68-c3e7-4425-e51f-671f9d37f10c"
      },
      "outputs": [
        {
          "output_type": "stream",
          "name": "stdout",
          "text": [
            "2.5\n",
            "2\n",
            "1\n"
          ]
        }
      ],
      "source": [
        "print(5/2) # div\n",
        "print(5//2) # quotient\n",
        "print(5%2) # remainder"
      ]
    },
    {
      "cell_type": "code",
      "execution_count": 11,
      "metadata": {
        "colab": {
          "base_uri": "https://localhost:8080/"
        },
        "id": "Wyk390mVcSkW",
        "outputId": "7d313887-7d1e-44bc-c9f8-8cbabf91f393"
      },
      "outputs": [
        {
          "output_type": "stream",
          "name": "stdout",
          "text": [
            "10.6\n",
            "10\n"
          ]
        }
      ],
      "source": [
        "print(abs(-10.6))\n",
        "print(int(10.6)) # floor"
      ]
    },
    {
      "cell_type": "code",
      "execution_count": 12,
      "metadata": {
        "colab": {
          "base_uri": "https://localhost:8080/"
        },
        "id": "GEh3k3qHcSkW",
        "outputId": "df3d9b1c-5fc3-45fa-829f-d084009cd9ef"
      },
      "outputs": [
        {
          "output_type": "stream",
          "name": "stdout",
          "text": [
            "8\n",
            "8\n"
          ]
        }
      ],
      "source": [
        "print(pow(2, 3)) # 2^3\n",
        "print(2**3) # 2^3"
      ]
    },
    {
      "cell_type": "code",
      "execution_count": 13,
      "metadata": {
        "colab": {
          "base_uri": "https://localhost:8080/"
        },
        "id": "rUrKCBuycSkX",
        "outputId": "7c677529-2795-493a-a71f-923a2d2bacd9"
      },
      "outputs": [
        {
          "output_type": "stream",
          "name": "stdout",
          "text": [
            "9\n",
            "8\n",
            "9\n",
            "10\n"
          ]
        }
      ],
      "source": [
        "i = 10\n",
        "i = i - 1\n",
        "print(i)\n",
        "i -= 1\n",
        "print(i)\n",
        "i = i + 1\n",
        "print(i)\n",
        "i += 1\n",
        "print(i)"
      ]
    },
    {
      "cell_type": "code",
      "execution_count": 14,
      "metadata": {
        "colab": {
          "base_uri": "https://localhost:8080/"
        },
        "id": "hDKLib8dcSkX",
        "outputId": "c89d9d2a-40c3-4175-d29c-3c6cbba97f37"
      },
      "outputs": [
        {
          "output_type": "stream",
          "name": "stdout",
          "text": [
            "10\n",
            "10\n",
            "11\n"
          ]
        }
      ],
      "source": [
        "import math\n",
        "\n",
        "print(round(10.5)) # not standard rounding\n",
        "print(math.floor(10.5))\n",
        "print(math.ceil(10.5))"
      ]
    },
    {
      "cell_type": "markdown",
      "metadata": {
        "id": "83S51zkqcSkX"
      },
      "source": [
        "### Iterator Types"
      ]
    },
    {
      "cell_type": "code",
      "execution_count": 81,
      "metadata": {
        "id": "4Rxr-_p2cSkX"
      },
      "outputs": [],
      "source": [
        "it = iter([0,1,2,3,4,5,6,7,8,9])"
      ]
    },
    {
      "cell_type": "code",
      "execution_count": 82,
      "metadata": {
        "colab": {
          "base_uri": "https://localhost:8080/"
        },
        "id": "KQAgLLdjcSkY",
        "outputId": "1e00b036-cd16-47b4-82d7-600c75522dbc"
      },
      "outputs": [
        {
          "output_type": "stream",
          "name": "stdout",
          "text": [
            "0\n"
          ]
        }
      ],
      "source": [
        "print(next(it))"
      ]
    },
    {
      "cell_type": "markdown",
      "metadata": {
        "id": "pFgUwNQCcSkY"
      },
      "source": [
        "### Sequence Types\n",
        "list, tuple, range"
      ]
    },
    {
      "cell_type": "code",
      "execution_count": 17,
      "metadata": {
        "colab": {
          "base_uri": "https://localhost:8080/"
        },
        "id": "lwdxPOK8cSkY",
        "outputId": "696481cd-6953-4b7d-9e73-7218cb1de674"
      },
      "outputs": [
        {
          "output_type": "stream",
          "name": "stdout",
          "text": [
            "[0, 1, 2, 3, 4, 5, 6, 7, 8, 9] ('spring', 1, True) range(0, 10)\n"
          ]
        }
      ],
      "source": [
        "li = list([0,1,2,3,4,5,6,7,8,9]) # mutable sequence\n",
        "tp = tuple((\"spring\", 1, True)) # immutable sequence\n",
        "rg = range(10)\n",
        "\n",
        "print(li, tp, rg)"
      ]
    },
    {
      "cell_type": "code",
      "execution_count": 18,
      "metadata": {
        "colab": {
          "base_uri": "https://localhost:8080/"
        },
        "id": "itTpcfFQcSkY",
        "outputId": "c7d24a82-0e07-4fc7-883f-870173f2f348"
      },
      "outputs": [
        {
          "output_type": "stream",
          "name": "stdout",
          "text": [
            "10 3 10\n"
          ]
        }
      ],
      "source": [
        "# length of a sequence\n",
        "print(len(li), len(tp), len(rg))"
      ]
    },
    {
      "cell_type": "code",
      "execution_count": 19,
      "metadata": {
        "colab": {
          "base_uri": "https://localhost:8080/"
        },
        "id": "Xvn2RE5OcSkZ",
        "outputId": "f5413145-2161-41ed-fb35-cb83a39d36d6"
      },
      "outputs": [
        {
          "output_type": "stream",
          "name": "stdout",
          "text": [
            "0 1 9\n",
            "[0, 1, 2] (1, True) range(9, 7)\n"
          ]
        }
      ],
      "source": [
        "# index of a sequence\n",
        "print(li[0], tp[1], rg[-1])\n",
        "print(li[0:3], tp[1:], rg[-1:-3])"
      ]
    },
    {
      "cell_type": "code",
      "execution_count": 20,
      "metadata": {
        "colab": {
          "base_uri": "https://localhost:8080/"
        },
        "id": "QXuW2c3kcSkZ",
        "outputId": "aac90c79-a315-4c4a-9771-e0ed5679f1ce"
      },
      "outputs": [
        {
          "output_type": "stream",
          "name": "stdout",
          "text": [
            "[0, 1, 2, 3, 4, 5, 6, 7, 8, 9, 10]\n",
            "[0, 1, 2, 3, 4, 5, 6, 7, 8, 9, 10, 11]\n"
          ]
        }
      ],
      "source": [
        "li.append(10)\n",
        "print(li)\n",
        "li.extend([11])\n",
        "print(li)"
      ]
    },
    {
      "cell_type": "code",
      "execution_count": 21,
      "metadata": {
        "colab": {
          "base_uri": "https://localhost:8080/"
        },
        "id": "EC7nPOEdcSkZ",
        "outputId": "2f056969-405e-4486-be48-1381b904ba68"
      },
      "outputs": [
        {
          "output_type": "stream",
          "name": "stdout",
          "text": [
            "[0, 1, 2, 3, 4, 5, 6, 7, 8, 9, 11]\n",
            "[0, 1, 2, 3, 4, 5, 6, 7, 8, 9]\n"
          ]
        }
      ],
      "source": [
        "li.remove(10) # remove 1st 10\n",
        "print(li)\n",
        "\n",
        "del li[-1]\n",
        "print(li)"
      ]
    },
    {
      "cell_type": "code",
      "execution_count": 22,
      "metadata": {
        "colab": {
          "base_uri": "https://localhost:8080/"
        },
        "id": "6uJlVd4lcSkZ",
        "outputId": "e12ac1cb-2f74-4753-d163-7432a50a9579"
      },
      "outputs": [
        {
          "output_type": "stream",
          "name": "stdout",
          "text": [
            "[1, 2, 3, 4, 5, 6]\n",
            "[6, 5, 4, 3, 2, 1]\n"
          ]
        }
      ],
      "source": [
        "l = [5, 4, 2, 6, 1, 3]\n",
        "l.sort() # sorts the list in place\n",
        "print(l)\n",
        "l.sort(reverse = True)\n",
        "print(l)"
      ]
    },
    {
      "cell_type": "code",
      "execution_count": 23,
      "metadata": {
        "colab": {
          "base_uri": "https://localhost:8080/"
        },
        "id": "8ChOTAEtcSkZ",
        "outputId": "63aff82d-e7f2-4a47-aaa8-517fff3cf86e"
      },
      "outputs": [
        {
          "output_type": "stream",
          "name": "stdout",
          "text": [
            "('tup',)\n",
            "() 0\n",
            "1 string [1, 2, 3]\n",
            "1 2 3\n",
            "1 2 3\n"
          ]
        }
      ],
      "source": [
        "# tuple has a ugly but effective usage.\n",
        "# Ex. 1\n",
        "tup = \"tup\",\n",
        "print(tup)\n",
        "\n",
        "tup = ()\n",
        "print(tup, len(tup))\n",
        "\n",
        "# Ex. 2\n",
        "tup = (1, \"string\", [1,2,3])\n",
        "x, y, z = tup\n",
        "print(x, y, z)\n",
        "\n",
        "# Ex. 3: return one object\n",
        "def f1(x):\n",
        "    return (x, x+1, x+2)\n",
        "\n",
        "f2 = lambda x: (x, x+1, x+2)\n",
        "\n",
        "x, y, z = f1(1)\n",
        "print(x, y, z)\n",
        "x, y, z = f2(1)\n",
        "print(x, y, z)"
      ]
    },
    {
      "cell_type": "markdown",
      "metadata": {
        "id": "m8tzLAo0cSka"
      },
      "source": [
        "### Text/Binary Sequence Types\n",
        "str: a encoded string;\n",
        "bytes: binary representation of a sequence"
      ]
    },
    {
      "cell_type": "code",
      "execution_count": 24,
      "metadata": {
        "colab": {
          "base_uri": "https://localhost:8080/"
        },
        "id": "Y3ZjdirfcSka",
        "outputId": "453f1a11-0ed7-4418-8901-3e50dcb68bfc"
      },
      "outputs": [
        {
          "output_type": "stream",
          "name": "stdout",
          "text": [
            "0123\n",
            "b'0123'\n",
            "b'0123'\n",
            "0123\n",
            "b'\\xe6\\xad\\xa3\\xe9\\xab\\x94\\xe4\\xb8\\xad\\xe6\\x96\\x87'\n",
            "b'\\xa5\\xbf\\xc5\\xe9\\xa4\\xa4\\xa4\\xe5'\n"
          ]
        }
      ],
      "source": [
        "# string and binary\n",
        "st = \"0123\"\n",
        "bi = b\"0123\"\n",
        "print(st)\n",
        "print(bi)\n",
        "\n",
        "print(st.encode('utf-8'))\n",
        "print(bi.decode('utf-8'))\n",
        "\n",
        "print(\"正體中文\".encode('utf-8'))\n",
        "print(\"正體中文\".encode('big5'))"
      ]
    },
    {
      "cell_type": "code",
      "execution_count": 25,
      "metadata": {
        "colab": {
          "base_uri": "https://localhost:8080/"
        },
        "id": "WKtMdqKWcSka",
        "outputId": "affe62c4-5bea-423e-b611-259828aeadb8"
      },
      "outputs": [
        {
          "output_type": "stream",
          "name": "stdout",
          "text": [
            "True\n",
            "False\n",
            "True\n",
            "False\n"
          ]
        }
      ],
      "source": [
        "st = \"abcdefghijk\"\n",
        "\n",
        "print('a' in st)\n",
        "print(4 not in li)\n",
        "print(\"spring\" in tp)\n",
        "print(5 not in rg)"
      ]
    },
    {
      "cell_type": "code",
      "execution_count": 26,
      "metadata": {
        "colab": {
          "base_uri": "https://localhost:8080/"
        },
        "id": "4XfUdcOXcSkb",
        "outputId": "5589ab1b-1c13-4edf-cfeb-f93c1c93f366"
      },
      "outputs": [
        {
          "output_type": "stream",
          "name": "stdout",
          "text": [
            "True\n",
            "False\n",
            "True\n",
            "False\n"
          ]
        }
      ],
      "source": [
        "print(\"abc\" in st)\n",
        "print([1,2,3] in li)\n",
        "\n",
        "print(st.startswith(\"abc\"))\n",
        "print(st.endswith(\"jkl\"))"
      ]
    },
    {
      "cell_type": "code",
      "execution_count": 27,
      "metadata": {
        "colab": {
          "base_uri": "https://localhost:8080/"
        },
        "id": "2Zd0_QOWcSkb",
        "outputId": "dda46633-ae55-48a4-bfb8-03a985db57c8"
      },
      "outputs": [
        {
          "output_type": "stream",
          "name": "stdout",
          "text": [
            "abcdefghijk12345\n",
            "[0, 1, 2, 3, 4, 5, 6, 7, 8, 9, 'a', 'b', 'c', 'd', 'e', 'f', 'g', 'h', 'i', 'j', 'k']\n"
          ]
        }
      ],
      "source": [
        "print(st + \"12345\")\n",
        "print(li + list(st))"
      ]
    },
    {
      "cell_type": "code",
      "execution_count": 28,
      "metadata": {
        "colab": {
          "base_uri": "https://localhost:8080/"
        },
        "id": "3fx3pBWFcSkb",
        "outputId": "24f00a79-4a15-47a4-d758-8bd12cde0efd"
      },
      "outputs": [
        {
          "output_type": "stream",
          "name": "stdout",
          "text": [
            "abcdefghijkabcdefghijkabcdefghijkabcdefghijkabcdefghijk\n"
          ]
        }
      ],
      "source": [
        "print(st*5)"
      ]
    },
    {
      "cell_type": "code",
      "execution_count": 29,
      "metadata": {
        "colab": {
          "base_uri": "https://localhost:8080/"
        },
        "id": "IrpeM6DUcSkb",
        "outputId": "30628dd4-f1a5-4aa2-a4c9-2176adfdfb1c"
      },
      "outputs": [
        {
          "output_type": "stream",
          "name": "stdout",
          "text": [
            "11\n",
            "e\n",
            "1\n",
            "3\n"
          ]
        }
      ],
      "source": [
        "print(len(st))\n",
        "print(st[4])\n",
        "print(st.index('b'))\n",
        "print((st*3).count('f'))"
      ]
    },
    {
      "cell_type": "code",
      "execution_count": 30,
      "metadata": {
        "colab": {
          "base_uri": "https://localhost:8080/"
        },
        "id": "KUNJpyrzcSkb",
        "outputId": "3654558b-c742-4685-c1b9-52fdfd548b2a"
      },
      "outputs": [
        {
          "output_type": "stream",
          "name": "stdout",
          "text": [
            "['this', 'is', 'a', 'book']\n",
            "['line1', 'line2', 'line3']\n",
            "line1\n",
            "line2\n",
            "line3\n"
          ]
        }
      ],
      "source": [
        "# string only: split\n",
        "s = \"this is a book\"\n",
        "tokens = s.split(\" \")\n",
        "print(tokens)\n",
        "\n",
        "p = \"line1\\nline2\\nline3\\n\"\n",
        "lines = p.splitlines()\n",
        "print(lines)\n",
        "\n",
        "p = \"line1 \\n line2 \\n line3 \\n\" # has whitespace\n",
        "lines = p.splitlines()\n",
        "for l in lines:\n",
        "    print(l.strip())"
      ]
    },
    {
      "cell_type": "code",
      "execution_count": 31,
      "metadata": {
        "colab": {
          "base_uri": "https://localhost:8080/"
        },
        "id": "crIHvaevcSkc",
        "outputId": "4853cf44-e2fb-48fa-fb46-b71a037487c5"
      },
      "outputs": [
        {
          "output_type": "stream",
          "name": "stdout",
          "text": [
            "a b c 111 000\n",
            "Coordinates: 37.24N, -115.81W\n",
            "X: 3.1;  Y: 5.2\n",
            "int: 42;  hex: 2a;  oct: 52;  bin: 101010\n",
            "1,234,567,890\n",
            "Correct answers: 59.62%\n"
          ]
        }
      ],
      "source": [
        "# format\n",
        "# https://docs.python.org/3/library/stdtypes.html#printf-style-string-formatting\n",
        "\n",
        "coord = (3.1, 5.2)\n",
        "\n",
        "print(\"a b c {1} {0}\".format(\"000\", \"111\"))\n",
        "print(\"Coordinates: {latitude}, {longitude}\".format(latitude='37.24N', longitude='-115.81W'))\n",
        "print(\"X: {0[0]};  Y: {0[1]}\".format(coord))\n",
        "print(\"int: {0:d};  hex: {0:x};  oct: {0:o};  bin: {0:b}\".format(42))\n",
        "print('{:,}'.format(1234567890))\n",
        "print('Correct answers: {:.2%}'.format(coord[0]/coord[1]))"
      ]
    },
    {
      "cell_type": "code",
      "execution_count": 32,
      "metadata": {
        "colab": {
          "base_uri": "https://localhost:8080/"
        },
        "id": "dnXDRz4kcSkc",
        "outputId": "52dc653e-56b7-4c1c-be3d-accdf1cca8e5"
      },
      "outputs": [
        {
          "output_type": "stream",
          "name": "stdout",
          "text": [
            "left aligned                  \n",
            "                 right aligned\n",
            "           centered           \n",
            "***********centered***********\n"
          ]
        }
      ],
      "source": [
        "print('{:<30}'.format('left aligned'))\n",
        "print('{:>30}'.format('right aligned'))\n",
        "print('{:^30}'.format('centered'))\n",
        "print('{:*^30}'.format('centered'))"
      ]
    },
    {
      "cell_type": "code",
      "execution_count": 33,
      "metadata": {
        "colab": {
          "base_uri": "https://localhost:8080/"
        },
        "id": "-xgOvVgdcSkc",
        "outputId": "9df6e150-f017-48c4-fd44-997c66168b41"
      },
      "outputs": [
        {
          "output_type": "stream",
          "name": "stdout",
          "text": [
            "C0A80001\n"
          ]
        }
      ],
      "source": [
        "octets = [192, 168, 0, 1]\n",
        "print('{:02X}{:02X}{:02X}{:02X}'.format(*octets))"
      ]
    },
    {
      "cell_type": "code",
      "execution_count": 34,
      "metadata": {
        "colab": {
          "base_uri": "https://localhost:8080/"
        },
        "id": "PQx9DCwYcSkc",
        "outputId": "dcc78eee-6bbf-44c6-9637-c37e0eec86ea"
      },
      "outputs": [
        {
          "output_type": "stream",
          "name": "stdout",
          "text": [
            "[1, 2, 3, 1, 2, 3, 1, 2, 3]\n",
            "[[0, 0, 0], [0, 0, 0], [0, 0, 0]]\n",
            "[[0, 1, 0], [0, 1, 0], [0, 1, 0]]\n"
          ]
        }
      ],
      "source": [
        "# reference and copy\n",
        "\n",
        "li = [1,2,3]\n",
        "print(li*3)\n",
        "lists = [[0]*3]*3\n",
        "print(lists)\n",
        "lists[1][1]=1\n",
        "print(lists)"
      ]
    },
    {
      "cell_type": "code",
      "execution_count": 35,
      "metadata": {
        "colab": {
          "base_uri": "https://localhost:8080/"
        },
        "id": "jArg8iSncSkc",
        "outputId": "3dfa0264-3ed8-4d86-af92-736a4552fdc6"
      },
      "outputs": [
        {
          "output_type": "stream",
          "name": "stdout",
          "text": [
            "[1, 2, 3]\n",
            "[2, 2, 3]\n"
          ]
        }
      ],
      "source": [
        "a = [1, 2, 3]\n",
        "b = a\n",
        "print(b)\n",
        "b[0] = 2\n",
        "print(a) # b = a is a refernce copy, i.e., a is b"
      ]
    },
    {
      "cell_type": "code",
      "execution_count": 36,
      "metadata": {
        "colab": {
          "base_uri": "https://localhost:8080/"
        },
        "id": "3GpX3swQcSkd",
        "outputId": "aa7ed063-1a50-406a-cb49-051cbe913d30"
      },
      "outputs": [
        {
          "output_type": "stream",
          "name": "stdout",
          "text": [
            "[1, 2, 3]\n",
            "[2, 2, 3]\n"
          ]
        }
      ],
      "source": [
        "a = [1, 2, 3]\n",
        "b = a[:] # it is a deep copy, i.e., a is not b\n",
        "b[0] = 2\n",
        "print(a)\n",
        "print(b)"
      ]
    },
    {
      "cell_type": "code",
      "execution_count": 37,
      "metadata": {
        "colab": {
          "base_uri": "https://localhost:8080/"
        },
        "id": "cniFhII2cSkd",
        "outputId": "63722e58-c680-4c7f-f810-b80315f096f2"
      },
      "outputs": [
        {
          "output_type": "stream",
          "name": "stdout",
          "text": [
            "[[0, 0, 0], [0, 0, 0], [0, 0, 0]]\n",
            "[[0, 0, 0], [0, 0, 1], [0, 0, 0]]\n"
          ]
        }
      ],
      "source": [
        "matrix  = [[0 for x in range(3)] for x in range(3)]\n",
        "print(matrix)\n",
        "matrix[1][2] = 1\n",
        "print(matrix)"
      ]
    },
    {
      "cell_type": "code",
      "execution_count": 38,
      "metadata": {
        "colab": {
          "base_uri": "https://localhost:8080/"
        },
        "id": "Kg1nuXpZcSkd",
        "outputId": "dd0a7d77-f8d5-49fa-8efb-219e2e836461"
      },
      "outputs": [
        {
          "output_type": "stream",
          "name": "stdout",
          "text": [
            "[[1, 2, 3, 4, 1, 2, 3, 4]]\n",
            "[2, 4, 6, 8]\n",
            "[2, 4, 6, 8]\n"
          ]
        }
      ],
      "source": [
        "a = [1, 2, 3, 4]\n",
        "\n",
        "# what if I need [2, 4, 6, 8]\n",
        "b1 = [a*2] #?\n",
        "b2 = [i*2 for i in a] #?\n",
        "b3 = map(lambda x: x*2, a) #?\n",
        "\n",
        "print(b1)\n",
        "print(b2)\n",
        "print(list(b3))"
      ]
    },
    {
      "cell_type": "markdown",
      "metadata": {
        "id": "5pTJQGZLcSkd"
      },
      "source": [
        "### Set Types\n",
        "set: mutable; frozenset: immutable"
      ]
    },
    {
      "cell_type": "code",
      "execution_count": 39,
      "metadata": {
        "colab": {
          "base_uri": "https://localhost:8080/"
        },
        "id": "_sfpkFjMcSkd",
        "outputId": "e6466ac5-aea4-41c5-c703-f34617523b9a"
      },
      "outputs": [
        {
          "output_type": "stream",
          "name": "stdout",
          "text": [
            "{'this'}\n",
            "{'is', 'this', 'book', 'a'}\n",
            "4\n",
            "is {'this', 'book', 'a'} 3\n",
            "{'this', 'book'}\n",
            "set()\n"
          ]
        }
      ],
      "source": [
        "s = set()\n",
        "s.add(\"this\")\n",
        "print(s)\n",
        "s.add(\"is\")\n",
        "s.add(\"a\")\n",
        "s.add(\"book\")\n",
        "print(s)\n",
        "print(len(s))\n",
        "item = s.pop()\n",
        "print(item, s, len(s))\n",
        "s.discard(\"a\")\n",
        "print(s)\n",
        "s.clear()\n",
        "print(s)"
      ]
    },
    {
      "cell_type": "code",
      "execution_count": 40,
      "metadata": {
        "colab": {
          "base_uri": "https://localhost:8080/"
        },
        "id": "_SoG0a8hcSke",
        "outputId": "1cd277bc-77d4-4877-8b75-2c44dae9ca68"
      },
      "outputs": [
        {
          "output_type": "stream",
          "name": "stdout",
          "text": [
            "{0, 1, 2, 3, 4, 5, 6, 7, 8, 9}\n",
            "True\n",
            "{0, 1, 2, 3, 4, 5, 6, 7, 8, 9}\n",
            "True\n",
            "{0, 1, 2, 3, 4, 6, 7, 8, 9}\n",
            "True\n"
          ]
        }
      ],
      "source": [
        "s = set(range(10))\n",
        "print(s)\n",
        "print(5 in s)\n",
        "\n",
        "s.add(5)\n",
        "print(s)\n",
        "print(5 in s)\n",
        "\n",
        "s.remove(5)\n",
        "print(s)\n",
        "print(5 not in s)"
      ]
    },
    {
      "cell_type": "code",
      "execution_count": 41,
      "metadata": {
        "colab": {
          "base_uri": "https://localhost:8080/"
        },
        "id": "NCKZhQfncSke",
        "outputId": "30e943db-f644-49f3-c6d3-9b1a7b0193f2"
      },
      "outputs": [
        {
          "output_type": "stream",
          "name": "stdout",
          "text": [
            "{1, 2, 3, 4, 5, 6}\n"
          ]
        }
      ],
      "source": [
        "s = {1, 2, 2, 3, 4, 5, 6}\n",
        "print(s)"
      ]
    },
    {
      "cell_type": "code",
      "execution_count": 42,
      "metadata": {
        "id": "klrp52_AcSke"
      },
      "outputs": [],
      "source": [
        "# set has no index\n",
        "#print(s[0])"
      ]
    },
    {
      "cell_type": "code",
      "execution_count": 43,
      "metadata": {
        "colab": {
          "base_uri": "https://localhost:8080/"
        },
        "id": "UgmK0jFWcSke",
        "outputId": "5da7f05b-8233-4166-955d-b63de1eb4d36"
      },
      "outputs": [
        {
          "output_type": "stream",
          "name": "stdout",
          "text": [
            "{1, 2, 3, 4, 5, 6, 7, 8, 9}\n",
            "{4, 5, 6}\n",
            "{8, 9, 7}\n",
            "{1, 2, 3, 7, 8, 9}\n"
          ]
        }
      ],
      "source": [
        "s = {1, 2, 3, 4, 5, 6}\n",
        "t = {4, 5, 6, 7, 8, 9}\n",
        "\n",
        "a = t | s # union\n",
        "b = t & s # intersection\n",
        "c = t - s # difference\n",
        "d = t ^ s # xor\n",
        "\n",
        "print(a)\n",
        "print(b)\n",
        "print(c)\n",
        "print(d)"
      ]
    },
    {
      "cell_type": "code",
      "execution_count": 44,
      "metadata": {
        "colab": {
          "base_uri": "https://localhost:8080/"
        },
        "id": "D9bCTK_RcSke",
        "outputId": "38ba1965-20e4-46d5-a502-384052c136cf"
      },
      "outputs": [
        {
          "output_type": "stream",
          "name": "stdout",
          "text": [
            "{1, 2, 3, 4, 5, 6}\n",
            "{5, 6, 7, 8, 9, 10}\n",
            "{5, 6}\n",
            "{1, 2, 3, 4, 5, 6, 7, 8, 9, 10}\n",
            "Jaccard simialarity =  0.2\n"
          ]
        }
      ],
      "source": [
        "s1 = set([1,2,3,4,5,6])\n",
        "s2 = set([5,6,7,8,9,10])\n",
        "\n",
        "print(s1)\n",
        "print(s2)\n",
        "\n",
        "inter = s1.intersection(s2)\n",
        "union = s1.union(s2)\n",
        "\n",
        "print(inter)\n",
        "print(union)\n",
        "\n",
        "print(\"Jaccard simialarity = \", float(len(inter))/float(len(union)))"
      ]
    },
    {
      "cell_type": "markdown",
      "metadata": {
        "id": "gRr6DvbdcSke"
      },
      "source": [
        "### Mapping Types\n",
        "dict"
      ]
    },
    {
      "cell_type": "code",
      "execution_count": 45,
      "metadata": {
        "colab": {
          "base_uri": "https://localhost:8080/"
        },
        "id": "nyuQMZircSkf",
        "outputId": "72e6a23d-d533-4fc1-9953-ac7761ee7646"
      },
      "outputs": [
        {
          "output_type": "stream",
          "name": "stdout",
          "text": [
            "{'one': 1, 'two': 2, 'three': 3}\n",
            "True\n"
          ]
        }
      ],
      "source": [
        "a = dict(one=1, two=2, three=3)\n",
        "b = {'one': 1, 'two': 2, 'three': 3} # most often\n",
        "c = dict(zip(['one', 'two', 'three'], [1, 2, 3]))\n",
        "d = dict([('two', 2), ('one', 1), ('three', 3)])\n",
        "e = dict({'three': 3, 'one': 1, 'two': 2})\n",
        "print(a)\n",
        "print(a == b == c == d == e)"
      ]
    },
    {
      "cell_type": "code",
      "execution_count": 46,
      "metadata": {
        "id": "Y-kqwtorcSkf"
      },
      "outputs": [],
      "source": [
        "dic = {1: \"john\", 12: \"joe\", 34: \"george\"}"
      ]
    },
    {
      "cell_type": "code",
      "execution_count": 47,
      "metadata": {
        "colab": {
          "base_uri": "https://localhost:8080/"
        },
        "id": "KkJfnbfbcSkf",
        "outputId": "c81a9b59-bcce-410e-cc46-65a619d4ecc6"
      },
      "outputs": [
        {
          "output_type": "stream",
          "name": "stdout",
          "text": [
            "3\n",
            "1\n"
          ]
        }
      ],
      "source": [
        "print(len(d))\n",
        "print(d['one'])\n",
        "#print(d[0]) # dictionary has no index"
      ]
    },
    {
      "cell_type": "code",
      "execution_count": 48,
      "metadata": {
        "colab": {
          "base_uri": "https://localhost:8080/"
        },
        "id": "UBg-n_fOcSkf",
        "outputId": "ea71fe2a-1359-432b-8d3d-3b675e9e59f8"
      },
      "outputs": [
        {
          "output_type": "stream",
          "name": "stdout",
          "text": [
            "{'one': 1, 'two': 2, 'three': 3, 'four': 4}\n",
            "{'one': 1, 'three': 3, 'four': 4}\n",
            "True\n",
            "dict_keys(['one', 'three', 'four'])\n",
            "dict_values([1, 3, 4])\n"
          ]
        }
      ],
      "source": [
        "d = {'one': 1, 'two': 2, 'three': 3}\n",
        "d['four'] = 4 # add by key and value\n",
        "print(d)\n",
        "del d['two'] # use key to delete\n",
        "print(d)\n",
        "print('one' in d) # search by key\n",
        "print(d.keys())\n",
        "print(d.values())"
      ]
    },
    {
      "cell_type": "code",
      "execution_count": 49,
      "metadata": {
        "colab": {
          "base_uri": "https://localhost:8080/"
        },
        "id": "coZZSuRgcSkf",
        "outputId": "0694e13c-f60f-46f0-94dc-55958fa489ae"
      },
      "outputs": [
        {
          "output_type": "stream",
          "name": "stdout",
          "text": [
            "one 1\n",
            "two 2\n",
            "three 3\n"
          ]
        }
      ],
      "source": [
        "b = {'one': 1, 'two': 2, 'three': 3}\n",
        "\n",
        "for key, value in b.items():\n",
        "    print(key, value)"
      ]
    },
    {
      "cell_type": "code",
      "execution_count": 50,
      "metadata": {
        "colab": {
          "base_uri": "https://localhost:8080/"
        },
        "id": "n1Mul88FcSkf",
        "outputId": "4070b441-3c68-481e-e374-e65f2c4f0bc0"
      },
      "outputs": [
        {
          "output_type": "stream",
          "name": "stdout",
          "text": [
            "dict_keys(['one', 'two', 'three'])\n",
            "dict_values([1, 2, 3])\n"
          ]
        }
      ],
      "source": [
        "print(b.keys())\n",
        "print(b.values())"
      ]
    },
    {
      "cell_type": "code",
      "execution_count": 51,
      "metadata": {
        "colab": {
          "base_uri": "https://localhost:8080/"
        },
        "id": "kV5kyOQpcSkg",
        "outputId": "d9cc8ca1-c1d8-4867-bec3-94b0d7f95611"
      },
      "outputs": [
        {
          "output_type": "stream",
          "name": "stdout",
          "text": [
            "one 1\n",
            "two 2\n",
            "three 3\n"
          ]
        }
      ],
      "source": [
        "for k in b:\n",
        "    print(k, b[k])"
      ]
    },
    {
      "cell_type": "code",
      "execution_count": 52,
      "metadata": {
        "colab": {
          "base_uri": "https://localhost:8080/"
        },
        "id": "RnUoTgNQcSkg",
        "outputId": "79e21b75-d467-4610-a8a3-c29e615788f9"
      },
      "outputs": [
        {
          "output_type": "stream",
          "name": "stdout",
          "text": [
            "1\n",
            "2\n",
            "3\n"
          ]
        }
      ],
      "source": [
        "for v in b.values():\n",
        "    print(v)"
      ]
    },
    {
      "cell_type": "markdown",
      "metadata": {
        "id": "UIJxHe1QcSkg"
      },
      "source": [
        "### Customized Complex Types"
      ]
    },
    {
      "cell_type": "code",
      "execution_count": 53,
      "metadata": {
        "colab": {
          "base_uri": "https://localhost:8080/"
        },
        "id": "LvJW3ffOcSkg",
        "outputId": "3413e9f1-39a0-4fc7-8eed-e15164a6e2d5"
      },
      "outputs": [
        {
          "output_type": "stream",
          "name": "stdout",
          "text": [
            "[[1, 2, 3], (4, 5, 6), 'strstr', {'apple': 1, 'orange': [1, 2, 3, 4], 'egg': 'ugly', 'log': (12.3, 4.56)}]\n"
          ]
        }
      ],
      "source": [
        "my_dict = {'apple': 1, 'orange': [1, 2, 3, 4], 'egg': \"ugly\", 'log': (12.3, 4.56)}\n",
        "my_list = [[1,2,3], (4,5,6), \"strstr\", my_dict]\n",
        "\n",
        "print(my_list)"
      ]
    },
    {
      "cell_type": "markdown",
      "metadata": {
        "id": "VRtzoxkAcSkg"
      },
      "source": [
        "### List Comprehensions"
      ]
    },
    {
      "cell_type": "markdown",
      "metadata": {
        "id": "AQ6H2RkqcSkg"
      },
      "source": [
        "[0, 1, 4, 9, 16, 25, 36, 49, 64, 81]"
      ]
    },
    {
      "cell_type": "code",
      "execution_count": 54,
      "metadata": {
        "colab": {
          "base_uri": "https://localhost:8080/"
        },
        "id": "oBIkxOu2cSkg",
        "outputId": "917ebf31-d56c-4913-e18b-cdcbc50d780a"
      },
      "outputs": [
        {
          "output_type": "stream",
          "name": "stdout",
          "text": [
            "[0, 1, 4, 9, 16, 25, 36, 49, 64, 81]\n"
          ]
        }
      ],
      "source": [
        "squares = []\n",
        "for x in range(10):\n",
        "    squares.append(x**2)\n",
        "\n",
        "print(squares)"
      ]
    },
    {
      "cell_type": "code",
      "execution_count": 55,
      "metadata": {
        "colab": {
          "base_uri": "https://localhost:8080/"
        },
        "id": "rnDa3lbCcSkh",
        "outputId": "0a5f3b04-3f89-403a-ff27-293da1b0df2e"
      },
      "outputs": [
        {
          "output_type": "stream",
          "name": "stdout",
          "text": [
            "[0, 1, 4, 9, 16, 25, 36, 49, 64, 81]\n"
          ]
        }
      ],
      "source": [
        "squares = list(map(lambda x: x**2, range(10)))\n",
        "print(squares)"
      ]
    },
    {
      "cell_type": "code",
      "execution_count": 56,
      "metadata": {
        "colab": {
          "base_uri": "https://localhost:8080/"
        },
        "id": "bHG9HQAKcSkh",
        "outputId": "61007d69-f5d9-40a8-c55f-4afbfb565238"
      },
      "outputs": [
        {
          "output_type": "stream",
          "name": "stdout",
          "text": [
            "[0, 1, 4, 9, 16, 25, 36, 49, 64, 81]\n"
          ]
        }
      ],
      "source": [
        "squares = [x**2 for x in range(10)]\n",
        "print(squares)"
      ]
    },
    {
      "cell_type": "markdown",
      "metadata": {
        "id": "x2B0Vi6EcSkh"
      },
      "source": [
        "[(1, 3), (1, 4), (2, 3), (2, 1), (2, 4), (3, 1), (3, 4)]"
      ]
    },
    {
      "cell_type": "code",
      "execution_count": 57,
      "metadata": {
        "colab": {
          "base_uri": "https://localhost:8080/"
        },
        "id": "gx3liqu6cSkh",
        "outputId": "196cc5d0-38a4-4d19-c9bf-05bf91eabc0c"
      },
      "outputs": [
        {
          "output_type": "stream",
          "name": "stdout",
          "text": [
            "[(1, 3), (1, 4), (2, 3), (2, 1), (2, 4), (3, 1), (3, 4)]\n"
          ]
        }
      ],
      "source": [
        "combs = []\n",
        "for x in [1,2,3]:\n",
        "    for y in [3,1,4]:\n",
        "        if x != y:\n",
        "            combs.append((x, y))\n",
        "\n",
        "print(combs)"
      ]
    },
    {
      "cell_type": "code",
      "execution_count": 58,
      "metadata": {
        "colab": {
          "base_uri": "https://localhost:8080/"
        },
        "id": "ZFBE-FXwcSkh",
        "outputId": "4e036663-8e30-42c6-c0a2-9e7b78328271"
      },
      "outputs": [
        {
          "output_type": "execute_result",
          "data": {
            "text/plain": [
              "[(1, 3), (1, 4), (2, 3), (2, 1), (2, 4), (3, 1), (3, 4)]"
            ]
          },
          "metadata": {},
          "execution_count": 58
        }
      ],
      "source": [
        "[(x, y) for x in [1,2,3] for y in [3,1,4] if x != y]"
      ]
    },
    {
      "cell_type": "markdown",
      "metadata": {
        "id": "tyF9UoWHcSkh"
      },
      "source": [
        "comprehensions"
      ]
    },
    {
      "cell_type": "code",
      "execution_count": 59,
      "metadata": {
        "colab": {
          "base_uri": "https://localhost:8080/"
        },
        "id": "whvFOJrzcSkh",
        "outputId": "30596297-ec16-438a-9da6-006a70ce12f6"
      },
      "outputs": [
        {
          "output_type": "stream",
          "name": "stdout",
          "text": [
            "[-8, -4, 0, 4, 8]\n",
            "[0, 2, 4]\n",
            "[4, 2, 0, 2, 4]\n"
          ]
        }
      ],
      "source": [
        "vec = [-4, -2, 0, 2, 4]\n",
        "print([x*2 for x in vec])\n",
        "print([x for x in vec if x >= 0])\n",
        "print([abs(x) for x in vec])"
      ]
    },
    {
      "cell_type": "code",
      "execution_count": 60,
      "metadata": {
        "colab": {
          "base_uri": "https://localhost:8080/"
        },
        "id": "6rlIMUEQcSki",
        "outputId": "607854c9-f645-4803-a9e1-dab372875139"
      },
      "outputs": [
        {
          "output_type": "stream",
          "name": "stdout",
          "text": [
            "[1, 2, 3, 4, 5, 6, 7, 8, 9]\n"
          ]
        }
      ],
      "source": [
        "vec = [[1,2,3], [4,5,6], [7,8,9]]\n",
        "print([num for elem in vec for num in elem])"
      ]
    },
    {
      "cell_type": "code",
      "execution_count": 61,
      "metadata": {
        "colab": {
          "base_uri": "https://localhost:8080/"
        },
        "id": "mYkIamlscSki",
        "outputId": "ad55aaca-b9bc-49fd-c5fc-ac74b276feb0"
      },
      "outputs": [
        {
          "output_type": "stream",
          "name": "stdout",
          "text": [
            "['3.1', '3.14', '3.142', '3.1416', '3.14159']\n"
          ]
        }
      ],
      "source": [
        "from math import pi\n",
        "print([str(round(pi, i)) for i in range(1, 6)])"
      ]
    },
    {
      "cell_type": "markdown",
      "metadata": {
        "id": "0cDFTatfcSki"
      },
      "source": [
        "### set comprehensions"
      ]
    },
    {
      "cell_type": "code",
      "execution_count": 62,
      "metadata": {
        "colab": {
          "base_uri": "https://localhost:8080/"
        },
        "id": "1yNQlhEVcSki",
        "outputId": "81c3c552-f57a-4797-8876-4278e50fd56d"
      },
      "outputs": [
        {
          "output_type": "stream",
          "name": "stdout",
          "text": [
            "{'d', 'r'}\n"
          ]
        }
      ],
      "source": [
        "print({x for x in 'abracadabra' if x not in 'abc'})"
      ]
    },
    {
      "cell_type": "markdown",
      "metadata": {
        "id": "_bwSYOnScSki"
      },
      "source": [
        "### dict comprehensions"
      ]
    },
    {
      "cell_type": "code",
      "execution_count": 63,
      "metadata": {
        "colab": {
          "base_uri": "https://localhost:8080/"
        },
        "id": "cTi3vv90cSki",
        "outputId": "34a2a37a-cf8c-44db-ec6a-c92cdd87c433"
      },
      "outputs": [
        {
          "output_type": "stream",
          "name": "stdout",
          "text": [
            "{2: 4, 4: 16, 6: 36}\n"
          ]
        }
      ],
      "source": [
        "print({x: x**2 for x in (2, 4, 6)})"
      ]
    },
    {
      "cell_type": "markdown",
      "metadata": {
        "id": "rlZAxhiScSki"
      },
      "source": [
        "### Nested List Comprehensions"
      ]
    },
    {
      "cell_type": "code",
      "execution_count": 64,
      "metadata": {
        "id": "hNfL6b_ecSki"
      },
      "outputs": [],
      "source": [
        "matrix = [\n",
        "    [1, 2, 3, 4],\n",
        "    [5, 6, 7, 8],\n",
        "    [9, 10, 11, 12],\n",
        "]"
      ]
    },
    {
      "cell_type": "code",
      "execution_count": 65,
      "metadata": {
        "colab": {
          "base_uri": "https://localhost:8080/"
        },
        "id": "ZM5bew0GcSki",
        "outputId": "d0da8131-399d-4c64-d8f7-b7124dcec245"
      },
      "outputs": [
        {
          "output_type": "stream",
          "name": "stdout",
          "text": [
            "[[1, 5, 9], [2, 6, 10], [3, 7, 11], [4, 8, 12]]\n"
          ]
        }
      ],
      "source": [
        "transposed = []\n",
        "for i in range(4):\n",
        "    transposed_row = []\n",
        "    for row in matrix:\n",
        "        transposed_row.append(row[i])\n",
        "    transposed.append(transposed_row)\n",
        "\n",
        "print(transposed)"
      ]
    },
    {
      "cell_type": "code",
      "execution_count": 66,
      "metadata": {
        "colab": {
          "base_uri": "https://localhost:8080/"
        },
        "id": "Uouf4brLcSkj",
        "outputId": "41c73d51-059b-4aea-8cad-48e825b4fd3c"
      },
      "outputs": [
        {
          "output_type": "stream",
          "name": "stdout",
          "text": [
            "[[1, 5, 9], [2, 6, 10], [3, 7, 11], [4, 8, 12]]\n"
          ]
        }
      ],
      "source": [
        "transposed = []\n",
        "for i in range(4):\n",
        "    transposed.append([row[i] for row in matrix])\n",
        "\n",
        "print(transposed)"
      ]
    },
    {
      "cell_type": "code",
      "execution_count": 67,
      "metadata": {
        "colab": {
          "base_uri": "https://localhost:8080/"
        },
        "id": "ufjiUEDecSkj",
        "outputId": "c52217c6-409a-4dd7-f2c0-ef636cefb4c3"
      },
      "outputs": [
        {
          "output_type": "stream",
          "name": "stdout",
          "text": [
            "[[1, 5, 9], [2, 6, 10], [3, 7, 11], [4, 8, 12]]\n"
          ]
        }
      ],
      "source": [
        "print([[row[i] for row in matrix] for i in range(4)])"
      ]
    },
    {
      "cell_type": "code",
      "execution_count": 68,
      "metadata": {
        "colab": {
          "base_uri": "https://localhost:8080/"
        },
        "id": "s9EkUpOwcSkj",
        "outputId": "a47c21c8-4706-422e-813e-ef918c0cd31d"
      },
      "outputs": [
        {
          "output_type": "stream",
          "name": "stdout",
          "text": [
            "[(1, 5, 9), (2, 6, 10), (3, 7, 11), (4, 8, 12)]\n"
          ]
        }
      ],
      "source": [
        "# In the real world, you should prefer built-in functions to complex flow statements.\n",
        "\n",
        "print(list(zip(*matrix)))"
      ]
    },
    {
      "cell_type": "markdown",
      "metadata": {
        "id": "8iobuVWhcSkj"
      },
      "source": [
        "### Do not change a list while you are looping over it"
      ]
    },
    {
      "cell_type": "code",
      "execution_count": 69,
      "metadata": {
        "colab": {
          "base_uri": "https://localhost:8080/"
        },
        "id": "59nyz8dCcSkj",
        "outputId": "a200686c-ab25-492a-8664-776b8548baf1"
      },
      "outputs": [
        {
          "output_type": "stream",
          "name": "stdout",
          "text": [
            "[56.2, 51.7, 55.3, 52.5, 47.8]\n"
          ]
        }
      ],
      "source": [
        "import math\n",
        "raw_data = [56.2, float('NaN'), 51.7, 55.3, 52.5, float('NaN'), 47.8]\n",
        "filtered_data = []\n",
        "for value in raw_data:\n",
        "    if not math.isnan(value):\n",
        "        filtered_data.append(value)\n",
        "\n",
        "print(filtered_data)"
      ]
    },
    {
      "cell_type": "markdown",
      "metadata": {
        "id": "EVAF01RRcSkj"
      },
      "source": [
        "### Fun and useless"
      ]
    },
    {
      "cell_type": "code",
      "execution_count": 70,
      "metadata": {
        "colab": {
          "base_uri": "https://localhost:8080/"
        },
        "id": "veE7SpQjcSkj",
        "outputId": "690a0f4f-50e2-48b8-c91d-f5a8a137e908"
      },
      "outputs": [
        {
          "output_type": "stream",
          "name": "stdout",
          "text": [
            "True\n",
            "True\n",
            "True\n",
            "True\n",
            "True\n",
            "True\n",
            "True\n"
          ]
        }
      ],
      "source": [
        "print((1, 2, 3) < (1, 2, 4))\n",
        "print([1, 2, 3] < [1, 2, 4])\n",
        "print('ABC' < 'C' < 'Pascal' < 'Python')\n",
        "print((1, 2, 3, 4) < (1, 2, 4))\n",
        "print((1, 2) < (1, 2, -1))\n",
        "print((1, 2, 3) == (1.0, 2.0, 3.0))\n",
        "print((1, 2, ('aa', 'ab')) < (1, 2, ('abc', 'a'), 4))"
      ]
    }
  ],
  "metadata": {
    "kernelspec": {
      "display_name": "Python 3",
      "language": "python",
      "name": "python3"
    },
    "language_info": {
      "codemirror_mode": {
        "name": "ipython",
        "version": 3
      },
      "file_extension": ".py",
      "mimetype": "text/x-python",
      "name": "python",
      "nbconvert_exporter": "python",
      "pygments_lexer": "ipython3",
      "version": "3.6.7"
    },
    "colab": {
      "provenance": [],
      "toc_visible": true
    }
  },
  "nbformat": 4,
  "nbformat_minor": 0
}