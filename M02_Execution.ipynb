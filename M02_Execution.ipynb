{
  "nbformat": 4,
  "nbformat_minor": 0,
  "metadata": {
    "colab": {
      "provenance": [],
      "toc_visible": true,
      "machine_shape": "hm",
      "gpuType": "V100",
      "authorship_tag": "ABX9TyPtaP7fCbsHgWGPo0RYs7Qf"
    },
    "kernelspec": {
      "name": "python3",
      "display_name": "Python 3"
    },
    "language_info": {
      "name": "python"
    },
    "accelerator": "GPU"
  },
  "cells": [
    {
      "cell_type": "markdown",
      "source": [
        "# Execution Environment\n"
      ],
      "metadata": {
        "id": "zN9Pb8TTrE5S"
      }
    },
    {
      "cell_type": "code",
      "source": [
        "# @title\n",
        "import datetime\n",
        "print(datetime.datetime.now())"
      ],
      "metadata": {
        "colab": {
          "base_uri": "https://localhost:8080/"
        },
        "id": "xFzCq_rQrLqG",
        "outputId": "92d8f7da-f64e-44ab-83ae-08647ef939fd",
        "cellView": "form"
      },
      "execution_count": null,
      "outputs": [
        {
          "output_type": "stream",
          "name": "stdout",
          "text": [
            "2024-02-15 03:05:26.554793\n"
          ]
        }
      ]
    },
    {
      "cell_type": "markdown",
      "source": [
        "## Colab\n",
        "\n",
        "Now (2024) Colab is the only recommend tool in this class.\n"
      ],
      "metadata": {
        "id": "5cxahPVsrJYS"
      }
    },
    {
      "cell_type": "markdown",
      "source": [
        "[Google Colab](https://colab.research.google.com/notebooks/intro.ipynb?hl=zh-tw) allows you to write and execute Python in your browser, with Zero configuration required,  free access to GPUs, and easy sharing.\n",
        "\n",
        "Google provides a [3-minute video](https://www.youtube.com/watch?v=inN8seMm7UI) introducing Colab.\n",
        "\n",
        "Here are some important functionalities you MUST know before using colab. <font color=\"red\">They may make your life easier.</font>\n",
        "\n",
        "\n",
        "* **English** version of Colab can be found in \"說明\" (Help).\n",
        "* At the right-hand side of colab, you can see a new **Colab AI**. You can ask Colab AI to generate codes example or output answer of any question.\n",
        "* At the left-hand side of colab, a tab named \"**Code Snippets**\" (\"<>\") can search and insert code snippets examples to your colab. For example, you can search \"visualization\" to find several plotting code snippets.\n",
        "* You can link your **Google Drive** to your colab, or **GitHub**.\n",
        "* If you have a powerful machine, Colab lets you connect to a [local runtime](https://research.google.com/colaboratory/local-runtimes.html).\n"
      ],
      "metadata": {
        "id": "w66DuZ4frmmv"
      }
    },
    {
      "cell_type": "markdown",
      "source": [
        "### Linux Commands\n",
        "\n",
        "Colab is built on top of Linux OS. You can execute **Linux command** in colab by placing a \"!\" in front of your command, like the following example. All the listed commands can be used in your code."
      ],
      "metadata": {
        "id": "k2BPH_PSsvhz"
      }
    },
    {
      "cell_type": "code",
      "execution_count": null,
      "metadata": {
        "colab": {
          "base_uri": "https://localhost:8080/"
        },
        "id": "9DtqV9tGqvGN",
        "outputId": "2746bad4-364b-42c7-dc74-8dd983da3604"
      },
      "outputs": [
        {
          "output_type": "stream",
          "name": "stdout",
          "text": [
            "'['\t\t\t\t      mpic++\n",
            " 7z\t\t\t\t      mpicc\n",
            " 7za\t\t\t\t      mpiCC\n",
            " 7zr\t\t\t\t      mpicc.openmpi\n",
            " aclocal\t\t\t      mpiCC.openmpi\n",
            " aclocal-1.16\t\t\t      mpic++.openmpi\n",
            " acyclic\t\t\t      mpicxx\n",
            " add-apt-repository\t\t      mpicxx.openmpi\n",
            " addpart\t\t\t      mpiexec\n",
            " addr2line\t\t\t      mpiexec.openmpi\n",
            " aggregate_profile\t\t      mpif77\n",
            " apropos\t\t\t      mpif77.openmpi\n",
            " apt\t\t\t\t      mpif90\n",
            " apt-add-repository\t\t      mpif90.openmpi\n",
            " apt-cache\t\t\t      mpifort\n",
            " apt-cdrom\t\t\t      mpifort.openmpi\n",
            " apt-config\t\t\t      mpijavac\n",
            " apt-extracttemplates\t\t      mpijavac.pl\n",
            " apt-ftparchive\t\t\t      mpirun\n",
            " apt-get\t\t\t      mpirun.openmpi\n",
            " apt-key\t\t\t      mv\n",
            " apt-mark\t\t\t      mysql_config\n",
            " apt-sortpkgs\t\t\t      namei\n",
            " ar\t\t\t\t      nawk\n",
            " arch\t\t\t\t      nc-config\n",
            " as\t\t\t\t      ncurses5-config\n",
            " asan_symbolize\t\t\t      ncurses6-config\n",
            " asan_symbolize-14\t\t      ncursesw5-config\n",
            " autoconf\t\t\t      ncursesw6-config\n",
            " autoheader\t\t\t      neato\n",
            " autom4te\t\t\t      neqn\n",
            " automake\t\t\t      networkctl\n",
            " automake-1.16\t\t\t      newgrp\n",
            " autoreconf\t\t\t      nice\n",
            " autoscan\t\t\t      nisdomainname\n",
            " autoupdate\t\t\t      nl\n",
            " awk\t\t\t\t      nm\n",
            " b2\t\t\t\t      nns\n",
            " b2sum\t\t\t\t      nnsd\n",
            " base32\t\t\t\t      nnslog\n",
            " base64\t\t\t\t      nohup\n",
            " basename\t\t\t      nop\n",
            " basenc\t\t\t\t      nproc\n",
            " bash\t\t\t\t      nroff\n",
            " bashbug\t\t\t      nsenter\n",
            " bcomps\t\t\t\t      nstat\n",
            " bcp\t\t\t\t      numfmt\n",
            " bjam\t\t\t\t      nvidia-bug-report.sh\n",
            " bootctl\t\t\t      nvidia-cuda-mps-control\n",
            " browse\t\t\t\t      nvidia-cuda-mps-server\n",
            " bunzip2\t\t\t      nvidia-debugdump\n",
            " busctl\t\t\t\t      nvidia-installer\n",
            " bzcat\t\t\t\t      nvidia-modprobe\n",
            " bzcmp\t\t\t\t      nvidia-ngx-updater\n",
            " bzdiff\t\t\t\t      nvidia-persistenced\n",
            " bzegrep\t\t\t      nvidia-powerd\n",
            " bzexe\t\t\t\t      nvidia-settings\n",
            " bzfgrep\t\t\t      nvidia-sleep.sh\n",
            " bzgrep\t\t\t\t      nvidia-smi\n",
            " bzip2\t\t\t\t      nvidia-uninstall\n",
            " bzip2recover\t\t\t      nvidia-xconfig\n",
            " bzless\t\t\t\t      objcopy\n",
            " bzmore\t\t\t\t      objdump\n",
            " c++\t\t\t\t      od\n",
            " c89\t\t\t\t      ogdi-config\n",
            " c89-gcc\t\t\t      ompi-clean\n",
            " c99\t\t\t\t      ompi_info\n",
            " c99-gcc\t\t\t      ompi-server\n",
            " captoinfo\t\t\t      opalc++\n",
            " cat\t\t\t\t      opalcc\n",
            " catman\t\t\t\t      opal_wrapper\n",
            " cc\t\t\t\t      open\n",
            " ccomps\t\t\t\t      opencv_annotation\n",
            " c++filt\t\t\t      opencv_interactive-calibration\n",
            " chage\t\t\t\t      opencv_model_diagnostics\n",
            " chattr\t\t\t\t      opencv_version\n",
            " chcon\t\t\t\t      opencv_visualisation\n",
            " chfn\t\t\t\t      opencv_waldboost_detector\n",
            " chgrp\t\t\t\t      openssl\n",
            " chmod\t\t\t\t      ortecc\n",
            " choom\t\t\t\t      orte-clean\n",
            " chown\t\t\t\t      orted\n",
            " chronic\t\t\t      orte-info\n",
            " chrt\t\t\t\t      orterun\n",
            " chsh\t\t\t\t      orte-server\n",
            " circo\t\t\t\t      osage\n",
            " cksum\t\t\t\t      oshc++\n",
            " clang\t\t\t\t      oshcc\n",
            " clang++\t\t\t      oshCC\n",
            " clang++-14\t\t\t      oshcxx\n",
            " clang-14\t\t\t      oshfort\n",
            " clang-cpp-14\t\t\t      oshmem_info\n",
            " clear\t\t\t\t      oshrun\n",
            " clear_console\t\t\t      p7zip\n",
            " clinfo\t\t\t\t      pack200\n",
            " cluster\t\t\t      page\n",
            " cmake\t\t\t\t      pager\n",
            " cmp\t\t\t\t      pandoc\n",
            " col\t\t\t\t      paperconf\n",
            " colcrt\t\t\t\t      parallel\n",
            " colrm\t\t\t\t      partx\n",
            " column\t\t\t\t      passwd\n",
            " combine\t\t\t      paste\n",
            " comm\t\t\t\t      patch\n",
            " compile_et\t\t\t      patchwork\n",
            " corelist\t\t\t      pathchk\n",
            " cp\t\t\t\t      pcre2-config\n",
            " cpack\t\t\t\t      pcre-config\n",
            " cpan\t\t\t\t      pdb3\n",
            " cpan5.34-x86_64-linux-gnu\t      pdb3.10\n",
            " cpp\t\t\t\t      pee\n",
            " cpp-11\t\t\t\t      peekfd\n",
            " c_rehash\t\t\t      perl\n",
            " csplit\t\t\t\t      perl5.34.0\n",
            " ctest\t\t\t\t      perl5.34-x86_64-linux-gnu\n",
            " ctstat\t\t\t\t      perlbug\n",
            " curl\t\t\t\t      perldoc\n",
            " curl-config\t\t\t      perlivp\n",
            " cut\t\t\t\t      perlthanks\n",
            " cvtsudoers\t\t\t      pg_config\n",
            " dash\t\t\t\t      pgrep\n",
            " date\t\t\t\t      pic\n",
            " dbus-cleanup-sockets\t\t      piconv\n",
            " dbus-daemon\t\t\t      pidof\n",
            " dbus-monitor\t\t\t      pidwait\n",
            " dbus-run-session\t\t      pinentry\n",
            " dbus-send\t\t\t      pinentry-curses\n",
            " dbus-update-activation-environment   pinky\n",
            " dbus-uuidgen\t\t\t      pkaction\n",
            " dd\t\t\t\t      pkcheck\n",
            " debconf\t\t\t      pkexec\n",
            " debconf-apt-progress\t\t      pkg-config\n",
            " debconf-communicate\t\t      pkgdata\n",
            " debconf-copydb\t\t\t      pkill\n",
            " debconf-escape\t\t\t      pkttyagent\n",
            " debconf-set-selections\t\t      pl2pm\n",
            " debconf-show\t\t\t      pldd\n",
            " deb-systemd-helper\t\t      pmap\n",
            " deb-systemd-invoke\t\t      pngfix\n",
            " delpart\t\t\t      png-fix-itxt\n",
            " derb\t\t\t\t      pod2html\n",
            " df\t\t\t\t      pod2man\n",
            " dh_autotools-dev_restoreconfig       pod2text\n",
            " dh_autotools-dev_updateconfig\t      pod2usage\n",
            " diff\t\t\t\t      podchecker\n",
            " diff3\t\t\t\t      pprof-symbolize\n",
            " diffimg\t\t\t      pr\n",
            " dijkstra\t\t\t      preconv\n",
            " dir\t\t\t\t      prename\n",
            " dircolors\t\t\t      printenv\n",
            " dirmngr\t\t\t      printf\n",
            " dirmngr-client\t\t\t      prlimit\n",
            " dirname\t\t\t      profile2mat\n",
            " dmesg\t\t\t\t      protoc\n",
            " dnsdomainname\t\t\t      prove\n",
            " domainname\t\t\t      prtstat\n",
            " dot\t\t\t\t      prune\n",
            " dot2gxl\t\t\t      ps\n",
            " dot_builtins\t\t\t      pslog\n",
            " dotty\t\t\t\t      pstree\n",
            " dpkg\t\t\t\t      pstree.x11\n",
            " dpkg-architecture\t\t      pt\n",
            " dpkg-buildflags\t\t      ptar\n",
            " dpkg-buildpackage\t\t      ptardiff\n",
            " dpkg-checkbuilddeps\t\t      ptargrep\n",
            " dpkg-deb\t\t\t      ptx\n",
            " dpkg-distaddfile\t\t      pwd\n",
            " dpkg-divert\t\t\t      pwdx\n",
            " dpkg-genbuildinfo\t\t      py3clean\n",
            " dpkg-genchanges\t\t      py3compile\n",
            " dpkg-gencontrol\t\t      py3versions\n",
            " dpkg-gensymbols\t\t      pydoc3\n",
            " dpkg-maintscript-helper\t      pydoc3.10\n",
            " dpkg-mergechangelogs\t\t      pygettext3\n",
            " dpkg-name\t\t\t      pygettext3.10\n",
            " dpkg-parsechangelog\t\t      python3\n",
            " dpkg-query\t\t\t      python3.10\n",
            " dpkg-realpath\t\t\t      python3.10-config\n",
            " dpkg-scanpackages\t\t      python3-config\n",
            " dpkg-scansources\t\t      qt-faststart\n",
            " dpkg-shlibdeps\t\t\t      quickbook\n",
            " dpkg-source\t\t\t      R\n",
            " dpkg-split\t\t\t      ranlib\n",
            " dpkg-statoverride\t\t      rbash\n",
            " dpkg-trigger\t\t\t      rcp\n",
            " dpkg-vendor\t\t\t      rdma\n",
            " dtplite\t\t\t      readelf\n",
            " du\t\t\t\t      readlink\n",
            " dwp\t\t\t\t      realpath\n",
            " echo\t\t\t\t      rename\n",
            " edgepaint\t\t\t      renice\n",
            " editor\t\t\t\t      reset\n",
            " egrep\t\t\t\t      resizepart\n",
            " elfedit\t\t\t      resolvectl\n",
            " enc2xs\t\t\t\t      rev\n",
            " encguess\t\t\t      rgrep\n",
            " env\t\t\t\t      rlogin\n",
            " eqn\t\t\t\t      rm\n",
            " errno\t\t\t\t      rmdir\n",
            " ex\t\t\t\t      rmic\n",
            " expand\t\t\t\t      rmid\n",
            " expiry\t\t\t\t      rmiregistry\n",
            " expr\t\t\t\t      routef\n",
            " f77\t\t\t\t      routel\n",
            " f95\t\t\t\t      rpcgen\n",
            " factor\t\t\t\t      rrsync\n",
            " faillog\t\t\t      Rscript\n",
            " fallocate\t\t\t      rsh\n",
            " false\t\t\t\t      rsync\n",
            " fc-cache\t\t\t      rsync-ssl\n",
            " fc-cat\t\t\t\t      rtstat\n",
            " fc-conflist\t\t\t      runcon\n",
            " fc-list\t\t\t      run-parts\n",
            " fc-match\t\t\t      rview\n",
            " fc-pattern\t\t\t      rvim\n",
            " fc-query\t\t\t      savelog\n",
            " fc-scan\t\t\t      sccmap\n",
            " fc-validate\t\t\t      scp\n",
            " fdp\t\t\t\t      script\n",
            " ffmpeg\t\t\t\t      scriptlive\n",
            " ffplay\t\t\t\t      scriptreplay\n",
            " ffprobe\t\t\t      sdiff\n",
            " fgrep\t\t\t\t      sed\n",
            " file\t\t\t\t      select-editor\n",
            " file-rename\t\t\t      sensible-browser\n",
            " fincore\t\t\t      sensible-editor\n",
            " find\t\t\t\t      sensible-pager\n",
            " findmnt\t\t\t      seq\n",
            " fio\t\t\t\t      serialver\n",
            " fio2gnuplot\t\t\t      setarch\n",
            " fio-btrace2fio\t\t\t      setpriv\n",
            " fio-dedupe\t\t\t      setsid\n",
            " fio_generate_plots\t\t      setterm\n",
            " fio-genzipf\t\t\t      sfdp\n",
            " fio_jsonplus_clat2csv\t\t      sftp\n",
            " fio-verify-state\t\t      sg\n",
            " flock\t\t\t\t      sh\n",
            " fmt\t\t\t\t      sha1sum\n",
            " fold\t\t\t\t      sha224sum\n",
            " free\t\t\t\t      sha256sum\n",
            " funzip\t\t\t\t      sha384sum\n",
            " fuser\t\t\t\t      sha512sum\n",
            " fusermount\t\t\t      shasum\n",
            " g++\t\t\t\t      shmemc++\n",
            " g++-11\t\t\t\t      shmemcc\n",
            " gapplication\t\t\t      shmemCC\n",
            " gc\t\t\t\t      shmemcxx\n",
            " gcc\t\t\t\t      shmemfort\n",
            " gcc-11\t\t\t\t      shmemrun\n",
            " gcc-ar\t\t\t\t      shred\n",
            " gcc-ar-11\t\t\t      shuf\n",
            " gcc-nm\t\t\t\t      size\n",
            " gcc-nm-11\t\t\t      skill\n",
            " gcc-ranlib\t\t\t      slabtop\n",
            " gcc-ranlib-11\t\t\t      sleep\n",
            " gcov\t\t\t\t      slogin\n",
            " gcov-11\t\t\t      snice\n",
            " gcov-dump\t\t\t      soelim\n",
            " gcov-dump-11\t\t\t      sort\n",
            " gcov-tool\t\t\t      splain\n",
            " gcov-tool-11\t\t\t      split\n",
            " gdal-config\t\t\t      sponge\n",
            " gdbus\t\t\t\t      ss\n",
            " genbrk\t\t\t\t      ssh\n",
            " gencat\t\t\t\t      ssh-add\n",
            " gencfu\t\t\t\t      ssh-agent\n",
            " gencnval\t\t\t      ssh-argv0\n",
            " gendict\t\t\t      ssh-copy-id\n",
            " genfio\t\t\t\t      ssh-keygen\n",
            " genrb\t\t\t\t      ssh-keyscan\n",
            " geos-config\t\t\t      stat\n",
            " geqn\t\t\t\t      stdbuf\n",
            " getconf\t\t\t      streamzip\n",
            " getent\t\t\t\t      strings\n",
            " getopt\t\t\t\t      strip\n",
            " gfortran\t\t\t      stty\n",
            " gfortran-11\t\t\t      su\n",
            " gio\t\t\t\t      sudo\n",
            " gio-querymodules\t\t      sudoedit\n",
            " git\t\t\t\t      sudoreplay\n",
            " git-lfs\t\t\t      sum\n",
            " git-receive-pack\t\t      sync\n",
            " git-shell\t\t\t      systemctl\n",
            " git-upload-archive\t\t      systemd\n",
            " git-upload-pack\t\t      systemd-analyze\n",
            " glib-compile-schemas\t\t      systemd-ask-password\n",
            " gmake\t\t\t\t      systemd-cat\n",
            " gml2gv\t\t\t\t      systemd-cgls\n",
            " gold\t\t\t\t      systemd-cgtop\n",
            " google-pprof\t\t\t      systemd-cryptenroll\n",
            " gpasswd\t\t\t      systemd-delta\n",
            " gpg\t\t\t\t      systemd-detect-virt\n",
            " gpg2\t\t\t\t      systemd-escape\n",
            " gpg-agent\t\t\t      systemd-id128\n",
            " gpgcompose\t\t\t      systemd-inhibit\n",
            " gpgconf\t\t\t      systemd-machine-id-setup\n",
            " gpg-connect-agent\t\t      systemd-mount\n",
            " gpgparsemail\t\t\t      systemd-notify\n",
            " gpgsm\t\t\t\t      systemd-path\n",
            " gpgsplit\t\t\t      systemd-run\n",
            " gpgtar\t\t\t\t      systemd-socket-activate\n",
            " gpgv\t\t\t\t      systemd-stdio-bridge\n",
            " gpg-wks-server\t\t\t      systemd-sysext\n",
            " gpg-zip\t\t\t      systemd-sysusers\n",
            " gpic\t\t\t\t      systemd-tmpfiles\n",
            " gprof\t\t\t\t      systemd-tty-ask-password-agent\n",
            " graphml2gv\t\t\t      systemd-umount\n",
            " grep\t\t\t\t      tabs\n",
            " gresource\t\t\t      tac\n",
            " groff\t\t\t\t      tail\n",
            " grog\t\t\t\t      tar\n",
            " grops\t\t\t\t      taskset\n",
            " grotty\t\t\t\t      tbl\n",
            " groups\t\t\t\t      tcldocstrip\n",
            " gsettings\t\t\t      tclsh\n",
            " gtbl\t\t\t\t      tclsh8.6\n",
            " gtk-update-icon-cache\t\t      tcltk-depends\n",
            " gunzip\t\t\t\t      tee\n",
            " gv2gml\t\t\t\t      tempfile\n",
            " gv2gxl\t\t\t\t      test\n",
            " gvcolor\t\t\t      tic\n",
            " gvgen\t\t\t\t      timedatectl\n",
            " gvmap\t\t\t\t      timeout\n",
            " gvmap.sh\t\t\t      tload\n",
            " gvpack\t\t\t\t      tmux\n",
            " gvpr\t\t\t\t      toe\n",
            " gxl2dot\t\t\t      top\n",
            " gxl2gv\t\t\t\t      touch\n",
            " gzexe\t\t\t\t      tput\n",
            " gzip\t\t\t\t      tr\n",
            " h2ph\t\t\t\t      tred\n",
            " h2xs\t\t\t\t      troff\n",
            " h5c++\t\t\t\t      true\n",
            " h5cc\t\t\t\t      truncate\n",
            " h5fc\t\t\t\t      ts\n",
            " hardlink\t\t\t      tset\n",
            " hd\t\t\t\t      tsort\n",
            " head\t\t\t\t      tty\n",
            " helpztags\t\t\t      twopi\n",
            " hexdump\t\t\t      tzselect\n",
            " hostid\t\t\t\t      ucf\n",
            " hostname\t\t\t      ucfq\n",
            " hostnamectl\t\t\t      ucfr\n",
            " i386\t\t\t\t      uclampset\n",
            " iconv\t\t\t\t      uconv\n",
            " icuexportdata\t\t\t      ul\n",
            " icuinfo\t\t\t      ulockmgr_server\n",
            " id\t\t\t\t      umount\n",
            " ifdata\t\t\t\t      uname\n",
            " ifnames\t\t\t      uncompress\n",
            " ifne\t\t\t\t      unexpand\n",
            " infocmp\t\t\t      unflatten\n",
            " infotocap\t\t\t      uniq\n",
            " inspect\t\t\t      unlink\n",
            " install\t\t\t      unlzma\n",
            " instmodsh\t\t\t      unpack200\n",
            " ionice\t\t\t\t      unrar\n",
            " ip\t\t\t\t      unrar-nonfree\n",
            " ipcmk\t\t\t\t      unshare\n",
            " ipcrm\t\t\t\t      unxz\n",
            " ipcs\t\t\t\t      unzip\n",
            " ischroot\t\t\t      unzipsfx\n",
            " isutf8\t\t\t\t      update-alternatives\n",
            " jaotc\t\t\t\t      update-mime-database\n",
            " jar\t\t\t\t      uptime\n",
            " jarsigner\t\t\t      users\n",
            " java\t\t\t\t      utmpdump\n",
            " javac\t\t\t\t      vdir\n",
            " javadoc\t\t\t      vi\n",
            " javap\t\t\t\t      vidir\n",
            " jcmd\t\t\t\t      view\n",
            " jdb\t\t\t\t      vim\n",
            " jdeprscan\t\t\t      vim.basic\n",
            " jdeps\t\t\t\t      vimdiff\n",
            " jexec\t\t\t\t      vimdot\n",
            " jfr\t\t\t\t      vimtutor\n",
            " jhsdb\t\t\t\t      vipe\n",
            " jimage\t\t\t\t      vmstat\n",
            " jinfo\t\t\t\t      w\n",
            " jjs\t\t\t\t      wall\n",
            " jlink\t\t\t\t      watch\n",
            " jmap\t\t\t\t      watchgnupg\n",
            " jmod\t\t\t\t      wc\n",
            " join\t\t\t\t      wdctl\n",
            " journalctl\t\t\t      wget\n",
            " jps\t\t\t\t      whatis\n",
            " jrunscript\t\t\t      whereis\n",
            " jshell\t\t\t\t      which\n",
            " json_pp\t\t\t      which.debianutils\n",
            " jstack\t\t\t\t      who\n",
            " jstat\t\t\t\t      whoami\n",
            " jstatd\t\t\t\t      wish\n",
            " kbxutil\t\t\t      wish8.6\n",
            " kernel-install\t\t\t      write\n",
            " keyring\t\t\t      write.ul\n",
            " keytool\t\t\t      X11\n",
            " kill\t\t\t\t      x86_64\n",
            " killall\t\t\t      x86_64-linux-gnu-addr2line\n",
            " kmod\t\t\t\t      x86_64-linux-gnu-ar\n",
            " krb5-config\t\t\t      x86_64-linux-gnu-as\n",
            " krb5-config.mit\t\t      x86_64-linux-gnu-c++filt\n",
            " last\t\t\t\t      x86_64-linux-gnu-cpp\n",
            " lastb\t\t\t\t      x86_64-linux-gnu-cpp-11\n",
            " lastlog\t\t\t      x86_64-linux-gnu-dwp\n",
            " lcf\t\t\t\t      x86_64-linux-gnu-elfedit\n",
            " lckdo\t\t\t\t      x86_64-linux-gnu-g++\n",
            " ld\t\t\t\t      x86_64-linux-gnu-g++-11\n",
            " ld.bfd\t\t\t\t      x86_64-linux-gnu-gcc\n",
            " ldd\t\t\t\t      x86_64-linux-gnu-gcc-11\n",
            " ld.gold\t\t\t      x86_64-linux-gnu-gcc-ar\n",
            " lefty\t\t\t\t      x86_64-linux-gnu-gcc-ar-11\n",
            " less\t\t\t\t      x86_64-linux-gnu-gcc-nm\n",
            " lessecho\t\t\t      x86_64-linux-gnu-gcc-nm-11\n",
            " lessfile\t\t\t      x86_64-linux-gnu-gcc-ranlib\n",
            " lesskey\t\t\t      x86_64-linux-gnu-gcc-ranlib-11\n",
            " lesspipe\t\t\t      x86_64-linux-gnu-gcov\n",
            " lexgrog\t\t\t      x86_64-linux-gnu-gcov-11\n",
            " libnetcfg\t\t\t      x86_64-linux-gnu-gcov-dump\n",
            " libpng16-config\t\t      x86_64-linux-gnu-gcov-dump-11\n",
            " libpng-config\t\t\t      x86_64-linux-gnu-gcov-tool\n",
            " link\t\t\t\t      x86_64-linux-gnu-gcov-tool-11\n",
            " linux32\t\t\t      x86_64-linux-gnu-gfortran\n",
            " linux64\t\t\t      x86_64-linux-gnu-gfortran-11\n",
            " ln\t\t\t\t      x86_64-linux-gnu-gold\n",
            " lneato\t\t\t\t      x86_64-linux-gnu-gprof\n",
            " lnstat\t\t\t\t      x86_64-linux-gnu-ld\n",
            " locale\t\t\t\t      x86_64-linux-gnu-ld.bfd\n",
            " locale-check\t\t\t      x86_64-linux-gnu-ld.gold\n",
            " localectl\t\t\t      x86_64-linux-gnu-lto-dump-11\n",
            " localedef\t\t\t      x86_64-linux-gnu-nm\n",
            " logger\t\t\t\t      x86_64-linux-gnu-objcopy\n",
            " login\t\t\t\t      x86_64-linux-gnu-objdump\n",
            " loginctl\t\t\t      x86_64-linux-gnu-pkg-config\n",
            " logname\t\t\t      x86_64-linux-gnu-python3.10-config\n",
            " look\t\t\t\t      x86_64-linux-gnu-python3-config\n",
            " ls\t\t\t\t      x86_64-linux-gnu-ranlib\n",
            " lsattr\t\t\t\t      x86_64-linux-gnu-readelf\n",
            " lsblk\t\t\t\t      x86_64-linux-gnu-size\n",
            " lsb_release\t\t\t      x86_64-linux-gnu-strings\n",
            " lscpu\t\t\t\t      x86_64-linux-gnu-strip\n",
            " lsipc\t\t\t\t      x86_64-pc-linux-gnu-pkg-config\n",
            " lslocks\t\t\t      xargs\n",
            " lslogins\t\t\t      xauth\n",
            " lsmem\t\t\t\t      xdg-desktop-icon\n",
            " lsmod\t\t\t\t      xdg-desktop-menu\n",
            " lsns\t\t\t\t      xdg-email\n",
            " lsof\t\t\t\t      xdg-icon-resource\n",
            " lspgpot\t\t\t      xdg-mime\n",
            " lto-dump-11\t\t\t      xdg-open\n",
            " lzcat\t\t\t\t      xdg-screensaver\n",
            " lzcmp\t\t\t\t      xdg-settings\n",
            " lzdiff\t\t\t\t      xml2-config\n",
            " lzegrep\t\t\t      xsel\n",
            " lzfgrep\t\t\t      xsubpp\n",
            " lzgrep\t\t\t\t      xxd\n",
            " lzless\t\t\t\t      xz\n",
            " lzma\t\t\t\t      xzcat\n",
            " lzmainfo\t\t\t      xzcmp\n",
            " lzmore\t\t\t\t      xzdiff\n",
            " m4\t\t\t\t      xzegrep\n",
            " make\t\t\t\t      xzfgrep\n",
            " makeconv\t\t\t      xzgrep\n",
            " make-first-existing-target\t      xzless\n",
            " man\t\t\t\t      xzmore\n",
            " mandb\t\t\t\t      yes\n",
            " manpath\t\t\t      ypdomainname\n",
            " man.REAL\t\t\t      zcat\n",
            " man-recode\t\t\t      zcmp\n",
            " mawk\t\t\t\t      zdiff\n",
            " mcookie\t\t\t      zdump\n",
            " md5sum\t\t\t\t      zegrep\n",
            " md5sum.textutils\t\t      zfgrep\n",
            " mesg\t\t\t\t      zforce\n",
            " migrate-pubring-from-classic-gpg     zgrep\n",
            " mingle\t\t\t\t      zip\n",
            " mispipe\t\t\t      zipcloak\n",
            " mkdir\t\t\t\t      zipdetails\n",
            " mkfifo\t\t\t\t      zipgrep\n",
            " mknod\t\t\t\t      zipinfo\n",
            " mktemp\t\t\t\t      zipnote\n",
            " mm2gv\t\t\t\t      zipsplit\n",
            " more\t\t\t\t      zless\n",
            " mount\t\t\t\t      zmore\n",
            " mountpoint\t\t\t      znew\n",
            " mpexpand\t\t\t      zrun\n"
          ]
        }
      ],
      "source": [
        "!ls /bin/"
      ]
    },
    {
      "cell_type": "markdown",
      "source": [
        "### Magic Commands"
      ],
      "metadata": {
        "id": "3MVxjqRCszjt"
      }
    },
    {
      "cell_type": "code",
      "source": [
        "%lsmagic"
      ],
      "metadata": {
        "colab": {
          "base_uri": "https://localhost:8080/",
          "height": 285
        },
        "id": "89uQ_TxTs8DB",
        "outputId": "88664291-418f-475e-913f-27fe017067b9"
      },
      "execution_count": null,
      "outputs": [
        {
          "output_type": "execute_result",
          "data": {
            "text/plain": [
              "Available line magics:\n",
              "%alias  %alias_magic  %autoawait  %autocall  %automagic  %autosave  %bookmark  %cat  %cd  %clear  %colors  %conda  %config  %connect_info  %cp  %debug  %dhist  %dirs  %doctest_mode  %ed  %edit  %env  %gui  %hist  %history  %killbgscripts  %ldir  %less  %lf  %lk  %ll  %load  %load_ext  %loadpy  %logoff  %logon  %logstart  %logstate  %logstop  %ls  %lsmagic  %lx  %macro  %magic  %man  %matplotlib  %mkdir  %more  %mv  %notebook  %page  %pastebin  %pdb  %pdef  %pdoc  %pfile  %pinfo  %pinfo2  %pip  %popd  %pprint  %precision  %prun  %psearch  %psource  %pushd  %pwd  %pycat  %pylab  %qtconsole  %quickref  %recall  %rehashx  %reload_ext  %rep  %rerun  %reset  %reset_selective  %rm  %rmdir  %run  %save  %sc  %set_env  %shell  %store  %sx  %system  %tb  %tensorflow_version  %time  %timeit  %unalias  %unload_ext  %who  %who_ls  %whos  %xdel  %xmode\n",
              "\n",
              "Available cell magics:\n",
              "%%!  %%HTML  %%SVG  %%bash  %%bigquery  %%capture  %%debug  %%file  %%html  %%javascript  %%js  %%latex  %%markdown  %%perl  %%prun  %%pypy  %%python  %%python2  %%python3  %%ruby  %%script  %%sh  %%shell  %%svg  %%sx  %%system  %%time  %%timeit  %%writefile\n",
              "\n",
              "Automagic is ON, % prefix IS NOT needed for line magics."
            ],
            "application/json": {
              "line": {
                "automagic": "AutoMagics",
                "autocall": "AutoMagics",
                "alias_magic": "BasicMagics",
                "lsmagic": "BasicMagics",
                "magic": "BasicMagics",
                "page": "BasicMagics",
                "pprint": "BasicMagics",
                "colors": "BasicMagics",
                "xmode": "BasicMagics",
                "quickref": "BasicMagics",
                "doctest_mode": "BasicMagics",
                "gui": "BasicMagics",
                "precision": "BasicMagics",
                "notebook": "BasicMagics",
                "save": "CodeMagics",
                "pastebin": "CodeMagics",
                "loadpy": "CodeMagics",
                "load": "CodeMagics",
                "edit": "KernelMagics",
                "config": "ConfigMagics",
                "prun": "ExecutionMagics",
                "pdb": "ExecutionMagics",
                "debug": "ExecutionMagics",
                "tb": "ExecutionMagics",
                "run": "ExecutionMagics",
                "timeit": "ExecutionMagics",
                "time": "ExecutionMagics",
                "macro": "ExecutionMagics",
                "load_ext": "ExtensionMagics",
                "unload_ext": "ExtensionMagics",
                "reload_ext": "ExtensionMagics",
                "history": "HistoryMagics",
                "recall": "HistoryMagics",
                "rerun": "HistoryMagics",
                "logstart": "LoggingMagics",
                "logstop": "LoggingMagics",
                "logoff": "LoggingMagics",
                "logon": "LoggingMagics",
                "logstate": "LoggingMagics",
                "pinfo": "NamespaceMagics",
                "pinfo2": "NamespaceMagics",
                "pdef": "NamespaceMagics",
                "pdoc": "NamespaceMagics",
                "psource": "NamespaceMagics",
                "pfile": "NamespaceMagics",
                "psearch": "NamespaceMagics",
                "who_ls": "NamespaceMagics",
                "who": "NamespaceMagics",
                "whos": "NamespaceMagics",
                "reset": "NamespaceMagics",
                "reset_selective": "NamespaceMagics",
                "xdel": "NamespaceMagics",
                "alias": "OSMagics",
                "unalias": "OSMagics",
                "rehashx": "OSMagics",
                "pwd": "OSMagics",
                "cd": "OSMagics",
                "env": "OSMagics",
                "set_env": "OSMagics",
                "pushd": "OSMagics",
                "popd": "OSMagics",
                "dirs": "OSMagics",
                "dhist": "OSMagics",
                "sc": "OSMagics",
                "sx": "OSMagics",
                "system": "OSMagics",
                "bookmark": "OSMagics",
                "pycat": "OSMagics",
                "pip": "Other",
                "conda": "PackagingMagics",
                "matplotlib": "PylabMagics",
                "pylab": "PylabMagics",
                "killbgscripts": "ScriptMagics",
                "autoawait": "AsyncMagics",
                "ed": "Other",
                "hist": "Other",
                "rep": "Other",
                "clear": "KernelMagics",
                "less": "KernelMagics",
                "more": "KernelMagics",
                "man": "KernelMagics",
                "connect_info": "KernelMagics",
                "qtconsole": "KernelMagics",
                "autosave": "KernelMagics",
                "mkdir": "Other",
                "rmdir": "Other",
                "mv": "Other",
                "rm": "Other",
                "cp": "Other",
                "cat": "Other",
                "ls": "Other",
                "ll": "Other",
                "lf": "Other",
                "lk": "Other",
                "ldir": "Other",
                "lx": "Other",
                "store": "StoreMagics",
                "shell": "Other",
                "tensorflow_version": "Other"
              },
              "cell": {
                "js": "DisplayMagics",
                "javascript": "DisplayMagics",
                "latex": "DisplayMagics",
                "svg": "DisplayMagics",
                "html": "DisplayMagics",
                "markdown": "DisplayMagics",
                "prun": "ExecutionMagics",
                "debug": "ExecutionMagics",
                "timeit": "ExecutionMagics",
                "time": "ExecutionMagics",
                "capture": "ExecutionMagics",
                "sx": "OSMagics",
                "system": "OSMagics",
                "!": "OSMagics",
                "writefile": "OSMagics",
                "script": "ScriptMagics",
                "sh": "Other",
                "bash": "Other",
                "perl": "Other",
                "ruby": "Other",
                "python": "Other",
                "python2": "Other",
                "python3": "Other",
                "pypy": "Other",
                "SVG": "Other",
                "HTML": "Other",
                "file": "Other",
                "bigquery": "Other",
                "shell": "Other"
              }
            }
          },
          "metadata": {},
          "execution_count": 2
        }
      ]
    },
    {
      "cell_type": "markdown",
      "source": [
        "### HTML Tags\n",
        "\n",
        "You may use HTML tags, like <font color=\"red\">this</font>.\n",
        "Or plot vectored figure (SVG) by leveraging html magic command."
      ],
      "metadata": {
        "id": "eVICTqxhs9_1"
      }
    },
    {
      "cell_type": "code",
      "source": [
        "%%html\n",
        "<svg xmlns=\"http://www.w3.org/2000/svg\" viewBox=\"0 0 450 400\" width=\"200\" height=\"200\">\n",
        "  <rect x=\"80\" y=\"60\" width=\"250\" height=\"250\" rx=\"20\" style=\"fill:red; stroke:black; fill-opacity:0.7\" />\n",
        "  <rect x=\"180\" y=\"110\" width=\"250\" height=\"250\" rx=\"40\" style=\"fill:blue; stroke:black; fill-opacity:0.5;\" />\n",
        "</svg>"
      ],
      "metadata": {
        "colab": {
          "base_uri": "https://localhost:8080/",
          "height": 221
        },
        "id": "HYOH_XCvtMkk",
        "outputId": "a4ba87dd-71ac-4415-d252-5812995c6395"
      },
      "execution_count": null,
      "outputs": [
        {
          "output_type": "display_data",
          "data": {
            "text/plain": [
              "<IPython.core.display.HTML object>"
            ],
            "text/html": [
              "<svg xmlns=\"http://www.w3.org/2000/svg\" viewBox=\"0 0 450 400\" width=\"200\" height=\"200\">\n",
              "  <rect x=\"80\" y=\"60\" width=\"250\" height=\"250\" rx=\"20\" style=\"fill:red; stroke:black; fill-opacity:0.7\" />\n",
              "  <rect x=\"180\" y=\"110\" width=\"250\" height=\"250\" rx=\"40\" style=\"fill:blue; stroke:black; fill-opacity:0.5;\" />\n",
              "</svg>\n"
            ]
          },
          "metadata": {}
        }
      ]
    },
    {
      "cell_type": "markdown",
      "source": [
        "### LaTex\n",
        "\n",
        "High quality $\\LaTeX$ symbols, such as $$\\zeta(s) = \\sum_{n=1}^{\\infty}{\\frac{1}{n^s}}$$"
      ],
      "metadata": {
        "id": "lN40BQwOtOog"
      }
    },
    {
      "cell_type": "markdown",
      "source": [
        "## CPU and GPU\n",
        "\n",
        "\n",
        "First, you need to enable GPUs for this colab:\n",
        "[Runtime] $\\rightarrow$ [Change runtime type] $\\rightarrow$ [Hardware accelerator], select GPU from the drop-down menu.\n",
        "\n",
        "[執行階段] $\\rightarrow$ [變更執行階段類型] $\\rightarrow$ [硬體加速] 選擇 GPU。\n"
      ],
      "metadata": {
        "id": "Yj7nge4ttkDq"
      }
    },
    {
      "cell_type": "code",
      "source": [
        "import tensorflow as tf\n",
        "print(tf.__version__)"
      ],
      "metadata": {
        "colab": {
          "base_uri": "https://localhost:8080/"
        },
        "id": "OVRvrd3ps_19",
        "outputId": "00551aea-9cea-45ca-f16a-5a12809acd84"
      },
      "execution_count": null,
      "outputs": [
        {
          "output_type": "stream",
          "name": "stdout",
          "text": [
            "2.15.0\n"
          ]
        }
      ]
    },
    {
      "cell_type": "code",
      "source": [
        "for p in tf.config.list_physical_devices():\n",
        "  print(p)"
      ],
      "metadata": {
        "colab": {
          "base_uri": "https://localhost:8080/"
        },
        "id": "KYm_cnczuIC-",
        "outputId": "f9b57e19-4e43-4647-b926-dc8e9a08ab9a"
      },
      "execution_count": null,
      "outputs": [
        {
          "output_type": "stream",
          "name": "stdout",
          "text": [
            "PhysicalDevice(name='/physical_device:CPU:0', device_type='CPU')\n",
            "PhysicalDevice(name='/physical_device:GPU:0', device_type='GPU')\n"
          ]
        }
      ]
    },
    {
      "cell_type": "code",
      "source": [
        "# A simple function for performance testing\n",
        "\n",
        "import time\n",
        "\n",
        "def performanceTest(device_name, size=500):\n",
        "    # by using 'with' tf.device, we can explictly assign the computation task\n",
        "    # to a device, i.e., CPU or GPU\n",
        "    with tf.device(device_name):\n",
        "        W = tf.random.normal([size, size], name = 'W')\n",
        "        X = tf.random.normal([size, size], name = 'X')\n",
        "        mul = tf.matmul(W, X, name = 'mul') # <- matmul() has CPU & GPU version.\n",
        "        return tf.reduce_sum(mul, name = 'sum')\n",
        "\n",
        "# We run each op once to warm up; see: https://stackoverflow.com/a/45067900\n",
        "g = performanceTest(\"/device:GPU:0\")\n",
        "c = performanceTest(\"/cpu:0\")"
      ],
      "metadata": {
        "id": "dXEFUH7KuV5-"
      },
      "execution_count": null,
      "outputs": []
    },
    {
      "cell_type": "code",
      "source": [
        "import timeit\n",
        "\n",
        "gpu_li = []\n",
        "cpu_li = []\n",
        "x_li = []\n",
        "\n",
        "# iteratively execute performanceTest() with different size of parameter\n",
        "for x in range(0, 4001, 500):\n",
        "    g = timeit.timeit(stmt = \"performanceTest('device:GPU:0', {})\".format(x),\n",
        "                      setup = \"from __main__ import performanceTest\",\n",
        "                      number = 1)\n",
        "    c = timeit.timeit(stmt =  \"performanceTest('cpu:0', {})\".format(x),\n",
        "                      setup = \"from __main__ import performanceTest\",\n",
        "                      number = 1)\n",
        "    x_li.append(x)\n",
        "    gpu_li.append(g)\n",
        "    cpu_li.append(c)"
      ],
      "metadata": {
        "id": "nH2DyakDuXbO"
      },
      "execution_count": null,
      "outputs": []
    },
    {
      "cell_type": "code",
      "source": [
        "import matplotlib.pyplot as plt\n",
        "\n",
        "plt.plot(x_li, gpu_li, label = 'GPU')\n",
        "plt.plot(x_li, cpu_li, label = 'CPU')\n",
        "plt.legend()"
      ],
      "metadata": {
        "colab": {
          "base_uri": "https://localhost:8080/",
          "height": 448
        },
        "id": "W1cXXvUZuZOO",
        "outputId": "49849c89-f5c7-4196-e633-6ac01d66086d"
      },
      "execution_count": null,
      "outputs": [
        {
          "output_type": "execute_result",
          "data": {
            "text/plain": [
              "<matplotlib.legend.Legend at 0x7db0b4ae1c30>"
            ]
          },
          "metadata": {},
          "execution_count": 10
        },
        {
          "output_type": "display_data",
          "data": {
            "text/plain": [
              "<Figure size 640x480 with 1 Axes>"
            ],
            "image/png": "[encoded data removed]"
          },
          "metadata": {}
        }
      ]
    },
    {
      "cell_type": "markdown",
      "source": [
        "## Libraries"
      ],
      "metadata": {
        "id": "vHXllyz8utoY"
      }
    },
    {
      "cell_type": "markdown",
      "source": [
        "<table border = \"1\" width=\"800\">\n",
        "<tr>\n",
        "<th width=\"80\">Package</th>\n",
        "<th width=\"720\">Description</th>\n",
        "</tr>\n",
        "<tr>\n",
        "<td>Numpy</td>\n",
        "<td><a href=\"https://numpy.org/doc/stable/reference/index.html\">NumPy</a> is the fundamental package for scientific computing with Python. It contains among other things: a powerful N-dimensional <br/> array object; sophisticated (broadcasting) functions; tools for integrating C/C++ code useful linear algebra, Fourier transform, and <br/> random number capabilities. Besides its obvious scientific uses, NumPy can also be used as an efficient multi-dimensional container <br/> of generic data. Arbitrary data-types can be defined. This allows NumPy to seamlessly and speedily integrate with a wide variety of <br/> databases. </td>\n",
        "</tr>\n",
        "<tr>\n",
        "<td>SciPy</td>\n",
        "<td><a href=\"https://docs.scipy.org/doc/scipy/reference/\">SciPy</a> is a collection of mathematical algorithms and convenience functions built on the Numpy extension of Python. It adds <br/> significant power to the interactive Python session by providing the user with high-level commands and classes for manipulating and <br/> visualizing data. With SciPy an interactive Python session becomes a data-processing and system-prototyping environment <br/> rivaling systems such as MATLAB, IDL, Octave, R-Lab, and SciLab. </td>\n",
        "</tr>\n",
        "<tr>\n",
        "<td>Matplotlib</td>\n",
        "<td><a href=\"https://matplotlib.org/\">Matplotlib</a> is a Python 2D/3D plotting library which produces publication quality figures in a variety of hardcopy formats and interactive <br/> environments across platforms. Matplotlib can be used in Python scripts, the Python and IPython shell, the jupyter notebook, web <br/> application servers, and four graphical user interface toolkits.</td>\n",
        "</tr>\n",
        "<tr>\n",
        "<td>Pandas</td>\n",
        "<td><a href=\"https://pandas.pydata.org/pandas-docs/stable/\">pandas</a> is a Python package providing fast, flexible, and expressive data structures designed to make working with \"relational\" or <br/> \"labeled\" data both easy and intuitive. It aims to be the fundamental high-level building block for doing practical, real world <br/> data analysis in Python. </td>\n",
        "</tr>\n",
        "<tr>\n",
        "<td>Statsmodels</td>\n",
        "<td><a href=\"https://www.statsmodels.org/stable/index.html\">statsmodels</a> is a Python module that provides classes and functions for the estimation of many different statistical models, as well as <br/> for conducting statistical tests, and statistical data exploration. </td>\n",
        "</tr>\n",
        "<tr>\n",
        "<td>Scikit-Learn</td>\n",
        "<td><a href=\"https://scikit-learn.org/stable/\">Scikit-learn</a> is an open source machine learning library that supports supervised and unsupervised learning. It also provides various <br/> tools for model fitting, data preprocessing, model selection and evaluation, and many other utilities.\t</td>\n",
        "</tr>\n",
        "<tr>\n",
        "<td>Keras</td>\n",
        "<td><a href=\"https://keras.io/\">Keras</a> is a high-level neural networks library, written in Python and capable of running on top of TensorFlow. It was developed with a <br/> focus on enabling fast experimentation. Being able to go from idea to result with the least possible delay is key to doing good research.</td>\n",
        "</tr>\n",
        "<tr>\n",
        "<td>TensorFlow</td>\n",
        "<td><a href=\"https://www.tensorflow.org/\">TensorFlow</a> is an end-to-end open source platform for machine learning. It has a comprehensive, flexible ecosystem of tools, libraries <br/> and community resources that lets researchers push the state-of-the-art in ML and developers easily build and deploy ML powered <br/> applications.</td>\n",
        "</tr>\n",
        "\n",
        "</table>"
      ],
      "metadata": {
        "id": "7Z6J9hCuuzOU"
      }
    },
    {
      "cell_type": "markdown",
      "source": [
        "# Orange\n"
      ],
      "metadata": {
        "id": "djdF8PBgP17q"
      }
    },
    {
      "cell_type": "markdown",
      "source": [
        "Orange: Interactive data exploration for rapid qualitative analysis with clean visualizations. Graphic user interface allows you to focus on exploratory data analysis instead of coding, while clever defaults make fast prototyping of a data analysis workflow extremely easy.\n",
        "\n",
        "* Official [website](https://orangedatamining.com/)\n",
        "* [YouTube](https://www.youtube.com/channel/UClKKWBe2SCAEyv7ZNGhIe4g) Channel\n",
        "  * Getting Started with Orange [Playlist](https://www.youtube.com/playlist?list=PLmNPvQr9Tf-ZSDLwOzxpvY-HrE0yv-8Fy)\n",
        "  * Text Mining Series [Playlist](https://www.youtube.com/playlist?list=PLmNPvQr9Tf-Yirm1aN3kHGnhMofrLmEy7)\n",
        "  * Intro to Data Science [Playlist](https://www.youtube.com/playlist?list=PLmNPvQr9Tf-b_SuBdoRsuNhTmaHJ0eKab)\n",
        "  * Semantic Analysis of Text [Playlist](https://www.youtube.com/playlist?list=PLmNPvQr9Tf-YnOepDaATapDbyXJZ78vLG)"
      ],
      "metadata": {
        "id": "qLu-W8YzQFl0"
      }
    },
    {
      "cell_type": "markdown",
      "source": [
        "# Datasets\n"
      ],
      "metadata": {
        "id": "vUr7zrlaROlP"
      }
    },
    {
      "cell_type": "markdown",
      "source": [
        "## Public Datasets\n",
        "\n",
        "* [Google Dataset Search](https://datasetsearch.research.google.com/)\n",
        "* [Kaggle](https://www.kaggle.com/)\n",
        "* [Papers With Code](https://paperswithcode.com/datasets)\n",
        "* [Awesome Cybersecurity Datasets](https://github.com/shramos/Awesome-Cybersecurity-Datasets)\n",
        "* [Detecting Malicious URLs](https://www.sysnet.ucsd.edu/projects/url/)\n",
        "* [Canadian Institute for Cybersecurity](https://www.unb.ca/cic/datasets/index.html)\n",
        "* [MalwareTrainingSets](https://github.com/marcoramilli/MalwareTrainingSets)\n"
      ],
      "metadata": {
        "id": "pFI-JM_BD94z"
      }
    },
    {
      "cell_type": "markdown",
      "source": [
        "## Built-in Datasets\n",
        "\n",
        "* [scikit-learn](https://scikit-learn.org/stable/datasets.html)\n",
        "* [Tensorflow Dataset (tfds)](https://www.tensorflow.org/datasets/api_docs/python/tfds)"
      ],
      "metadata": {
        "id": "ds_cOc0gEBKs"
      }
    }
  ]
}