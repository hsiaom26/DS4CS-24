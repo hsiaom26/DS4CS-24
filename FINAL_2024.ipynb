{
  "nbformat": 4,
  "nbformat_minor": 0,
  "metadata": {
    "colab": {
      "provenance": [],
      "toc_visible": true,
      "authorship_tag": "ABX9TyMsp8lDoYmM8viwKCREu6JX"
    },
    "kernelspec": {
      "name": "python3",
      "display_name": "Python 3"
    }
  },
  "cells": [
    {
      "cell_type": "markdown",
      "metadata": {
        "id": "CIFWMbaJrhRG"
      },
      "source": [
        "## Data Science for Cybersecurity, 2024@NCCU\n",
        "\n",
        "Final, 2023/06/03 9:00 to 2021/06/12 23:59 (UTC+8)\n",
        "\n",
        "* Make sure you copy this file to YOUR OWN Google Drive before starting to take the exam.\n",
        "* You MUST upload your .ipynb (NOT a colab sharable link) to Homework Submisstion System (or send your .ipynb file to TA via email in case of any problem) **before 06/12 23:59 UTC+8**. Late submission is **NOT** allowed. You CANNOT discuss the final with anyone.\n",
        "*You CANNOT share the file with any others, except TA.\n",
        "* If possible, write comments in your file, so that TA can easily understand your codes.\n",
        "* Answer in English or Chinese.\n",
        "\n",
        "---\n",
        "\n",
        "Project, 2023/06/13 in the classroom.\n",
        "\n",
        "* Please come to the classroom, if possible.\n",
        "* Volunteer teams demo first. 1 to 2% points (of total score) will be rewareded to volunteer teams.\n",
        "* If we have enough time, let's draw a lottery to determine the order of the rest of teams."
      ]
    },
    {
      "cell_type": "markdown",
      "metadata": {
        "id": "nvf-dsJWtws6"
      },
      "source": [
        "### Question #0\n",
        "\n",
        "What is your name, department and student ID? What is your project partner's name and ID."
      ]
    },
    {
      "cell_type": "markdown",
      "metadata": {
        "id": "7AreP_-vt4Am"
      },
      "source": [
        "Answer #0\n",
        "\n",
        "Your Name:\n",
        "\n",
        "Your Department:\n",
        "\n",
        "Your Student ID:\n",
        "\n",
        "Your project name:\n",
        "\n",
        "\n",
        "---"
      ]
    },
    {
      "cell_type": "markdown",
      "source": [],
      "metadata": {
        "id": "QDq-FWtT3XY4"
      }
    },
    {
      "cell_type": "markdown",
      "metadata": {
        "id": "3F5nd1IssqRw"
      },
      "source": [
        "### Question #1\n",
        "\n",
        "What is the pros and cons of anomaly and misude intrusion dection?"
      ]
    },
    {
      "cell_type": "markdown",
      "metadata": {
        "id": "NReQVx97t6rt"
      },
      "source": [
        "Answer #1\n",
        "\n",
        "1-1 Pros of Misuse:\n",
        "\n",
        "1-2 Cons of Misuse:\n",
        "\n",
        "1-3 Pros of Anomaly:\n",
        "\n",
        "1-4 Cons of Anomaly:\n",
        "\n",
        "1-5 Why does misuse detection may not be feasible in realworld data?\n",
        "\n",
        "---"
      ]
    },
    {
      "cell_type": "markdown",
      "metadata": {
        "id": "IzZnABn8uqJh"
      },
      "source": [
        "### Question #2\n",
        "\n",
        "2-1 How to implement an anomaly detection system by an auto-encoder structure?\n",
        "\n",
        "2-2 How to implement an anomaly detection system by PCA-like algorithm?\n",
        "\n",
        "You may draw a figure to exaplain your concept."
      ]
    },
    {
      "cell_type": "markdown",
      "metadata": {
        "id": "QY14Ac21NjxD"
      },
      "source": [
        "Answer #2\n",
        "\n",
        "2-1 Autoencoder\n",
        "\n",
        "2-2 PCA\n",
        "\n",
        "---"
      ]
    },
    {
      "cell_type": "markdown",
      "metadata": {
        "id": "o_-dr9M01bf5"
      },
      "source": [
        "### Question #3\n",
        "\n",
        "Using one-hot encoding to encode an scentce (having lots of words) is impractical. What else methods can you adopt? What is the concpet behind these methods? Please describe two methods."
      ]
    },
    {
      "cell_type": "markdown",
      "metadata": {
        "id": "wLESErpy35nI"
      },
      "source": [
        "Answer #3\n",
        "\n",
        "3-1 Method 1:\n",
        "\n",
        "3-2 Method 2:\n",
        "\n",
        "---\n"
      ]
    },
    {
      "cell_type": "markdown",
      "metadata": {
        "id": "oOvV6jGc4Ax6"
      },
      "source": [
        "\n",
        "\n",
        "### Question #4\n",
        "What is the reason why we need to use a larger batch size when we try to analyze an imbalance dataset for anomaly detection?\n",
        "\n",
        "ChatGPT gives us 4 answers, but which of them is/are correct (or the best), why?\n",
        "\n",
        "\n",
        "[ChatGPT] 4.1 Enhanced Learning Stability: An imbalanced dataset can cause instability during the training process, making it difficult for the model to converge and learn effectively. By increasing the batch size, you provide the model with more diverse examples from both normal and anomalous instances, helping to stabilize the learning process and reduce the impact of the class imbalance.\n",
        "\n",
        "[ChatGPT] 4.2 Improved Anomaly Detection: Anomalies are typically rare events in the dataset. With a larger batch size, the model has a higher chance of encountering anomalous instances within each batch. This exposure to anomalies during training allows the model to better learn their distinctive characteristics, leading to improved anomaly detection performance.\n",
        "\n",
        "[ChatGPT] 4.3 Mitigation of Overfitting: In imbalanced datasets, models can easily become biased towards the majority class (normal instances) and struggle to identify anomalies effectively. Using a larger batch size can help mitigate overfitting by exposing the model to a greater number of anomalous instances, reducing the risk of solely learning the dominant class and improving generalization.\n",
        "\n",
        "[ChatGPT] 4.4 Better Gradient Estimation: Larger batch sizes provide more samples per iteration, leading to more accurate estimates of gradients during model optimization. This improved gradient estimation can help the model converge faster and more effectively, particularly when the training data is imbalanced.\n",
        "\n"
      ]
    },
    {
      "cell_type": "markdown",
      "metadata": {
        "id": "jEKKnSDiQDuT"
      },
      "source": [
        "Answer #4\n",
        "\n",
        "4-1: Which one is better? why? Or they are all incorrect?\n",
        "\n",
        "4-2: Please give me a better answer (your own sayings).\n"
      ]
    },
    {
      "cell_type": "markdown",
      "metadata": {
        "id": "On3sULsFRH_Z"
      },
      "source": [
        "###Question #5\n",
        "\n",
        "5-1. To monitor overfitting, EarlyStop is a decent solution. When should you monitor 'loss' and when should you monitor 'accuracy'?\n",
        "\n",
        "5-2. Is \"high accuracy\" always good? Give us some examples or scenarios of not pursuing \"high accuracy\" for classification problem."
      ]
    },
    {
      "cell_type": "markdown",
      "metadata": {
        "id": "8oLBZg2xScqL"
      },
      "source": [
        "Answer #5\n",
        "\n",
        "5-1:\n",
        "\n",
        "5-2 example 1:\n",
        "\n",
        "5-2 example 2:\n",
        "\n",
        "---\n"
      ]
    },
    {
      "cell_type": "markdown",
      "metadata": {
        "id": "-uPip6-kTPpu"
      },
      "source": [
        "### Question #6\n",
        "If we has sequence data, how do we make it feasible to perform clustering? Please use **keras's embedding layer**.\n",
        "\n",
        "Ref: https://www.tensorflow.org/api_docs/python/tf/keras/layers/Embedding\n",
        "\n",
        "\n",
        "Answer #6.\n",
        "\n",
        "6-1. (Write some statements to explain your idea)"
      ]
    },
    {
      "cell_type": "markdown",
      "metadata": {
        "id": "nxCoCU9uTXz8"
      },
      "source": [
        "6-2. (Write some codes to explan your idea.)\n"
      ]
    },
    {
      "cell_type": "code",
      "metadata": {
        "colab": {
          "base_uri": "https://localhost:8080/"
        },
        "id": "77BKhVNTT02u",
        "outputId": "cbdc4d6b-ec9b-4335-b9e7-a02517567528"
      },
      "source": [
        "!wget https://drive.google.com/uc?id=1lCbFfb6b1HkSSViE5Y0L8328z8DMnIfH -O seqlog9.pickle"
      ],
      "execution_count": null,
      "outputs": [
        {
          "output_type": "stream",
          "text": [
            "--2021-06-17 04:51:35--  https://drive.google.com/uc?id=1lCbFfb6b1HkSSViE5Y0L8328z8DMnIfH\n",
            "Resolving drive.google.com (drive.google.com)... 142.250.136.113, 142.250.136.138, 142.250.136.139, ...\n",
            "Connecting to drive.google.com (drive.google.com)|142.250.136.113|:443... connected.\n",
            "HTTP request sent, awaiting response... 302 Moved Temporarily\n",
            "Location: https://doc-0k-38-docs.googleusercontent.com/docs/securesc/ha0ro937gcuc7l7deffksulhg5h7mbp1/u6g3gmlmjf820mutc6b0nulsi29lud06/1623905475000/17174434063503717705/*/1lCbFfb6b1HkSSViE5Y0L8328z8DMnIfH [following]\n",
            "Warning: wildcards not supported in HTTP.\n",
            "--2021-06-17 04:51:36--  https://doc-0k-38-docs.googleusercontent.com/docs/securesc/ha0ro937gcuc7l7deffksulhg5h7mbp1/u6g3gmlmjf820mutc6b0nulsi29lud06/1623905475000/17174434063503717705/*/1lCbFfb6b1HkSSViE5Y0L8328z8DMnIfH\n",
            "Resolving doc-0k-38-docs.googleusercontent.com (doc-0k-38-docs.googleusercontent.com)... 142.250.152.132, 2607:f8b0:4001:c56::84\n",
            "Connecting to doc-0k-38-docs.googleusercontent.com (doc-0k-38-docs.googleusercontent.com)|142.250.152.132|:443... connected.\n",
            "HTTP request sent, awaiting response... 200 OK\n",
            "Length: 1602755 (1.5M) [application/octet-stream]\n",
            "Saving to: ‘seqlog9.pickle’\n",
            "\n",
            "seqlog9.pickle      100%[===================>]   1.53M  --.-KB/s    in 0.01s   \n",
            "\n",
            "2021-06-17 04:51:37 (119 MB/s) - ‘seqlog9.pickle’ saved [1602755/1602755]\n",
            "\n"
          ],
          "name": "stdout"
        }
      ]
    },
    {
      "cell_type": "code",
      "metadata": {
        "id": "N3PF7_cST4mc"
      },
      "source": [
        "import pickle\n",
        "\n",
        "with open('/content/seqlog9.pickle', 'rb') as f:\n",
        "  data = pickle.load(f)"
      ],
      "execution_count": null,
      "outputs": []
    },
    {
      "cell_type": "code",
      "metadata": {
        "colab": {
          "base_uri": "https://localhost:8080/"
        },
        "id": "LGSdJGOKT684",
        "outputId": "19c02ac0-5352-4634-bb00-2581e55bfe3c"
      },
      "source": [
        "# here are some information about the sequence dataset.\n",
        "\n",
        "print(\"data is a\", type(data))\n",
        "print(\"there are\", len(data), \"sequences in the data\")\n",
        "print()\n",
        "\n",
        "print(\"lets see the first item in the set\")\n",
        "for key in data:\n",
        "  print(\"the key of this item is\", key)\n",
        "  print(\"the type of the item is\", type(data[key]))\n",
        "  print(\"it has a list\", data[key])\n",
        "  break"
      ],
      "execution_count": null,
      "outputs": [
        {
          "output_type": "stream",
          "text": [
            "data is a <class 'dict'>\n",
            "there are 316 sequences in the data\n",
            "\n",
            "lets see the first item in the set\n",
            "the key of this item is 11feca-3240\n",
            "the type of the item is <class 'list'>\n",
            "it has a list ['LoadLibrary', 'LoadLibrary', 'LoadLibrary', 'RegQueryValue', 'LoadLibrary', 'CreateFile', 'RegQueryValue', 'RegQueryValue', 'RegEnumValue', 'LoadLibrary', 'RegQueryValue', 'LoadLibrary', 'LoadLibrary', 'RegQueryValue', 'RegQueryValue', 'RegQueryValue', 'RegQueryValue', 'LoadLibrary', 'RegQueryValue', 'RegQueryValue', 'LoadLibrary', 'RegQueryValue', 'LoadLibrary', 'CreateFile', 'RegQueryValue', 'RegQueryValue', 'RegQueryValue', 'RegQueryValue', 'RegQueryValue', 'RegQueryValue', 'RegQueryValue', 'LoadLibrary', 'RegQueryValue', 'RegQueryValue', 'RegQueryValue', 'RegQueryValue', 'RegQueryValue', 'RegQueryValue', 'RegQueryValue', 'RegQueryValue', 'RegQueryValue', 'RegQueryValue', 'RegQueryValue', 'RegQueryValue', 'RegQueryValue', 'RegQueryValue', 'RegQueryValue', 'RegQueryValue', 'CreateFile', 'CreateFile', 'CreateFile', 'RegQueryValue', 'RegQueryValue', 'CreateFile', 'RegQueryValue', 'RegQueryValue', 'CreateFile', 'CreateFile', 'RegCreateKey', 'RegSetValue', 'CreateFile', 'CreateFile', 'RegCreateKey', 'RegSetValue', 'RegQueryValue', 'RegQueryValue', 'LoadLibrary', 'LoadLibrary', 'RegQueryValue', 'RegQueryValue', 'RegQueryValue', 'RegQueryValue', 'RegQueryValue', 'RegQueryValue', 'RegQueryValue', 'RegQueryValue', 'RegQueryValue', 'RegQueryValue', 'RegQueryValue', 'RegQueryValue', 'RegQueryValue', 'RegQueryValue', 'RegQueryValue', 'RegQueryValue', 'RegQueryValue', 'RegQueryValue', 'RegQueryValue', 'RegQueryValue', 'RegQueryValue', 'RegQueryValue', 'RegQueryValue', 'RegQueryValue', 'RegQueryValue', 'RegQueryValue', 'RegQueryValue', 'RegQueryValue', 'RegEnumValue', 'RegQueryValue', 'RegQueryValue', 'RegQueryValue', 'RegEnumValue', 'RegEnumValue', 'RegEnumValue', 'RegEnumValue', 'RegEnumValue', 'RegCreateKey', 'RegQueryValue', 'RegCreateKey', 'RegSetValue', 'CreateFile', 'CreateFile', 'CreateFile', 'CreateFile', 'CreateFile', 'CreateFile']\n"
          ],
          "name": "stdout"
        }
      ]
    },
    {
      "cell_type": "code",
      "metadata": {
        "id": "HZB0v5rMUBcp"
      },
      "source": [
        "# actually the 'data' has 9 different classes\n",
        "# however, you do not know the class lable of each item\n",
        "# so you can not perform classification\n",
        "# therefore clustering might be a feasible solution.\n",
        "# now try to do clustering by using these 316 items\n",
        "# at the end, you should tell us the member of each cluster\n",
        "\n",
        "# Note that keras's input might be very differnet from our data\n",
        "# You might need to do some pre-processing."
      ],
      "execution_count": null,
      "outputs": []
    },
    {
      "cell_type": "markdown",
      "metadata": {
        "id": "017h0W49VWmB"
      },
      "source": [
        "### Question #7\n",
        "\n",
        "Do the same anaysis as Q6, but please use cbow or skip-gram (you can use fastText or any other python packages) in Q7.\n",
        "\n",
        "\n",
        "Answer #7.\n",
        "\n",
        "7-1. Is Q7 better or Q6? Why?"
      ]
    },
    {
      "cell_type": "markdown",
      "metadata": {
        "id": "a3zDTe8VV3vU"
      },
      "source": [
        "7-2. Your A7 codes here."
      ]
    },
    {
      "cell_type": "markdown",
      "metadata": {
        "id": "Q5LFJJHRUcZx"
      },
      "source": [
        "### Question #8\n",
        "\n",
        "Why a neural network can classifiy a complex data like below? Please give me a high-level explaination. Hint: layer, weight and activation funciton. Which activation is better? Why? You may use https://playground.tensorflow.org or screenshot some figure to explain your answer."
      ]
    },
    {
      "cell_type": "markdown",
      "metadata": {
        "id": "Ef6ET7xyUw15"
      },
      "source": [
        "![c.png](data:image/png;base64,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)"
      ]
    },
    {
      "cell_type": "markdown",
      "source": [
        "A8-1 (high-level explaination):\n",
        "\n",
        "A8-2 (why some activations are better):"
      ],
      "metadata": {
        "id": "K_-dHk1tIW9h"
      }
    },
    {
      "cell_type": "markdown",
      "metadata": {
        "id": "ceYUFZMUWPc1"
      },
      "source": [
        "###Question #9\n",
        "To perform dimention reduction, autoencoder and PCA could be one of the choices. Give us an example when will you choose to use AE/VAE; and another example to use PCA. What is the reasion why you choose to use these two different methods?\n",
        "\n",
        "A9:"
      ]
    },
    {
      "cell_type": "markdown",
      "metadata": {
        "id": "sJNs-xW6Wa4P"
      },
      "source": [
        "### Question #10\n",
        "I ask ChatGPT to give me an example of problem in machine learning exam. Here is the problem and answer it provides. I think the problem and answer is very basic, so please try to modify the following answers and add more methods or network or techniques to enhance the answer, such as preprocessing, autoencoder, dimension reduction, .\n",
        "\n",
        "Ther is the original problem and answer. Please <b>bold</b> your modificaitons or newly added scentences like this.  \n",
        "\n",
        "--\n",
        "\n",
        "Question by ChatGPT:\n",
        "Consider a multilayer perceptron (MLP) neural network with one hidden layer and a single output node. The input layer has 10 nodes, and the hidden layer has 5 nodes. The activation function used for both layers is the sigmoid function. You are given a dataset for binary classification, consisting of 1000 samples with 20 input features. The dataset is split into 800 samples for training and 200 samples for testing.\n",
        "\n",
        "\n",
        "a) Explain the purpose and use of the sigmoid activation function in neural networks.\n",
        "\n",
        "b) How would you evaluate the performance of this MLP on the test dataset? Provide at least two evaluation metrics and briefly explain each.\n",
        "\n",
        "c) Describe one potential problem that may arise during training of this MLP and suggest a possible solution to mitigate it.\n",
        "\n",
        "Answer by ChatGPT:\n",
        "\n",
        "a) The sigmoid activation function is commonly used in neural networks because it maps the input to a range between 0 and 1. The purpose of the sigmoid function is to introduce non-linearity into the network, allowing it to learn complex patterns in the data. The sigmoid function is especially useful in binary classification tasks, where the output can be interpreted as the probability of belonging to a particular class.\n",
        "\n",
        "b) To evaluate the performance of the MLP on the test dataset, you can use the following evaluation metrics:\n",
        "\n",
        "Accuracy: It measures the proportion of correctly classified instances in the test dataset, given by the formula: (Number of correctly classified instances / Total number of instances). It provides an overall measure of the model's predictive accuracy.\n",
        "\n",
        "c) One potential problem that may arise during training of this MLP is overfitting. Overfitting occurs when the model becomes too complex and starts to memorize the training data, leading to poor generalization on unseen data. To mitigate overfitting, some possible solutions include:\n",
        "\n",
        "Regularization techniques: Adding regularization terms, such as L1 or L2 regularization, to the loss function can help control the complexity of the model and prevent overfitting by penalizing large weights.\n",
        "\n",
        "Dropout: Dropout is a technique where randomly selected neurons are ignored during training, which reduces their co-dependency and forces the network to learn more robust and generalized features.\n",
        "\n",
        "--\n"
      ]
    },
    {
      "cell_type": "markdown",
      "source": [
        "Answer by you! I make a copy of ChatGPT's answer below and please hightlight the modification you made in **bold**.\n",
        "\n",
        "\n",
        "A10:\n",
        "\n",
        "a) The sigmoid activation function is commonly used in neural networks because it maps the input to a range between 0 and 1. The purpose of the sigmoid function is to introduce non-linearity into the network, allowing it to learn complex patterns in the data. The sigmoid function is especially useful in binary classification tasks, where the output can be interpreted as the probability of belonging to a particular class.\n",
        "\n",
        "b) To evaluate the performance of the MLP on the test dataset, you can use the following evaluation metrics:\n",
        "\n",
        "Accuracy: It measures the proportion of correctly classified instances in the test dataset, given by the formula: (Number of correctly classified instances / Total number of instances). It provides an overall measure of the model's predictive accuracy.\n",
        "\n",
        "c) One potential problem that may arise during training of this MLP is overfitting. Overfitting occurs when the model becomes too complex and starts to memorize the training data, leading to poor generalization on unseen data. To mitigate overfitting, some possible solutions include:\n",
        "\n",
        "Regularization techniques: Adding regularization terms, such as L1 or L2 regularization, to the loss function can help control the complexity of the model and prevent overfitting by penalizing large weights.\n",
        "\n",
        "Dropout: Dropout is a technique where randomly selected neurons are ignored during training, which reduces their co-dependency and forces the network to learn more robust and generalized features.\n"
      ],
      "metadata": {
        "id": "RgPOUMKTKmHB"
      }
    },
    {
      "cell_type": "markdown",
      "source": [
        "### Last Question\n",
        "\n",
        "You already finish this final. Please make sure you upload the ipynb file or send this file to TA.\n",
        "\n",
        "We encourage you to write course feedback on NCCU's i.nccu.edu.tw website. Please take some time to help TA and I to make this course better in the future.\n"
      ],
      "metadata": {
        "id": "T9IwA6cYMicn"
      }
    }
  ]
}